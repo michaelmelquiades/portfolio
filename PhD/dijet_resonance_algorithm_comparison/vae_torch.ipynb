{
 "cells": [
  {
   "cell_type": "code",
   "execution_count": 1,
   "id": "3f750ab4",
   "metadata": {},
   "outputs": [],
   "source": [
    "import pandas as pd\n",
    "import numpy as np\n",
    "import matplotlib.pyplot as plt\n",
    "import pickle as pkl\n",
    "\n",
    "from scipy.stats import chi2_contingency \n",
    "from skorch import NeuralNetRegressor\n",
    "\n",
    "from sklearn.model_selection import train_test_split\n",
    "from sklearn.preprocessing import StandardScaler, MinMaxScaler\n",
    "from scikitplot.estimators import plot_learning_curve\n",
    "\n",
    "from sklearn.model_selection import GridSearchCV\n",
    "from bayes_opt import BayesianOptimization\n",
    "from sklearn.metrics import precision_score, recall_score, f1_score, accuracy_score \n",
    "from sklearn.metrics import confusion_matrix, ConfusionMatrixDisplay\n",
    "\n",
    "import warnings"
   ]
  },
  {
   "cell_type": "code",
   "execution_count": 2,
   "id": "aeb57e73",
   "metadata": {},
   "outputs": [],
   "source": [
    "warnings.filterwarnings(\"ignore\")"
   ]
  },
  {
   "cell_type": "code",
   "execution_count": 3,
   "id": "09772f49",
   "metadata": {},
   "outputs": [],
   "source": [
    "import torch\n",
    "import torch.nn as nn\n",
    "import torch.nn.functional as F\n",
    "from torch.utils.data import DataLoader\n",
    "from tqdm import tqdm_notebook as tqdm"
   ]
  },
  {
   "cell_type": "code",
   "execution_count": 4,
   "id": "d2d64f50",
   "metadata": {},
   "outputs": [],
   "source": [
    "device = torch.device('cuda' if torch.cuda.is_available() else 'cpu')"
   ]
  },
  {
   "cell_type": "code",
   "execution_count": 5,
   "id": "6c2098b8",
   "metadata": {},
   "outputs": [],
   "source": [
    "df = pd.read_csv('df_bkg_sample.csv')"
   ]
  },
  {
   "cell_type": "code",
   "execution_count": 6,
   "id": "f9f778af",
   "metadata": {},
   "outputs": [
    {
     "data": {
      "text/html": [
       "<div>\n",
       "<style scoped>\n",
       "    .dataframe tbody tr th:only-of-type {\n",
       "        vertical-align: middle;\n",
       "    }\n",
       "\n",
       "    .dataframe tbody tr th {\n",
       "        vertical-align: top;\n",
       "    }\n",
       "\n",
       "    .dataframe thead th {\n",
       "        text-align: right;\n",
       "    }\n",
       "</style>\n",
       "<table border=\"1\" class=\"dataframe\">\n",
       "  <thead>\n",
       "    <tr style=\"text-align: right;\">\n",
       "      <th></th>\n",
       "      <th>ungr_lead</th>\n",
       "      <th>ungr_sub</th>\n",
       "      <th>mjj</th>\n",
       "      <th>eta_lead</th>\n",
       "      <th>eta_sub</th>\n",
       "      <th>pt_asym</th>\n",
       "      <th>dyjj</th>\n",
       "      <th>labels</th>\n",
       "    </tr>\n",
       "  </thead>\n",
       "  <tbody>\n",
       "    <tr>\n",
       "      <th>166589</th>\n",
       "      <td>20</td>\n",
       "      <td>23</td>\n",
       "      <td>5576.9194</td>\n",
       "      <td>0.368432</td>\n",
       "      <td>0.348929</td>\n",
       "      <td>309.501950</td>\n",
       "      <td>0.019837</td>\n",
       "      <td>0</td>\n",
       "    </tr>\n",
       "    <tr>\n",
       "      <th>1075449</th>\n",
       "      <td>24</td>\n",
       "      <td>35</td>\n",
       "      <td>1978.8964</td>\n",
       "      <td>-1.269925</td>\n",
       "      <td>-0.537691</td>\n",
       "      <td>101.955444</td>\n",
       "      <td>0.742328</td>\n",
       "      <td>0</td>\n",
       "    </tr>\n",
       "    <tr>\n",
       "      <th>1284563</th>\n",
       "      <td>44</td>\n",
       "      <td>67</td>\n",
       "      <td>2036.2617</td>\n",
       "      <td>-0.343261</td>\n",
       "      <td>-0.219767</td>\n",
       "      <td>14.143127</td>\n",
       "      <td>0.146889</td>\n",
       "      <td>0</td>\n",
       "    </tr>\n",
       "    <tr>\n",
       "      <th>324893</th>\n",
       "      <td>35</td>\n",
       "      <td>37</td>\n",
       "      <td>2669.7470</td>\n",
       "      <td>0.849239</td>\n",
       "      <td>-1.731860</td>\n",
       "      <td>4.794556</td>\n",
       "      <td>2.551962</td>\n",
       "      <td>0</td>\n",
       "    </tr>\n",
       "    <tr>\n",
       "      <th>46484</th>\n",
       "      <td>51</td>\n",
       "      <td>39</td>\n",
       "      <td>2128.3455</td>\n",
       "      <td>0.800568</td>\n",
       "      <td>0.815687</td>\n",
       "      <td>48.037964</td>\n",
       "      <td>0.013934</td>\n",
       "      <td>0</td>\n",
       "    </tr>\n",
       "    <tr>\n",
       "      <th>...</th>\n",
       "      <td>...</td>\n",
       "      <td>...</td>\n",
       "      <td>...</td>\n",
       "      <td>...</td>\n",
       "      <td>...</td>\n",
       "      <td>...</td>\n",
       "      <td>...</td>\n",
       "      <td>...</td>\n",
       "    </tr>\n",
       "    <tr>\n",
       "      <th>110268</th>\n",
       "      <td>29</td>\n",
       "      <td>30</td>\n",
       "      <td>4212.6426</td>\n",
       "      <td>-1.253183</td>\n",
       "      <td>1.978422</td>\n",
       "      <td>247.874700</td>\n",
       "      <td>3.211114</td>\n",
       "      <td>0</td>\n",
       "    </tr>\n",
       "    <tr>\n",
       "      <th>1692743</th>\n",
       "      <td>27</td>\n",
       "      <td>33</td>\n",
       "      <td>1969.8221</td>\n",
       "      <td>-0.485294</td>\n",
       "      <td>-0.205480</td>\n",
       "      <td>191.383670</td>\n",
       "      <td>0.277194</td>\n",
       "      <td>0</td>\n",
       "    </tr>\n",
       "    <tr>\n",
       "      <th>2356330</th>\n",
       "      <td>22</td>\n",
       "      <td>33</td>\n",
       "      <td>5261.3525</td>\n",
       "      <td>-0.523453</td>\n",
       "      <td>0.242016</td>\n",
       "      <td>543.455100</td>\n",
       "      <td>0.762695</td>\n",
       "      <td>0</td>\n",
       "    </tr>\n",
       "    <tr>\n",
       "      <th>2229084</th>\n",
       "      <td>66</td>\n",
       "      <td>27</td>\n",
       "      <td>2224.1710</td>\n",
       "      <td>0.634813</td>\n",
       "      <td>-0.833996</td>\n",
       "      <td>204.575200</td>\n",
       "      <td>1.407361</td>\n",
       "      <td>0</td>\n",
       "    </tr>\n",
       "    <tr>\n",
       "      <th>2219110</th>\n",
       "      <td>26</td>\n",
       "      <td>42</td>\n",
       "      <td>1617.9154</td>\n",
       "      <td>1.002954</td>\n",
       "      <td>0.956942</td>\n",
       "      <td>289.465400</td>\n",
       "      <td>0.049826</td>\n",
       "      <td>0</td>\n",
       "    </tr>\n",
       "  </tbody>\n",
       "</table>\n",
       "<p>2480842 rows × 8 columns</p>\n",
       "</div>"
      ],
      "text/plain": [
       "         ungr_lead  ungr_sub        mjj  eta_lead   eta_sub     pt_asym  \\\n",
       "166589          20        23  5576.9194  0.368432  0.348929  309.501950   \n",
       "1075449         24        35  1978.8964 -1.269925 -0.537691  101.955444   \n",
       "1284563         44        67  2036.2617 -0.343261 -0.219767   14.143127   \n",
       "324893          35        37  2669.7470  0.849239 -1.731860    4.794556   \n",
       "46484           51        39  2128.3455  0.800568  0.815687   48.037964   \n",
       "...            ...       ...        ...       ...       ...         ...   \n",
       "110268          29        30  4212.6426 -1.253183  1.978422  247.874700   \n",
       "1692743         27        33  1969.8221 -0.485294 -0.205480  191.383670   \n",
       "2356330         22        33  5261.3525 -0.523453  0.242016  543.455100   \n",
       "2229084         66        27  2224.1710  0.634813 -0.833996  204.575200   \n",
       "2219110         26        42  1617.9154  1.002954  0.956942  289.465400   \n",
       "\n",
       "             dyjj  labels  \n",
       "166589   0.019837       0  \n",
       "1075449  0.742328       0  \n",
       "1284563  0.146889       0  \n",
       "324893   2.551962       0  \n",
       "46484    0.013934       0  \n",
       "...           ...     ...  \n",
       "110268   3.211114       0  \n",
       "1692743  0.277194       0  \n",
       "2356330  0.762695       0  \n",
       "2229084  1.407361       0  \n",
       "2219110  0.049826       0  \n",
       "\n",
       "[2480842 rows x 8 columns]"
      ]
     },
     "execution_count": 6,
     "metadata": {},
     "output_type": "execute_result"
    }
   ],
   "source": [
    "df = df.sample(frac=1., random_state=42)\n",
    "df"
   ]
  },
  {
   "cell_type": "code",
   "execution_count": 7,
   "id": "7e8acea7",
   "metadata": {},
   "outputs": [],
   "source": [
    "features = df.iloc[:, :-1]\n",
    "labels = df.labels"
   ]
  },
  {
   "cell_type": "code",
   "execution_count": 8,
   "id": "2e0a3d38",
   "metadata": {},
   "outputs": [],
   "source": [
    "x_train, x_test, y_train, y_test = train_test_split(features, labels, test_size=0.2, random_state=42)"
   ]
  },
  {
   "cell_type": "code",
   "execution_count": 9,
   "id": "6920f33e",
   "metadata": {},
   "outputs": [],
   "source": [
    "val_set = pd.DataFrame(x_test).sample(frac=0.33, random_state=42)"
   ]
  },
  {
   "cell_type": "code",
   "execution_count": 10,
   "id": "86c4eb27",
   "metadata": {},
   "outputs": [],
   "source": [
    "x_test = pd.DataFrame(x_test).drop(index=val_set.index).values"
   ]
  },
  {
   "cell_type": "code",
   "execution_count": 11,
   "id": "80f775cf",
   "metadata": {},
   "outputs": [],
   "source": [
    "#scaler = StandardScaler()\n",
    "scaler = MinMaxScaler()\n",
    "x_train = scaler.fit_transform(x_train)\n",
    "x_test = scaler.fit_transform(x_test)\n",
    "val_set = scaler.fit_transform(val_set)"
   ]
  },
  {
   "cell_type": "code",
   "execution_count": 23,
   "id": "74af58b2",
   "metadata": {},
   "outputs": [],
   "source": [
    "loss_fn = nn.MSELoss()"
   ]
  },
  {
   "cell_type": "code",
   "execution_count": 12,
   "id": "9ecd7c56",
   "metadata": {},
   "outputs": [],
   "source": [
    "class VAE(nn.Module):\n",
    "    def __init__(self, input_dim = 7, h_dim = 16, z_dim = 10):\n",
    "        super().__init__()\n",
    "        #encoder\n",
    "        self.dat_2hid = nn.Linear(input_dim, h_dim)\n",
    "        self.hid_2mu = nn.Linear(h_dim, z_dim)\n",
    "        self.hid_2sigma = nn.Linear(h_dim, z_dim)\n",
    "        #decoder\n",
    "        self.z_2hid = nn.Linear(z_dim, h_dim)\n",
    "        self.hid_2dat = nn.Linear(h_dim, input_dim)\n",
    "    \n",
    "        self.relu = nn.ReLU()\n",
    "        \n",
    "    def encode(self, x):\n",
    "        h = self.relu(self.dat_2hid(x))\n",
    "        mu, sigma = self.hid_2mu(h), self.hid_2sigma(h)\n",
    "        return mu, sigma\n",
    "    \n",
    "    def decode(self, z):\n",
    "        h = self.relu(self.z_2hid(z))\n",
    "        return torch.sigmoid(self.hid_2dat(h))\n",
    "    \n",
    "    def forward(self, x):\n",
    "        mu, sigma = self.encode(x)\n",
    "        epsilon = torch.randn_like(sigma)\n",
    "        z_reparam = mu+sigma*epsilon\n",
    "        x_recon = self.decode(z_reparam)\n",
    "        return x_recon, mu, sigma"
   ]
  },
  {
   "cell_type": "code",
   "execution_count": 13,
   "id": "f57737d7",
   "metadata": {},
   "outputs": [],
   "source": [
    "input_dim = 7\n",
    "h_dim = 16#32\n",
    "z_dim = 10#2\n",
    "epochs = 5#10\n",
    "batch_size = 32\n",
    "lr = 1e-5"
   ]
  },
  {
   "cell_type": "code",
   "execution_count": 14,
   "id": "f3fe03d0",
   "metadata": {},
   "outputs": [
    {
     "data": {
      "text/plain": [
       "(1984673, 7)"
      ]
     },
     "execution_count": 14,
     "metadata": {},
     "output_type": "execute_result"
    }
   ],
   "source": [
    "x_train.shape"
   ]
  },
  {
   "cell_type": "code",
   "execution_count": 15,
   "id": "7913e2e1",
   "metadata": {},
   "outputs": [],
   "source": [
    "train_loader = DataLoader(dataset = x_train.astype(np.float32), batch_size=batch_size, shuffle = True)\n",
    "valid_loader = DataLoader(dataset=val_set.astype(np.float32), batch_size=batch_size, shuffle = True)"
   ]
  },
  {
   "cell_type": "code",
   "execution_count": 16,
   "id": "40eb4468",
   "metadata": {},
   "outputs": [],
   "source": [
    "model = VAE(input_dim, h_dim, z_dim).to(device)\n",
    "optimizer = torch.optim.Adam(model.parameters(), lr=lr)"
   ]
  },
  {
   "cell_type": "markdown",
   "id": "e97c70b4",
   "metadata": {},
   "source": [
    "## Optimization with gridsearchcv"
   ]
  },
  {
   "cell_type": "code",
   "execution_count": 17,
   "id": "bb42990a",
   "metadata": {},
   "outputs": [],
   "source": [
    "net = NeuralNetRegressor(VAE)"
   ]
  },
  {
   "cell_type": "code",
   "execution_count": 18,
   "id": "c96c10cd",
   "metadata": {},
   "outputs": [
    {
     "data": {
      "text/plain": [
       "<class 'skorch.regressor.NeuralNetRegressor'>[uninitialized](\n",
       "  module=<class '__main__.VAE'>,\n",
       ")"
      ]
     },
     "execution_count": 18,
     "metadata": {},
     "output_type": "execute_result"
    }
   ],
   "source": [
    "net.set_params(train_split=False, verbose=0)"
   ]
  },
  {
   "cell_type": "code",
   "execution_count": 121,
   "id": "9a591d43",
   "metadata": {},
   "outputs": [
    {
     "name": "stdout",
     "output_type": "stream",
     "text": [
      "Fitting 5 folds for each of 18 candidates, totalling 90 fits\n",
      "[CV] END ...max_epochs=5, module__h_dim=16, module__z_dim=10; total time=   0.0s\n",
      "[CV] END ...max_epochs=5, module__h_dim=16, module__z_dim=10; total time=   0.0s\n",
      "[CV] END ...max_epochs=5, module__h_dim=16, module__z_dim=10; total time=   0.0s\n",
      "[CV] END ...max_epochs=5, module__h_dim=16, module__z_dim=10; total time=   0.0s\n",
      "[CV] END ...max_epochs=5, module__h_dim=16, module__z_dim=10; total time=   0.0s\n",
      "[CV] END ...max_epochs=5, module__h_dim=16, module__z_dim=20; total time=   0.0s\n",
      "[CV] END ...max_epochs=5, module__h_dim=16, module__z_dim=20; total time=   0.0s\n",
      "[CV] END ...max_epochs=5, module__h_dim=16, module__z_dim=20; total time=   0.0s\n",
      "[CV] END ...max_epochs=5, module__h_dim=16, module__z_dim=20; total time=   0.0s\n",
      "[CV] END ...max_epochs=5, module__h_dim=16, module__z_dim=20; total time=   0.0s\n",
      "[CV] END ...max_epochs=5, module__h_dim=32, module__z_dim=10; total time=   0.0s\n",
      "[CV] END ...max_epochs=5, module__h_dim=32, module__z_dim=10; total time=   0.0s\n",
      "[CV] END ...max_epochs=5, module__h_dim=32, module__z_dim=10; total time=   0.0s\n",
      "[CV] END ...max_epochs=5, module__h_dim=32, module__z_dim=10; total time=   0.0s\n",
      "[CV] END ...max_epochs=5, module__h_dim=32, module__z_dim=10; total time=   0.0s\n",
      "[CV] END ...max_epochs=5, module__h_dim=32, module__z_dim=20; total time=   0.0s\n",
      "[CV] END ...max_epochs=5, module__h_dim=32, module__z_dim=20; total time=   0.0s\n",
      "[CV] END ...max_epochs=5, module__h_dim=32, module__z_dim=20; total time=   0.0s\n",
      "[CV] END ...max_epochs=5, module__h_dim=32, module__z_dim=20; total time=   0.0s\n",
      "[CV] END ...max_epochs=5, module__h_dim=32, module__z_dim=20; total time=   0.0s\n",
      "[CV] END ...max_epochs=5, module__h_dim=64, module__z_dim=10; total time=   0.0s\n",
      "[CV] END ...max_epochs=5, module__h_dim=64, module__z_dim=10; total time=   0.0s\n",
      "[CV] END ...max_epochs=5, module__h_dim=64, module__z_dim=10; total time=   0.0s\n",
      "[CV] END ...max_epochs=5, module__h_dim=64, module__z_dim=10; total time=   0.0s\n",
      "[CV] END ...max_epochs=5, module__h_dim=64, module__z_dim=10; total time=   0.0s\n",
      "[CV] END ...max_epochs=5, module__h_dim=64, module__z_dim=20; total time=   0.0s\n",
      "[CV] END ...max_epochs=5, module__h_dim=64, module__z_dim=20; total time=   0.0s\n",
      "[CV] END ...max_epochs=5, module__h_dim=64, module__z_dim=20; total time=   0.0s\n",
      "[CV] END ...max_epochs=5, module__h_dim=64, module__z_dim=20; total time=   0.0s\n",
      "[CV] END ...max_epochs=5, module__h_dim=64, module__z_dim=20; total time=   0.0s\n",
      "[CV] END ..max_epochs=10, module__h_dim=16, module__z_dim=10; total time=   0.0s\n",
      "[CV] END ..max_epochs=10, module__h_dim=16, module__z_dim=10; total time=   0.0s\n",
      "[CV] END ..max_epochs=10, module__h_dim=16, module__z_dim=10; total time=   0.0s\n",
      "[CV] END ..max_epochs=10, module__h_dim=16, module__z_dim=10; total time=   0.0s\n",
      "[CV] END ..max_epochs=10, module__h_dim=16, module__z_dim=10; total time=   0.0s\n",
      "[CV] END ..max_epochs=10, module__h_dim=16, module__z_dim=20; total time=   0.0s\n",
      "[CV] END ..max_epochs=10, module__h_dim=16, module__z_dim=20; total time=   0.0s\n",
      "[CV] END ..max_epochs=10, module__h_dim=16, module__z_dim=20; total time=   0.0s\n",
      "[CV] END ..max_epochs=10, module__h_dim=16, module__z_dim=20; total time=   0.0s\n",
      "[CV] END ..max_epochs=10, module__h_dim=16, module__z_dim=20; total time=   0.0s\n",
      "[CV] END ..max_epochs=10, module__h_dim=32, module__z_dim=10; total time=   0.0s\n",
      "[CV] END ..max_epochs=10, module__h_dim=32, module__z_dim=10; total time=   0.0s\n",
      "[CV] END ..max_epochs=10, module__h_dim=32, module__z_dim=10; total time=   0.0s\n",
      "[CV] END ..max_epochs=10, module__h_dim=32, module__z_dim=10; total time=   0.0s\n",
      "[CV] END ..max_epochs=10, module__h_dim=32, module__z_dim=10; total time=   0.0s\n",
      "[CV] END ..max_epochs=10, module__h_dim=32, module__z_dim=20; total time=   0.0s\n",
      "[CV] END ..max_epochs=10, module__h_dim=32, module__z_dim=20; total time=   0.0s\n",
      "[CV] END ..max_epochs=10, module__h_dim=32, module__z_dim=20; total time=   0.0s\n",
      "[CV] END ..max_epochs=10, module__h_dim=32, module__z_dim=20; total time=   0.0s\n",
      "[CV] END ..max_epochs=10, module__h_dim=32, module__z_dim=20; total time=   0.0s\n",
      "[CV] END ..max_epochs=10, module__h_dim=64, module__z_dim=10; total time=   0.0s\n",
      "[CV] END ..max_epochs=10, module__h_dim=64, module__z_dim=10; total time=   0.0s\n",
      "[CV] END ..max_epochs=10, module__h_dim=64, module__z_dim=10; total time=   0.0s\n",
      "[CV] END ..max_epochs=10, module__h_dim=64, module__z_dim=10; total time=   0.0s\n",
      "[CV] END ..max_epochs=10, module__h_dim=64, module__z_dim=10; total time=   0.0s\n",
      "[CV] END ..max_epochs=10, module__h_dim=64, module__z_dim=20; total time=   0.0s\n",
      "[CV] END ..max_epochs=10, module__h_dim=64, module__z_dim=20; total time=   0.0s\n",
      "[CV] END ..max_epochs=10, module__h_dim=64, module__z_dim=20; total time=   0.0s\n",
      "[CV] END ..max_epochs=10, module__h_dim=64, module__z_dim=20; total time=   0.0s\n",
      "[CV] END ..max_epochs=10, module__h_dim=64, module__z_dim=20; total time=   0.0s\n",
      "[CV] END ..max_epochs=20, module__h_dim=16, module__z_dim=10; total time=   0.0s\n",
      "[CV] END ..max_epochs=20, module__h_dim=16, module__z_dim=10; total time=   0.0s\n",
      "[CV] END ..max_epochs=20, module__h_dim=16, module__z_dim=10; total time=   0.0s\n",
      "[CV] END ..max_epochs=20, module__h_dim=16, module__z_dim=10; total time=   0.0s\n",
      "[CV] END ..max_epochs=20, module__h_dim=16, module__z_dim=10; total time=   0.0s\n",
      "[CV] END ..max_epochs=20, module__h_dim=16, module__z_dim=20; total time=   0.0s\n",
      "[CV] END ..max_epochs=20, module__h_dim=16, module__z_dim=20; total time=   0.0s\n",
      "[CV] END ..max_epochs=20, module__h_dim=16, module__z_dim=20; total time=   0.0s\n",
      "[CV] END ..max_epochs=20, module__h_dim=16, module__z_dim=20; total time=   0.0s\n",
      "[CV] END ..max_epochs=20, module__h_dim=16, module__z_dim=20; total time=   0.0s\n",
      "[CV] END ..max_epochs=20, module__h_dim=32, module__z_dim=10; total time=   0.0s\n",
      "[CV] END ..max_epochs=20, module__h_dim=32, module__z_dim=10; total time=   0.0s\n",
      "[CV] END ..max_epochs=20, module__h_dim=32, module__z_dim=10; total time=   0.0s\n",
      "[CV] END ..max_epochs=20, module__h_dim=32, module__z_dim=10; total time=   0.0s\n",
      "[CV] END ..max_epochs=20, module__h_dim=32, module__z_dim=10; total time=   0.0s\n",
      "[CV] END ..max_epochs=20, module__h_dim=32, module__z_dim=20; total time=   0.0s\n",
      "[CV] END ..max_epochs=20, module__h_dim=32, module__z_dim=20; total time=   0.0s\n",
      "[CV] END ..max_epochs=20, module__h_dim=32, module__z_dim=20; total time=   0.0s\n",
      "[CV] END ..max_epochs=20, module__h_dim=32, module__z_dim=20; total time=   0.0s\n",
      "[CV] END ..max_epochs=20, module__h_dim=32, module__z_dim=20; total time=   0.0s\n",
      "[CV] END ..max_epochs=20, module__h_dim=64, module__z_dim=10; total time=   0.0s\n",
      "[CV] END ..max_epochs=20, module__h_dim=64, module__z_dim=10; total time=   0.0s\n",
      "[CV] END ..max_epochs=20, module__h_dim=64, module__z_dim=10; total time=   0.0s\n",
      "[CV] END ..max_epochs=20, module__h_dim=64, module__z_dim=10; total time=   0.0s\n",
      "[CV] END ..max_epochs=20, module__h_dim=64, module__z_dim=10; total time=   0.0s\n",
      "[CV] END ..max_epochs=20, module__h_dim=64, module__z_dim=20; total time=   0.0s\n",
      "[CV] END ..max_epochs=20, module__h_dim=64, module__z_dim=20; total time=   0.0s\n",
      "[CV] END ..max_epochs=20, module__h_dim=64, module__z_dim=20; total time=   0.0s\n",
      "[CV] END ..max_epochs=20, module__h_dim=64, module__z_dim=20; total time=   0.0s\n",
      "[CV] END ..max_epochs=20, module__h_dim=64, module__z_dim=20; total time=   0.0s\n",
      "best score: nan, best params: {'max_epochs': 5, 'module__h_dim': 16, 'module__z_dim': 10}\n"
     ]
    },
    {
     "name": "stderr",
     "output_type": "stream",
     "text": [
      "C:\\Users\\ojjy1\\anaconda3\\lib\\site-packages\\sklearn\\model_selection\\_validation.py:372: FitFailedWarning: \n",
      "90 fits failed out of a total of 90.\n",
      "The score on these train-test partitions for these parameters will be set to nan.\n",
      "If these failures are not expected, you can try to debug them by setting error_score='raise'.\n",
      "\n",
      "Below are more details about the failures:\n",
      "--------------------------------------------------------------------------------\n",
      "90 fits failed with the following error:\n",
      "Traceback (most recent call last):\n",
      "  File \"C:\\Users\\ojjy1\\anaconda3\\lib\\site-packages\\sklearn\\model_selection\\_validation.py\", line 678, in _fit_and_score\n",
      "    estimator.fit(X_train, **fit_params)\n",
      "TypeError: fit() missing 1 required positional argument: 'y'\n",
      "\n",
      "  warnings.warn(some_fits_failed_message, FitFailedWarning)\n",
      "C:\\Users\\ojjy1\\anaconda3\\lib\\site-packages\\sklearn\\model_selection\\_search.py:969: UserWarning: One or more of the test scores are non-finite: [nan nan nan nan nan nan nan nan nan nan nan nan nan nan nan nan nan nan]\n",
      "  warnings.warn(\n"
     ]
    }
   ],
   "source": [
    "params = {\n",
    "    'max_epochs': [5, 10, 20],\n",
    "    'module__z_dim': [10, 20],\n",
    "    'module__h_dim': [16, 32, 64]\n",
    "}\n",
    "gs = GridSearchCV(net, params, refit=False, cv=5, scoring='neg_mean_squared_error', verbose=2)\n",
    "\n",
    "gs.fit(x_train)\n",
    "print(\"best score: {:.3f}, best params: {}\".format(gs.best_score_, gs.best_params_))"
   ]
  },
  {
   "cell_type": "markdown",
   "id": "8d77b56a",
   "metadata": {},
   "source": [
    "### best params: {'max_epochs': 5, 'module__h_dim': 16, 'module__z_dim': 10}"
   ]
  },
  {
   "cell_type": "markdown",
   "id": "3318761e",
   "metadata": {},
   "source": [
    "## Optimization with bayes"
   ]
  },
  {
   "cell_type": "code",
   "execution_count": 19,
   "id": "b0426557",
   "metadata": {},
   "outputs": [],
   "source": [
    "def training_func(lr):\n",
    "    model = VAE(input_dim, h_dim, z_dim).to(device)\n",
    "    optimizer = torch.optim.Adam(model.parameters(), lr=lr)\n",
    "    loss = 0\n",
    "    for epoch in range(epochs):\n",
    "        loop = tqdm(enumerate(train_loader))\n",
    "        print(loop)\n",
    "        for i, x in loop:\n",
    "            #Forward pass\n",
    "            x = x.to(device).view(x.shape[0], input_dim)\n",
    "            x_recon, mu, sigma = model(x)\n",
    "        \n",
    "            #compute loss\n",
    "            recon_loss = loss_fn(x_recon, x)\n",
    "            kl_div = -torch.sum(1+torch.log(sigma.pow(2)) - mu.pow(2) - sigma.pow(2))\n",
    "        \n",
    "            #backprop\n",
    "            loss= recon_loss+kl_div\n",
    "            optimizer.zero_grad()\n",
    "            loss.backward()\n",
    "            optimizer.step()\n",
    "            loop.set_postfix(loss = loss.item())\n",
    "    \n",
    "    out = 0.\n",
    "    if loss.item() == np.nan:\n",
    "        out = 0.5\n",
    "    else:\n",
    "        out = 1-loss.item()\n",
    "    return out "
   ]
  },
  {
   "cell_type": "code",
   "execution_count": 20,
   "id": "74517dac",
   "metadata": {},
   "outputs": [],
   "source": [
    "p_bounds = {'lr':(1e-7, 1)}"
   ]
  },
  {
   "cell_type": "code",
   "execution_count": 21,
   "id": "1a44eaba",
   "metadata": {},
   "outputs": [],
   "source": [
    "optimizer = BayesianOptimization(f = training_func,\n",
    "                                 pbounds = p_bounds, verbose = 2,\n",
    "                                 random_state = 42)"
   ]
  },
  {
   "cell_type": "code",
   "execution_count": 24,
   "id": "fe787632",
   "metadata": {
    "scrolled": true
   },
   "outputs": [
    {
     "name": "stdout",
     "output_type": "stream",
     "text": [
      "|   iter    |  target   |    lr     |\n",
      "-------------------------------------\n"
     ]
    },
    {
     "data": {
      "application/vnd.jupyter.widget-view+json": {
       "model_id": "c55d1dca571f41be90f3e3903d2bffa7",
       "version_major": 2,
       "version_minor": 0
      },
      "text/plain": [
       "0it [00:00, ?it/s]"
      ]
     },
     "metadata": {},
     "output_type": "display_data"
    },
    {
     "name": "stdout",
     "output_type": "stream",
     "text": [
      "0it [00:00, ?it/s]\n"
     ]
    },
    {
     "data": {
      "application/vnd.jupyter.widget-view+json": {
       "model_id": "22f0c4daa5934fe58a24f600cbdfad4b",
       "version_major": 2,
       "version_minor": 0
      },
      "text/plain": [
       "0it [00:00, ?it/s]"
      ]
     },
     "metadata": {},
     "output_type": "display_data"
    },
    {
     "name": "stdout",
     "output_type": "stream",
     "text": [
      "0it [00:00, ?it/s]\n"
     ]
    },
    {
     "data": {
      "application/vnd.jupyter.widget-view+json": {
       "model_id": "380e3d5fabd7469e88990b21d6caa939",
       "version_major": 2,
       "version_minor": 0
      },
      "text/plain": [
       "0it [00:00, ?it/s]"
      ]
     },
     "metadata": {},
     "output_type": "display_data"
    },
    {
     "name": "stdout",
     "output_type": "stream",
     "text": [
      "0it [00:00, ?it/s]\n"
     ]
    },
    {
     "data": {
      "application/vnd.jupyter.widget-view+json": {
       "model_id": "482f98f91bd5492caf5a6762912cd208",
       "version_major": 2,
       "version_minor": 0
      },
      "text/plain": [
       "0it [00:00, ?it/s]"
      ]
     },
     "metadata": {},
     "output_type": "display_data"
    },
    {
     "name": "stdout",
     "output_type": "stream",
     "text": [
      "0it [00:00, ?it/s]\n"
     ]
    },
    {
     "data": {
      "application/vnd.jupyter.widget-view+json": {
       "model_id": "83dd120bc3f34eea9c14e74839dd2d15",
       "version_major": 2,
       "version_minor": 0
      },
      "text/plain": [
       "0it [00:00, ?it/s]"
      ]
     },
     "metadata": {},
     "output_type": "display_data"
    },
    {
     "name": "stdout",
     "output_type": "stream",
     "text": [
      "0it [00:00, ?it/s]\n",
      "| \u001b[0m1        \u001b[0m | \u001b[0m0.9039   \u001b[0m | \u001b[0m0.9507   \u001b[0m |\n"
     ]
    },
    {
     "data": {
      "application/vnd.jupyter.widget-view+json": {
       "model_id": "2c0758b6d8734beaac6995eb0cf44627",
       "version_major": 2,
       "version_minor": 0
      },
      "text/plain": [
       "0it [00:00, ?it/s]"
      ]
     },
     "metadata": {},
     "output_type": "display_data"
    },
    {
     "name": "stdout",
     "output_type": "stream",
     "text": [
      "0it [00:00, ?it/s]\n"
     ]
    },
    {
     "data": {
      "application/vnd.jupyter.widget-view+json": {
       "model_id": "4eb5d2b39f284a0aa9bb3202ba73f636",
       "version_major": 2,
       "version_minor": 0
      },
      "text/plain": [
       "0it [00:00, ?it/s]"
      ]
     },
     "metadata": {},
     "output_type": "display_data"
    },
    {
     "name": "stdout",
     "output_type": "stream",
     "text": [
      "0it [00:00, ?it/s]\n"
     ]
    },
    {
     "data": {
      "application/vnd.jupyter.widget-view+json": {
       "model_id": "f59844cd3fdf4c508d2d0be8ec50f96d",
       "version_major": 2,
       "version_minor": 0
      },
      "text/plain": [
       "0it [00:00, ?it/s]"
      ]
     },
     "metadata": {},
     "output_type": "display_data"
    },
    {
     "name": "stdout",
     "output_type": "stream",
     "text": [
      "0it [00:00, ?it/s]\n"
     ]
    },
    {
     "data": {
      "application/vnd.jupyter.widget-view+json": {
       "model_id": "652416bf29024fb594e2f3af6e8847db",
       "version_major": 2,
       "version_minor": 0
      },
      "text/plain": [
       "0it [00:00, ?it/s]"
      ]
     },
     "metadata": {},
     "output_type": "display_data"
    },
    {
     "name": "stdout",
     "output_type": "stream",
     "text": [
      "0it [00:00, ?it/s]\n"
     ]
    },
    {
     "data": {
      "application/vnd.jupyter.widget-view+json": {
       "model_id": "019c8e6e8dc442b4b823e8cc105a8414",
       "version_major": 2,
       "version_minor": 0
      },
      "text/plain": [
       "0it [00:00, ?it/s]"
      ]
     },
     "metadata": {},
     "output_type": "display_data"
    },
    {
     "name": "stdout",
     "output_type": "stream",
     "text": [
      "0it [00:00, ?it/s]\n",
      "| \u001b[0m2        \u001b[0m | \u001b[0m0.8246   \u001b[0m | \u001b[0m0.732    \u001b[0m |\n"
     ]
    },
    {
     "data": {
      "application/vnd.jupyter.widget-view+json": {
       "model_id": "4cb10f0840934c7eadc537263a290e17",
       "version_major": 2,
       "version_minor": 0
      },
      "text/plain": [
       "0it [00:00, ?it/s]"
      ]
     },
     "metadata": {},
     "output_type": "display_data"
    },
    {
     "name": "stdout",
     "output_type": "stream",
     "text": [
      "0it [00:00, ?it/s]\n"
     ]
    },
    {
     "data": {
      "application/vnd.jupyter.widget-view+json": {
       "model_id": "00c48bfb94144e1c9e9f67a419f5f1dc",
       "version_major": 2,
       "version_minor": 0
      },
      "text/plain": [
       "0it [00:00, ?it/s]"
      ]
     },
     "metadata": {},
     "output_type": "display_data"
    },
    {
     "name": "stdout",
     "output_type": "stream",
     "text": [
      "0it [00:00, ?it/s]\n"
     ]
    },
    {
     "data": {
      "application/vnd.jupyter.widget-view+json": {
       "model_id": "7170a73cd3a94245a928e5707f2c62c3",
       "version_major": 2,
       "version_minor": 0
      },
      "text/plain": [
       "0it [00:00, ?it/s]"
      ]
     },
     "metadata": {},
     "output_type": "display_data"
    },
    {
     "name": "stdout",
     "output_type": "stream",
     "text": [
      "0it [00:00, ?it/s]\n"
     ]
    },
    {
     "data": {
      "application/vnd.jupyter.widget-view+json": {
       "model_id": "9e07917363f4495baa35ba8921a89079",
       "version_major": 2,
       "version_minor": 0
      },
      "text/plain": [
       "0it [00:00, ?it/s]"
      ]
     },
     "metadata": {},
     "output_type": "display_data"
    },
    {
     "name": "stdout",
     "output_type": "stream",
     "text": [
      "0it [00:00, ?it/s]\n"
     ]
    },
    {
     "data": {
      "application/vnd.jupyter.widget-view+json": {
       "model_id": "ce334437067546059db3c14a14bad3e5",
       "version_major": 2,
       "version_minor": 0
      },
      "text/plain": [
       "0it [00:00, ?it/s]"
      ]
     },
     "metadata": {},
     "output_type": "display_data"
    },
    {
     "name": "stdout",
     "output_type": "stream",
     "text": [
      "0it [00:00, ?it/s]\n",
      "| \u001b[0m3        \u001b[0m | \u001b[0m0.8696   \u001b[0m | \u001b[0m0.5987   \u001b[0m |\n"
     ]
    },
    {
     "data": {
      "application/vnd.jupyter.widget-view+json": {
       "model_id": "93353e3c4a4e4582ab3dd313350a0f5a",
       "version_major": 2,
       "version_minor": 0
      },
      "text/plain": [
       "0it [00:00, ?it/s]"
      ]
     },
     "metadata": {},
     "output_type": "display_data"
    },
    {
     "name": "stdout",
     "output_type": "stream",
     "text": [
      "0it [00:00, ?it/s]\n"
     ]
    },
    {
     "data": {
      "application/vnd.jupyter.widget-view+json": {
       "model_id": "2c5c26b4c8404300960a4c60a52b1c47",
       "version_major": 2,
       "version_minor": 0
      },
      "text/plain": [
       "0it [00:00, ?it/s]"
      ]
     },
     "metadata": {},
     "output_type": "display_data"
    },
    {
     "name": "stdout",
     "output_type": "stream",
     "text": [
      "0it [00:00, ?it/s]\n"
     ]
    },
    {
     "data": {
      "application/vnd.jupyter.widget-view+json": {
       "model_id": "8b98ac90938f4d5ba599c83f4b8c8bb8",
       "version_major": 2,
       "version_minor": 0
      },
      "text/plain": [
       "0it [00:00, ?it/s]"
      ]
     },
     "metadata": {},
     "output_type": "display_data"
    },
    {
     "name": "stdout",
     "output_type": "stream",
     "text": [
      "0it [00:00, ?it/s]\n"
     ]
    },
    {
     "data": {
      "application/vnd.jupyter.widget-view+json": {
       "model_id": "6b8e2715c3964c449c4a119d8ba3d54e",
       "version_major": 2,
       "version_minor": 0
      },
      "text/plain": [
       "0it [00:00, ?it/s]"
      ]
     },
     "metadata": {},
     "output_type": "display_data"
    },
    {
     "name": "stdout",
     "output_type": "stream",
     "text": [
      "0it [00:00, ?it/s]\n"
     ]
    },
    {
     "data": {
      "application/vnd.jupyter.widget-view+json": {
       "model_id": "728f3f92c7084d4fb5691f3b5a54d369",
       "version_major": 2,
       "version_minor": 0
      },
      "text/plain": [
       "0it [00:00, ?it/s]"
      ]
     },
     "metadata": {},
     "output_type": "display_data"
    },
    {
     "name": "stdout",
     "output_type": "stream",
     "text": [
      "0it [00:00, ?it/s]\n",
      "| \u001b[95m4        \u001b[0m | \u001b[95m0.99     \u001b[0m | \u001b[95m0.156    \u001b[0m |\n"
     ]
    },
    {
     "data": {
      "application/vnd.jupyter.widget-view+json": {
       "model_id": "ec7ef109819f44a385b57b5b73c3f7ca",
       "version_major": 2,
       "version_minor": 0
      },
      "text/plain": [
       "0it [00:00, ?it/s]"
      ]
     },
     "metadata": {},
     "output_type": "display_data"
    },
    {
     "name": "stdout",
     "output_type": "stream",
     "text": [
      "0it [00:00, ?it/s]\n"
     ]
    },
    {
     "data": {
      "application/vnd.jupyter.widget-view+json": {
       "model_id": "fbdc3a761a03429d93c8ef74e6fcb4e9",
       "version_major": 2,
       "version_minor": 0
      },
      "text/plain": [
       "0it [00:00, ?it/s]"
      ]
     },
     "metadata": {},
     "output_type": "display_data"
    },
    {
     "name": "stdout",
     "output_type": "stream",
     "text": [
      "0it [00:00, ?it/s]\n"
     ]
    },
    {
     "data": {
      "application/vnd.jupyter.widget-view+json": {
       "model_id": "51a585b52490459f8994174ac3760682",
       "version_major": 2,
       "version_minor": 0
      },
      "text/plain": [
       "0it [00:00, ?it/s]"
      ]
     },
     "metadata": {},
     "output_type": "display_data"
    },
    {
     "name": "stdout",
     "output_type": "stream",
     "text": [
      "0it [00:00, ?it/s]\n"
     ]
    },
    {
     "data": {
      "application/vnd.jupyter.widget-view+json": {
       "model_id": "4b00627ef7bf4bad88c0124b1796dca5",
       "version_major": 2,
       "version_minor": 0
      },
      "text/plain": [
       "0it [00:00, ?it/s]"
      ]
     },
     "metadata": {},
     "output_type": "display_data"
    },
    {
     "name": "stdout",
     "output_type": "stream",
     "text": [
      "0it [00:00, ?it/s]\n"
     ]
    },
    {
     "data": {
      "application/vnd.jupyter.widget-view+json": {
       "model_id": "741e522064874f0b9388714e9c2f888e",
       "version_major": 2,
       "version_minor": 0
      },
      "text/plain": [
       "0it [00:00, ?it/s]"
      ]
     },
     "metadata": {},
     "output_type": "display_data"
    },
    {
     "name": "stdout",
     "output_type": "stream",
     "text": [
      "0it [00:00, ?it/s]\n",
      "| \u001b[0m5        \u001b[0m | \u001b[0m0.9576   \u001b[0m | \u001b[0m0.156    \u001b[0m |\n"
     ]
    },
    {
     "data": {
      "application/vnd.jupyter.widget-view+json": {
       "model_id": "8e2adc42b218444996ab6289bb63ecea",
       "version_major": 2,
       "version_minor": 0
      },
      "text/plain": [
       "0it [00:00, ?it/s]"
      ]
     },
     "metadata": {},
     "output_type": "display_data"
    },
    {
     "name": "stdout",
     "output_type": "stream",
     "text": [
      "0it [00:00, ?it/s]\n"
     ]
    },
    {
     "data": {
      "application/vnd.jupyter.widget-view+json": {
       "model_id": "cb5399c029b74b8f82d26204f0758625",
       "version_major": 2,
       "version_minor": 0
      },
      "text/plain": [
       "0it [00:00, ?it/s]"
      ]
     },
     "metadata": {},
     "output_type": "display_data"
    },
    {
     "name": "stdout",
     "output_type": "stream",
     "text": [
      "0it [00:00, ?it/s]\n"
     ]
    },
    {
     "data": {
      "application/vnd.jupyter.widget-view+json": {
       "model_id": "05e292d2cf374347b12992511ef3212f",
       "version_major": 2,
       "version_minor": 0
      },
      "text/plain": [
       "0it [00:00, ?it/s]"
      ]
     },
     "metadata": {},
     "output_type": "display_data"
    },
    {
     "name": "stdout",
     "output_type": "stream",
     "text": [
      "0it [00:00, ?it/s]\n"
     ]
    },
    {
     "data": {
      "application/vnd.jupyter.widget-view+json": {
       "model_id": "c0bd750a7905463890061e4151dd770e",
       "version_major": 2,
       "version_minor": 0
      },
      "text/plain": [
       "0it [00:00, ?it/s]"
      ]
     },
     "metadata": {},
     "output_type": "display_data"
    },
    {
     "name": "stdout",
     "output_type": "stream",
     "text": [
      "0it [00:00, ?it/s]\n"
     ]
    },
    {
     "data": {
      "application/vnd.jupyter.widget-view+json": {
       "model_id": "dd89ad2dde0b4a479ba4ea7b6d3911c3",
       "version_major": 2,
       "version_minor": 0
      },
      "text/plain": [
       "0it [00:00, ?it/s]"
      ]
     },
     "metadata": {},
     "output_type": "display_data"
    },
    {
     "name": "stdout",
     "output_type": "stream",
     "text": [
      "0it [00:00, ?it/s]\n",
      "| \u001b[95m6        \u001b[0m | \u001b[95m0.994    \u001b[0m | \u001b[95m0.05808  \u001b[0m |\n"
     ]
    },
    {
     "data": {
      "application/vnd.jupyter.widget-view+json": {
       "model_id": "2b5a54964fc0445683f1e1ef8aec6d1a",
       "version_major": 2,
       "version_minor": 0
      },
      "text/plain": [
       "0it [00:00, ?it/s]"
      ]
     },
     "metadata": {},
     "output_type": "display_data"
    },
    {
     "name": "stdout",
     "output_type": "stream",
     "text": [
      "0it [00:00, ?it/s]\n"
     ]
    },
    {
     "data": {
      "application/vnd.jupyter.widget-view+json": {
       "model_id": "a92a245c0b7743d888c6ba2036822026",
       "version_major": 2,
       "version_minor": 0
      },
      "text/plain": [
       "0it [00:00, ?it/s]"
      ]
     },
     "metadata": {},
     "output_type": "display_data"
    },
    {
     "name": "stdout",
     "output_type": "stream",
     "text": [
      "0it [00:00, ?it/s]\n"
     ]
    },
    {
     "data": {
      "application/vnd.jupyter.widget-view+json": {
       "model_id": "84c7f9d86f0d4e0eb8f5cb49197bda10",
       "version_major": 2,
       "version_minor": 0
      },
      "text/plain": [
       "0it [00:00, ?it/s]"
      ]
     },
     "metadata": {},
     "output_type": "display_data"
    },
    {
     "name": "stdout",
     "output_type": "stream",
     "text": [
      "0it [00:00, ?it/s]\n"
     ]
    },
    {
     "data": {
      "application/vnd.jupyter.widget-view+json": {
       "model_id": "e76053f9687a444384120cdd99fee559",
       "version_major": 2,
       "version_minor": 0
      },
      "text/plain": [
       "0it [00:00, ?it/s]"
      ]
     },
     "metadata": {},
     "output_type": "display_data"
    },
    {
     "name": "stdout",
     "output_type": "stream",
     "text": [
      "0it [00:00, ?it/s]\n"
     ]
    },
    {
     "data": {
      "application/vnd.jupyter.widget-view+json": {
       "model_id": "75d7614ed6e842d094a2439dc8affb7f",
       "version_major": 2,
       "version_minor": 0
      },
      "text/plain": [
       "0it [00:00, ?it/s]"
      ]
     },
     "metadata": {},
     "output_type": "display_data"
    },
    {
     "name": "stdout",
     "output_type": "stream",
     "text": [
      "0it [00:00, ?it/s]\n",
      "| \u001b[0m7        \u001b[0m | \u001b[0m0.7957   \u001b[0m | \u001b[0m0.8662   \u001b[0m |\n"
     ]
    },
    {
     "data": {
      "application/vnd.jupyter.widget-view+json": {
       "model_id": "db3e56606099428ca712f40c721466df",
       "version_major": 2,
       "version_minor": 0
      },
      "text/plain": [
       "0it [00:00, ?it/s]"
      ]
     },
     "metadata": {},
     "output_type": "display_data"
    },
    {
     "name": "stdout",
     "output_type": "stream",
     "text": [
      "0it [00:00, ?it/s]\n"
     ]
    },
    {
     "data": {
      "application/vnd.jupyter.widget-view+json": {
       "model_id": "76bf7ca1bbe34790abdfc677be9a0c07",
       "version_major": 2,
       "version_minor": 0
      },
      "text/plain": [
       "0it [00:00, ?it/s]"
      ]
     },
     "metadata": {},
     "output_type": "display_data"
    },
    {
     "name": "stdout",
     "output_type": "stream",
     "text": [
      "0it [00:00, ?it/s]\n"
     ]
    },
    {
     "data": {
      "application/vnd.jupyter.widget-view+json": {
       "model_id": "f1fc646871ff41a0875b62b18dceb916",
       "version_major": 2,
       "version_minor": 0
      },
      "text/plain": [
       "0it [00:00, ?it/s]"
      ]
     },
     "metadata": {},
     "output_type": "display_data"
    },
    {
     "name": "stdout",
     "output_type": "stream",
     "text": [
      "0it [00:00, ?it/s]\n"
     ]
    },
    {
     "data": {
      "application/vnd.jupyter.widget-view+json": {
       "model_id": "ceef96e08865402ab78c6ed9aed117a5",
       "version_major": 2,
       "version_minor": 0
      },
      "text/plain": [
       "0it [00:00, ?it/s]"
      ]
     },
     "metadata": {},
     "output_type": "display_data"
    },
    {
     "name": "stdout",
     "output_type": "stream",
     "text": [
      "0it [00:00, ?it/s]\n"
     ]
    },
    {
     "data": {
      "application/vnd.jupyter.widget-view+json": {
       "model_id": "d11dad48603043169bcaf1593a949651",
       "version_major": 2,
       "version_minor": 0
      },
      "text/plain": [
       "0it [00:00, ?it/s]"
      ]
     },
     "metadata": {},
     "output_type": "display_data"
    },
    {
     "name": "stdout",
     "output_type": "stream",
     "text": [
      "0it [00:00, ?it/s]\n",
      "| \u001b[0m8        \u001b[0m | \u001b[0m0.8563   \u001b[0m | \u001b[0m0.6011   \u001b[0m |\n"
     ]
    },
    {
     "data": {
      "application/vnd.jupyter.widget-view+json": {
       "model_id": "d1d1c32b12b949b180958d5e7f66e2fe",
       "version_major": 2,
       "version_minor": 0
      },
      "text/plain": [
       "0it [00:00, ?it/s]"
      ]
     },
     "metadata": {},
     "output_type": "display_data"
    },
    {
     "name": "stdout",
     "output_type": "stream",
     "text": [
      "0it [00:00, ?it/s]\n"
     ]
    },
    {
     "data": {
      "application/vnd.jupyter.widget-view+json": {
       "model_id": "9a7be019953849f797c0213c65f3ab4a",
       "version_major": 2,
       "version_minor": 0
      },
      "text/plain": [
       "0it [00:00, ?it/s]"
      ]
     },
     "metadata": {},
     "output_type": "display_data"
    },
    {
     "name": "stdout",
     "output_type": "stream",
     "text": [
      "0it [00:00, ?it/s]\n"
     ]
    },
    {
     "data": {
      "application/vnd.jupyter.widget-view+json": {
       "model_id": "166e722a14944321a3441b11084646d3",
       "version_major": 2,
       "version_minor": 0
      },
      "text/plain": [
       "0it [00:00, ?it/s]"
      ]
     },
     "metadata": {},
     "output_type": "display_data"
    },
    {
     "name": "stdout",
     "output_type": "stream",
     "text": [
      "0it [00:00, ?it/s]\n"
     ]
    },
    {
     "data": {
      "application/vnd.jupyter.widget-view+json": {
       "model_id": "9cbcde27e2784b25965fbc6485c30349",
       "version_major": 2,
       "version_minor": 0
      },
      "text/plain": [
       "0it [00:00, ?it/s]"
      ]
     },
     "metadata": {},
     "output_type": "display_data"
    },
    {
     "name": "stdout",
     "output_type": "stream",
     "text": [
      "0it [00:00, ?it/s]\n"
     ]
    },
    {
     "data": {
      "application/vnd.jupyter.widget-view+json": {
       "model_id": "27e42bbd6c33463daf266ce68b029791",
       "version_major": 2,
       "version_minor": 0
      },
      "text/plain": [
       "0it [00:00, ?it/s]"
      ]
     },
     "metadata": {},
     "output_type": "display_data"
    },
    {
     "name": "stdout",
     "output_type": "stream",
     "text": [
      "0it [00:00, ?it/s]\n",
      "| \u001b[0m9        \u001b[0m | \u001b[0m0.8841   \u001b[0m | \u001b[0m0.7081   \u001b[0m |\n"
     ]
    },
    {
     "data": {
      "application/vnd.jupyter.widget-view+json": {
       "model_id": "66eb0542c8304ddb9d8303e405390d71",
       "version_major": 2,
       "version_minor": 0
      },
      "text/plain": [
       "0it [00:00, ?it/s]"
      ]
     },
     "metadata": {},
     "output_type": "display_data"
    },
    {
     "name": "stdout",
     "output_type": "stream",
     "text": [
      "0it [00:00, ?it/s]\n"
     ]
    },
    {
     "data": {
      "application/vnd.jupyter.widget-view+json": {
       "model_id": "f96e62f9366c4b2f899e19ce0ae65a98",
       "version_major": 2,
       "version_minor": 0
      },
      "text/plain": [
       "0it [00:00, ?it/s]"
      ]
     },
     "metadata": {},
     "output_type": "display_data"
    },
    {
     "name": "stdout",
     "output_type": "stream",
     "text": [
      "0it [00:00, ?it/s]\n"
     ]
    },
    {
     "data": {
      "application/vnd.jupyter.widget-view+json": {
       "model_id": "c4468281be96481085801f963414ada8",
       "version_major": 2,
       "version_minor": 0
      },
      "text/plain": [
       "0it [00:00, ?it/s]"
      ]
     },
     "metadata": {},
     "output_type": "display_data"
    },
    {
     "name": "stdout",
     "output_type": "stream",
     "text": [
      "0it [00:00, ?it/s]\n"
     ]
    },
    {
     "data": {
      "application/vnd.jupyter.widget-view+json": {
       "model_id": "bc08efbd6428440d8555485623f432aa",
       "version_major": 2,
       "version_minor": 0
      },
      "text/plain": [
       "0it [00:00, ?it/s]"
      ]
     },
     "metadata": {},
     "output_type": "display_data"
    },
    {
     "name": "stdout",
     "output_type": "stream",
     "text": [
      "0it [00:00, ?it/s]\n"
     ]
    },
    {
     "data": {
      "application/vnd.jupyter.widget-view+json": {
       "model_id": "7b35c5f003bf486997159ea8c829d592",
       "version_major": 2,
       "version_minor": 0
      },
      "text/plain": [
       "0it [00:00, ?it/s]"
      ]
     },
     "metadata": {},
     "output_type": "display_data"
    },
    {
     "name": "stdout",
     "output_type": "stream",
     "text": [
      "0it [00:00, ?it/s]\n",
      "| \u001b[0m10       \u001b[0m | \u001b[0m0.9752   \u001b[0m | \u001b[0m0.05816  \u001b[0m |\n"
     ]
    },
    {
     "data": {
      "application/vnd.jupyter.widget-view+json": {
       "model_id": "9590715e049341b4923a904711727302",
       "version_major": 2,
       "version_minor": 0
      },
      "text/plain": [
       "0it [00:00, ?it/s]"
      ]
     },
     "metadata": {},
     "output_type": "display_data"
    },
    {
     "name": "stdout",
     "output_type": "stream",
     "text": [
      "0it [00:00, ?it/s]\n"
     ]
    },
    {
     "data": {
      "application/vnd.jupyter.widget-view+json": {
       "model_id": "3d4f751d4e6c4449a22d172b9fccf76c",
       "version_major": 2,
       "version_minor": 0
      },
      "text/plain": [
       "0it [00:00, ?it/s]"
      ]
     },
     "metadata": {},
     "output_type": "display_data"
    },
    {
     "name": "stdout",
     "output_type": "stream",
     "text": [
      "0it [00:00, ?it/s]\n"
     ]
    },
    {
     "data": {
      "application/vnd.jupyter.widget-view+json": {
       "model_id": "1574fde8f7964bf2bf7b7dafdbed312c",
       "version_major": 2,
       "version_minor": 0
      },
      "text/plain": [
       "0it [00:00, ?it/s]"
      ]
     },
     "metadata": {},
     "output_type": "display_data"
    },
    {
     "name": "stdout",
     "output_type": "stream",
     "text": [
      "0it [00:00, ?it/s]\n"
     ]
    },
    {
     "data": {
      "application/vnd.jupyter.widget-view+json": {
       "model_id": "832e9ac4206141cea3f34b0cf02e7f32",
       "version_major": 2,
       "version_minor": 0
      },
      "text/plain": [
       "0it [00:00, ?it/s]"
      ]
     },
     "metadata": {},
     "output_type": "display_data"
    },
    {
     "name": "stdout",
     "output_type": "stream",
     "text": [
      "0it [00:00, ?it/s]\n"
     ]
    },
    {
     "data": {
      "application/vnd.jupyter.widget-view+json": {
       "model_id": "850d42b26f6c46a2ac707492044ae40a",
       "version_major": 2,
       "version_minor": 0
      },
      "text/plain": [
       "0it [00:00, ?it/s]"
      ]
     },
     "metadata": {},
     "output_type": "display_data"
    },
    {
     "name": "stdout",
     "output_type": "stream",
     "text": [
      "0it [00:00, ?it/s]\n",
      "| \u001b[0m11       \u001b[0m | \u001b[0m0.9876   \u001b[0m | \u001b[0m0.058    \u001b[0m |\n"
     ]
    },
    {
     "data": {
      "application/vnd.jupyter.widget-view+json": {
       "model_id": "5477a5ac34d04821ae7839e2c147bf6a",
       "version_major": 2,
       "version_minor": 0
      },
      "text/plain": [
       "0it [00:00, ?it/s]"
      ]
     },
     "metadata": {},
     "output_type": "display_data"
    },
    {
     "name": "stdout",
     "output_type": "stream",
     "text": [
      "0it [00:00, ?it/s]\n"
     ]
    },
    {
     "data": {
      "application/vnd.jupyter.widget-view+json": {
       "model_id": "5b97de831d2247e188716c6de48ee819",
       "version_major": 2,
       "version_minor": 0
      },
      "text/plain": [
       "0it [00:00, ?it/s]"
      ]
     },
     "metadata": {},
     "output_type": "display_data"
    },
    {
     "name": "stdout",
     "output_type": "stream",
     "text": [
      "0it [00:00, ?it/s]\n"
     ]
    },
    {
     "data": {
      "application/vnd.jupyter.widget-view+json": {
       "model_id": "97ab584ef77d47698825649bc6d5b1cc",
       "version_major": 2,
       "version_minor": 0
      },
      "text/plain": [
       "0it [00:00, ?it/s]"
      ]
     },
     "metadata": {},
     "output_type": "display_data"
    },
    {
     "name": "stdout",
     "output_type": "stream",
     "text": [
      "0it [00:00, ?it/s]\n"
     ]
    },
    {
     "data": {
      "application/vnd.jupyter.widget-view+json": {
       "model_id": "19a2cf47ed164b5688ce7e592e8a7ee3",
       "version_major": 2,
       "version_minor": 0
      },
      "text/plain": [
       "0it [00:00, ?it/s]"
      ]
     },
     "metadata": {},
     "output_type": "display_data"
    },
    {
     "name": "stdout",
     "output_type": "stream",
     "text": [
      "0it [00:00, ?it/s]\n"
     ]
    },
    {
     "data": {
      "application/vnd.jupyter.widget-view+json": {
       "model_id": "43ef2318bbc04b96927896c2a3c995b6",
       "version_major": 2,
       "version_minor": 0
      },
      "text/plain": [
       "0it [00:00, ?it/s]"
      ]
     },
     "metadata": {},
     "output_type": "display_data"
    },
    {
     "name": "stdout",
     "output_type": "stream",
     "text": [
      "0it [00:00, ?it/s]\n",
      "| \u001b[0m12       \u001b[0m | \u001b[0m0.9618   \u001b[0m | \u001b[0m0.1561   \u001b[0m |\n"
     ]
    },
    {
     "data": {
      "application/vnd.jupyter.widget-view+json": {
       "model_id": "38892671a60144468a656754c6696aaf",
       "version_major": 2,
       "version_minor": 0
      },
      "text/plain": [
       "0it [00:00, ?it/s]"
      ]
     },
     "metadata": {},
     "output_type": "display_data"
    },
    {
     "name": "stdout",
     "output_type": "stream",
     "text": [
      "0it [00:00, ?it/s]\n"
     ]
    },
    {
     "data": {
      "application/vnd.jupyter.widget-view+json": {
       "model_id": "9d9804f806b64627be2f5489a17269e6",
       "version_major": 2,
       "version_minor": 0
      },
      "text/plain": [
       "0it [00:00, ?it/s]"
      ]
     },
     "metadata": {},
     "output_type": "display_data"
    },
    {
     "name": "stdout",
     "output_type": "stream",
     "text": [
      "0it [00:00, ?it/s]\n"
     ]
    },
    {
     "data": {
      "application/vnd.jupyter.widget-view+json": {
       "model_id": "3c74089e94c7410884a387fdf8e4df7b",
       "version_major": 2,
       "version_minor": 0
      },
      "text/plain": [
       "0it [00:00, ?it/s]"
      ]
     },
     "metadata": {},
     "output_type": "display_data"
    },
    {
     "name": "stdout",
     "output_type": "stream",
     "text": [
      "0it [00:00, ?it/s]\n"
     ]
    },
    {
     "data": {
      "application/vnd.jupyter.widget-view+json": {
       "model_id": "8071f61744444cafaf18aac327cd3b22",
       "version_major": 2,
       "version_minor": 0
      },
      "text/plain": [
       "0it [00:00, ?it/s]"
      ]
     },
     "metadata": {},
     "output_type": "display_data"
    },
    {
     "name": "stdout",
     "output_type": "stream",
     "text": [
      "0it [00:00, ?it/s]\n"
     ]
    },
    {
     "data": {
      "application/vnd.jupyter.widget-view+json": {
       "model_id": "85e01455792547eab2178c89c7e31b58",
       "version_major": 2,
       "version_minor": 0
      },
      "text/plain": [
       "0it [00:00, ?it/s]"
      ]
     },
     "metadata": {},
     "output_type": "display_data"
    },
    {
     "name": "stdout",
     "output_type": "stream",
     "text": [
      "0it [00:00, ?it/s]\n",
      "| \u001b[0m13       \u001b[0m | \u001b[0m0.9816   \u001b[0m | \u001b[0m0.05832  \u001b[0m |\n"
     ]
    },
    {
     "data": {
      "application/vnd.jupyter.widget-view+json": {
       "model_id": "430d81f169984653881362b90bb0ab14",
       "version_major": 2,
       "version_minor": 0
      },
      "text/plain": [
       "0it [00:00, ?it/s]"
      ]
     },
     "metadata": {},
     "output_type": "display_data"
    },
    {
     "name": "stdout",
     "output_type": "stream",
     "text": [
      "0it [00:00, ?it/s]\n"
     ]
    },
    {
     "data": {
      "application/vnd.jupyter.widget-view+json": {
       "model_id": "f94384ee374a4b7db0d0a91297cd2a7a",
       "version_major": 2,
       "version_minor": 0
      },
      "text/plain": [
       "0it [00:00, ?it/s]"
      ]
     },
     "metadata": {},
     "output_type": "display_data"
    },
    {
     "name": "stdout",
     "output_type": "stream",
     "text": [
      "0it [00:00, ?it/s]\n"
     ]
    },
    {
     "data": {
      "application/vnd.jupyter.widget-view+json": {
       "model_id": "cc0395c6f7124c2f88204a3aa6854cbc",
       "version_major": 2,
       "version_minor": 0
      },
      "text/plain": [
       "0it [00:00, ?it/s]"
      ]
     },
     "metadata": {},
     "output_type": "display_data"
    },
    {
     "name": "stdout",
     "output_type": "stream",
     "text": [
      "0it [00:00, ?it/s]\n"
     ]
    },
    {
     "data": {
      "application/vnd.jupyter.widget-view+json": {
       "model_id": "01ec19a1b2bf4eebabfc797fb0484d02",
       "version_major": 2,
       "version_minor": 0
      },
      "text/plain": [
       "0it [00:00, ?it/s]"
      ]
     },
     "metadata": {},
     "output_type": "display_data"
    },
    {
     "name": "stdout",
     "output_type": "stream",
     "text": [
      "0it [00:00, ?it/s]\n"
     ]
    },
    {
     "data": {
      "application/vnd.jupyter.widget-view+json": {
       "model_id": "d8b95f5c051a4b1581843f38ed5544ee",
       "version_major": 2,
       "version_minor": 0
      },
      "text/plain": [
       "0it [00:00, ?it/s]"
      ]
     },
     "metadata": {},
     "output_type": "display_data"
    },
    {
     "name": "stdout",
     "output_type": "stream",
     "text": [
      "0it [00:00, ?it/s]\n",
      "| \u001b[0m14       \u001b[0m | \u001b[0m0.9819   \u001b[0m | \u001b[0m0.05782  \u001b[0m |\n"
     ]
    },
    {
     "data": {
      "application/vnd.jupyter.widget-view+json": {
       "model_id": "5353f5e14f6f45c599e7228fabcf97e3",
       "version_major": 2,
       "version_minor": 0
      },
      "text/plain": [
       "0it [00:00, ?it/s]"
      ]
     },
     "metadata": {},
     "output_type": "display_data"
    },
    {
     "name": "stdout",
     "output_type": "stream",
     "text": [
      "0it [00:00, ?it/s]\n"
     ]
    },
    {
     "data": {
      "application/vnd.jupyter.widget-view+json": {
       "model_id": "8bd24ed9b015486280a74baa8b654431",
       "version_major": 2,
       "version_minor": 0
      },
      "text/plain": [
       "0it [00:00, ?it/s]"
      ]
     },
     "metadata": {},
     "output_type": "display_data"
    },
    {
     "name": "stdout",
     "output_type": "stream",
     "text": [
      "0it [00:00, ?it/s]\n"
     ]
    },
    {
     "data": {
      "application/vnd.jupyter.widget-view+json": {
       "model_id": "05223923a84b476b8f40b7f8fd12771c",
       "version_major": 2,
       "version_minor": 0
      },
      "text/plain": [
       "0it [00:00, ?it/s]"
      ]
     },
     "metadata": {},
     "output_type": "display_data"
    },
    {
     "name": "stdout",
     "output_type": "stream",
     "text": [
      "0it [00:00, ?it/s]\n"
     ]
    },
    {
     "data": {
      "application/vnd.jupyter.widget-view+json": {
       "model_id": "dae7597b06f24f32a19b8314703cb2ca",
       "version_major": 2,
       "version_minor": 0
      },
      "text/plain": [
       "0it [00:00, ?it/s]"
      ]
     },
     "metadata": {},
     "output_type": "display_data"
    },
    {
     "name": "stdout",
     "output_type": "stream",
     "text": [
      "0it [00:00, ?it/s]\n"
     ]
    },
    {
     "data": {
      "application/vnd.jupyter.widget-view+json": {
       "model_id": "712f47dc51544eb28162314a60470082",
       "version_major": 2,
       "version_minor": 0
      },
      "text/plain": [
       "0it [00:00, ?it/s]"
      ]
     },
     "metadata": {},
     "output_type": "display_data"
    },
    {
     "name": "stdout",
     "output_type": "stream",
     "text": [
      "0it [00:00, ?it/s]\n",
      "| \u001b[0m15       \u001b[0m | \u001b[0m0.9532   \u001b[0m | \u001b[0m0.05844  \u001b[0m |\n"
     ]
    },
    {
     "data": {
      "application/vnd.jupyter.widget-view+json": {
       "model_id": "d74bfd09d4f240168334185a84f36ed1",
       "version_major": 2,
       "version_minor": 0
      },
      "text/plain": [
       "0it [00:00, ?it/s]"
      ]
     },
     "metadata": {},
     "output_type": "display_data"
    },
    {
     "name": "stdout",
     "output_type": "stream",
     "text": [
      "0it [00:00, ?it/s]\n"
     ]
    },
    {
     "data": {
      "application/vnd.jupyter.widget-view+json": {
       "model_id": "1a0d19c68bf34dd884ddc735647a3fcb",
       "version_major": 2,
       "version_minor": 0
      },
      "text/plain": [
       "0it [00:00, ?it/s]"
      ]
     },
     "metadata": {},
     "output_type": "display_data"
    },
    {
     "name": "stdout",
     "output_type": "stream",
     "text": [
      "0it [00:00, ?it/s]\n"
     ]
    },
    {
     "data": {
      "application/vnd.jupyter.widget-view+json": {
       "model_id": "d25a283794ae4c59adb3258f8dca7b28",
       "version_major": 2,
       "version_minor": 0
      },
      "text/plain": [
       "0it [00:00, ?it/s]"
      ]
     },
     "metadata": {},
     "output_type": "display_data"
    },
    {
     "name": "stdout",
     "output_type": "stream",
     "text": [
      "0it [00:00, ?it/s]\n"
     ]
    },
    {
     "data": {
      "application/vnd.jupyter.widget-view+json": {
       "model_id": "2a3700f357ea4c838fd83f5c2ceaf6c9",
       "version_major": 2,
       "version_minor": 0
      },
      "text/plain": [
       "0it [00:00, ?it/s]"
      ]
     },
     "metadata": {},
     "output_type": "display_data"
    },
    {
     "name": "stdout",
     "output_type": "stream",
     "text": [
      "0it [00:00, ?it/s]\n"
     ]
    },
    {
     "data": {
      "application/vnd.jupyter.widget-view+json": {
       "model_id": "10f1abb4f0294c3b85cdd2433ab29fed",
       "version_major": 2,
       "version_minor": 0
      },
      "text/plain": [
       "0it [00:00, ?it/s]"
      ]
     },
     "metadata": {},
     "output_type": "display_data"
    },
    {
     "name": "stdout",
     "output_type": "stream",
     "text": [
      "0it [00:00, ?it/s]\n",
      "| \u001b[0m16       \u001b[0m | \u001b[0m0.9927   \u001b[0m | \u001b[0m0.05769  \u001b[0m |\n"
     ]
    },
    {
     "data": {
      "application/vnd.jupyter.widget-view+json": {
       "model_id": "2186ada52987414cb0cc93def2666036",
       "version_major": 2,
       "version_minor": 0
      },
      "text/plain": [
       "0it [00:00, ?it/s]"
      ]
     },
     "metadata": {},
     "output_type": "display_data"
    },
    {
     "name": "stdout",
     "output_type": "stream",
     "text": [
      "0it [00:00, ?it/s]\n"
     ]
    },
    {
     "data": {
      "application/vnd.jupyter.widget-view+json": {
       "model_id": "8ab0ae00a96c48b9bcc52600b45960f1",
       "version_major": 2,
       "version_minor": 0
      },
      "text/plain": [
       "0it [00:00, ?it/s]"
      ]
     },
     "metadata": {},
     "output_type": "display_data"
    },
    {
     "name": "stdout",
     "output_type": "stream",
     "text": [
      "0it [00:00, ?it/s]\n"
     ]
    },
    {
     "data": {
      "application/vnd.jupyter.widget-view+json": {
       "model_id": "1d1d4946353142c7837abfe3236691e4",
       "version_major": 2,
       "version_minor": 0
      },
      "text/plain": [
       "0it [00:00, ?it/s]"
      ]
     },
     "metadata": {},
     "output_type": "display_data"
    },
    {
     "name": "stdout",
     "output_type": "stream",
     "text": [
      "0it [00:00, ?it/s]\n"
     ]
    },
    {
     "data": {
      "application/vnd.jupyter.widget-view+json": {
       "model_id": "8537576af7d84b16a9b2591d703f75b4",
       "version_major": 2,
       "version_minor": 0
      },
      "text/plain": [
       "0it [00:00, ?it/s]"
      ]
     },
     "metadata": {},
     "output_type": "display_data"
    },
    {
     "name": "stdout",
     "output_type": "stream",
     "text": [
      "0it [00:00, ?it/s]\n"
     ]
    },
    {
     "data": {
      "application/vnd.jupyter.widget-view+json": {
       "model_id": "a10be276e29d407ba579b37abdcd5e4e",
       "version_major": 2,
       "version_minor": 0
      },
      "text/plain": [
       "0it [00:00, ?it/s]"
      ]
     },
     "metadata": {},
     "output_type": "display_data"
    },
    {
     "name": "stdout",
     "output_type": "stream",
     "text": [
      "0it [00:00, ?it/s]\n",
      "| \u001b[0m17       \u001b[0m | \u001b[0m0.9645   \u001b[0m | \u001b[0m0.05758  \u001b[0m |\n"
     ]
    },
    {
     "data": {
      "application/vnd.jupyter.widget-view+json": {
       "model_id": "5b652219282a4d42a962323ceb45daa3",
       "version_major": 2,
       "version_minor": 0
      },
      "text/plain": [
       "0it [00:00, ?it/s]"
      ]
     },
     "metadata": {},
     "output_type": "display_data"
    },
    {
     "name": "stdout",
     "output_type": "stream",
     "text": [
      "0it [00:00, ?it/s]\n"
     ]
    },
    {
     "data": {
      "application/vnd.jupyter.widget-view+json": {
       "model_id": "0594bc9fc10b4f8987258eb5b46c6967",
       "version_major": 2,
       "version_minor": 0
      },
      "text/plain": [
       "0it [00:00, ?it/s]"
      ]
     },
     "metadata": {},
     "output_type": "display_data"
    },
    {
     "name": "stdout",
     "output_type": "stream",
     "text": [
      "0it [00:00, ?it/s]\n"
     ]
    },
    {
     "data": {
      "application/vnd.jupyter.widget-view+json": {
       "model_id": "870bd884fb884318a4a3858792fb0964",
       "version_major": 2,
       "version_minor": 0
      },
      "text/plain": [
       "0it [00:00, ?it/s]"
      ]
     },
     "metadata": {},
     "output_type": "display_data"
    },
    {
     "name": "stdout",
     "output_type": "stream",
     "text": [
      "0it [00:00, ?it/s]\n"
     ]
    },
    {
     "data": {
      "application/vnd.jupyter.widget-view+json": {
       "model_id": "01fce5e2af69465ca6619be05ea67db2",
       "version_major": 2,
       "version_minor": 0
      },
      "text/plain": [
       "0it [00:00, ?it/s]"
      ]
     },
     "metadata": {},
     "output_type": "display_data"
    },
    {
     "name": "stdout",
     "output_type": "stream",
     "text": [
      "0it [00:00, ?it/s]\n"
     ]
    },
    {
     "data": {
      "application/vnd.jupyter.widget-view+json": {
       "model_id": "5434f093bab14acd9996179c5fcc2e42",
       "version_major": 2,
       "version_minor": 0
      },
      "text/plain": [
       "0it [00:00, ?it/s]"
      ]
     },
     "metadata": {},
     "output_type": "display_data"
    },
    {
     "name": "stdout",
     "output_type": "stream",
     "text": [
      "0it [00:00, ?it/s]\n",
      "| \u001b[0m18       \u001b[0m | \u001b[0m0.9899   \u001b[0m | \u001b[0m0.05729  \u001b[0m |\n"
     ]
    },
    {
     "data": {
      "application/vnd.jupyter.widget-view+json": {
       "model_id": "d51d241aaf0941bc82e99a2b33a7c4ce",
       "version_major": 2,
       "version_minor": 0
      },
      "text/plain": [
       "0it [00:00, ?it/s]"
      ]
     },
     "metadata": {},
     "output_type": "display_data"
    },
    {
     "name": "stdout",
     "output_type": "stream",
     "text": [
      "0it [00:00, ?it/s]\n"
     ]
    },
    {
     "data": {
      "application/vnd.jupyter.widget-view+json": {
       "model_id": "0a3d1fb8492f49a0ac80259c044e076e",
       "version_major": 2,
       "version_minor": 0
      },
      "text/plain": [
       "0it [00:00, ?it/s]"
      ]
     },
     "metadata": {},
     "output_type": "display_data"
    },
    {
     "name": "stdout",
     "output_type": "stream",
     "text": [
      "0it [00:00, ?it/s]\n"
     ]
    },
    {
     "data": {
      "application/vnd.jupyter.widget-view+json": {
       "model_id": "da62950dd6864c4a8405432d3b706d11",
       "version_major": 2,
       "version_minor": 0
      },
      "text/plain": [
       "0it [00:00, ?it/s]"
      ]
     },
     "metadata": {},
     "output_type": "display_data"
    },
    {
     "name": "stdout",
     "output_type": "stream",
     "text": [
      "0it [00:00, ?it/s]\n"
     ]
    },
    {
     "data": {
      "application/vnd.jupyter.widget-view+json": {
       "model_id": "67b541e9a98b4758b540febb593f70cc",
       "version_major": 2,
       "version_minor": 0
      },
      "text/plain": [
       "0it [00:00, ?it/s]"
      ]
     },
     "metadata": {},
     "output_type": "display_data"
    },
    {
     "name": "stdout",
     "output_type": "stream",
     "text": [
      "0it [00:00, ?it/s]\n"
     ]
    },
    {
     "data": {
      "application/vnd.jupyter.widget-view+json": {
       "model_id": "e64391f1f6e5407298da94b06bcab50a",
       "version_major": 2,
       "version_minor": 0
      },
      "text/plain": [
       "0it [00:00, ?it/s]"
      ]
     },
     "metadata": {},
     "output_type": "display_data"
    },
    {
     "name": "stdout",
     "output_type": "stream",
     "text": [
      "0it [00:00, ?it/s]\n",
      "| \u001b[0m19       \u001b[0m | \u001b[0m0.9889   \u001b[0m | \u001b[0m0.05715  \u001b[0m |\n",
      "=====================================\n",
      "Best result: {'lr': 0.05808370635983825}; f(x) = 0.9940320099703968.\n"
     ]
    }
   ],
   "source": [
    "optimizer.maximize(n_iter=10)\n",
    "print(\"Best result: {}; f(x) = {}.\".format(optimizer.max[\"params\"], optimizer.max[\"target\"]))"
   ]
  },
  {
   "cell_type": "markdown",
   "id": "3782a212",
   "metadata": {},
   "source": [
    "## Best results: {'lr': 0.05808370635983825}; f(x) = 0.9940320099703968.)"
   ]
  },
  {
   "cell_type": "code",
   "execution_count": 26,
   "id": "358fe18d",
   "metadata": {},
   "outputs": [],
   "source": [
    "optimizer = torch.optim.Adam(model.parameters(), lr=optimizer.max[\"params\"]['lr'])"
   ]
  },
  {
   "cell_type": "code",
   "execution_count": 68,
   "id": "271830a3",
   "metadata": {},
   "outputs": [
    {
     "data": {
      "application/vnd.jupyter.widget-view+json": {
       "model_id": "59cb30ece6184bfb90e00e2641b5bd56",
       "version_major": 2,
       "version_minor": 0
      },
      "text/plain": [
       "0it [00:00, ?it/s]"
      ]
     },
     "metadata": {},
     "output_type": "display_data"
    },
    {
     "name": "stdout",
     "output_type": "stream",
     "text": [
      "0it [00:00, ?it/s]\n"
     ]
    },
    {
     "data": {
      "application/vnd.jupyter.widget-view+json": {
       "model_id": "14a2150c60014dbb9896583a46665a20",
       "version_major": 2,
       "version_minor": 0
      },
      "text/plain": [
       "0it [00:00, ?it/s]"
      ]
     },
     "metadata": {},
     "output_type": "display_data"
    },
    {
     "name": "stdout",
     "output_type": "stream",
     "text": [
      "Training loss: 0.011333680711686611\n",
      "Validation loss: 0.02784580923616886\n"
     ]
    },
    {
     "data": {
      "application/vnd.jupyter.widget-view+json": {
       "model_id": "70402bab21ae48688935e3493ebcc9c9",
       "version_major": 2,
       "version_minor": 0
      },
      "text/plain": [
       "0it [00:00, ?it/s]"
      ]
     },
     "metadata": {},
     "output_type": "display_data"
    },
    {
     "name": "stdout",
     "output_type": "stream",
     "text": [
      "0it [00:00, ?it/s]\n"
     ]
    },
    {
     "data": {
      "application/vnd.jupyter.widget-view+json": {
       "model_id": "cb53437f5dd745e0a311e51e357207ed",
       "version_major": 2,
       "version_minor": 0
      },
      "text/plain": [
       "0it [00:00, ?it/s]"
      ]
     },
     "metadata": {},
     "output_type": "display_data"
    },
    {
     "name": "stdout",
     "output_type": "stream",
     "text": [
      "Training loss: 0.05510992184281349\n",
      "Validation loss: 0.02577950805425644\n"
     ]
    },
    {
     "data": {
      "application/vnd.jupyter.widget-view+json": {
       "model_id": "b5e0f383be5041a7ac06d2e911d06683",
       "version_major": 2,
       "version_minor": 0
      },
      "text/plain": [
       "0it [00:00, ?it/s]"
      ]
     },
     "metadata": {},
     "output_type": "display_data"
    },
    {
     "name": "stdout",
     "output_type": "stream",
     "text": [
      "0it [00:00, ?it/s]\n"
     ]
    },
    {
     "data": {
      "application/vnd.jupyter.widget-view+json": {
       "model_id": "d83b929019ec450ebd374296f16bcca3",
       "version_major": 2,
       "version_minor": 0
      },
      "text/plain": [
       "0it [00:00, ?it/s]"
      ]
     },
     "metadata": {},
     "output_type": "display_data"
    },
    {
     "name": "stdout",
     "output_type": "stream",
     "text": [
      "Training loss: 0.06030672788619995\n",
      "Validation loss: 0.07625355571508408\n"
     ]
    },
    {
     "data": {
      "application/vnd.jupyter.widget-view+json": {
       "model_id": "3f82e3784efd4b338b888cae6bdae4e2",
       "version_major": 2,
       "version_minor": 0
      },
      "text/plain": [
       "0it [00:00, ?it/s]"
      ]
     },
     "metadata": {},
     "output_type": "display_data"
    },
    {
     "name": "stdout",
     "output_type": "stream",
     "text": [
      "0it [00:00, ?it/s]\n"
     ]
    },
    {
     "data": {
      "application/vnd.jupyter.widget-view+json": {
       "model_id": "57c065ed6fc94329b86d4b23ada963dd",
       "version_major": 2,
       "version_minor": 0
      },
      "text/plain": [
       "0it [00:00, ?it/s]"
      ]
     },
     "metadata": {},
     "output_type": "display_data"
    },
    {
     "name": "stdout",
     "output_type": "stream",
     "text": [
      "Training loss: 0.017705390229821205\n",
      "Validation loss: 0.021793529391288757\n"
     ]
    },
    {
     "data": {
      "application/vnd.jupyter.widget-view+json": {
       "model_id": "6df37df5f1584b3aac260b954b0f34bb",
       "version_major": 2,
       "version_minor": 0
      },
      "text/plain": [
       "0it [00:00, ?it/s]"
      ]
     },
     "metadata": {},
     "output_type": "display_data"
    },
    {
     "name": "stdout",
     "output_type": "stream",
     "text": [
      "0it [00:00, ?it/s]\n"
     ]
    },
    {
     "data": {
      "application/vnd.jupyter.widget-view+json": {
       "model_id": "75cbe45607c44944bb177a1cd5f32046",
       "version_major": 2,
       "version_minor": 0
      },
      "text/plain": [
       "0it [00:00, ?it/s]"
      ]
     },
     "metadata": {},
     "output_type": "display_data"
    },
    {
     "name": "stdout",
     "output_type": "stream",
     "text": [
      "Training loss: 0.010218623094260693\n",
      "Validation loss: 0.02284608781337738\n"
     ]
    }
   ],
   "source": [
    "loss_vals = []\n",
    "val_loss_vals = []\n",
    "for epoch in range(epochs):\n",
    "    loop = tqdm(enumerate(train_loader))\n",
    "    print(loop)\n",
    "    for i, x in loop:\n",
    "        #Forward pass\n",
    "        x = x.to(device).view(x.shape[0], input_dim)\n",
    "        x_recon, mu, sigma = model(x)\n",
    "        \n",
    "        #compute loss\n",
    "        recon_loss = loss_fn(x_recon, x)\n",
    "        kl_div = -torch.sum(1+torch.log(sigma.pow(2)) - mu.pow(2) - sigma.pow(2))\n",
    "        \n",
    "        #backprop\n",
    "        loss= recon_loss+kl_div\n",
    "        optimizer.zero_grad()\n",
    "        loss.backward()\n",
    "        optimizer.step()\n",
    "        loop.set_postfix(loss = loss.item())\n",
    "    loss_vals.append(loss.item())\n",
    "    \n",
    "    val_loop = tqdm(enumerate(valid_loader))\n",
    "    for j, v in val_loop:\n",
    "        v = v.to(device).view(v.shape[0], input_dim)\n",
    "        val_recon, val_mu, val_sigma = model(v)\n",
    "        val_recon = loss_fn(val_recon, v)\n",
    "        val_kl = -torch.sum(1+torch.log(val_sigma.pow(2)) - val_mu.pow(2) - val_sigma.pow(2))\n",
    "        val_loss = val_recon+val_kl\n",
    "    val_loss_vals.append(val_loss.item())\n",
    "    \n",
    "    print('Training loss: {}\\nValidation loss: {}'.format(loss.item(), val_loss.item()))"
   ]
  },
  {
   "cell_type": "code",
   "execution_count": 69,
   "id": "a114b2fc",
   "metadata": {},
   "outputs": [],
   "source": [
    "loss_vals.reverse()\n",
    "loss_vals = loss_vals[:5]\n",
    "loss_vals.reverse()"
   ]
  },
  {
   "cell_type": "code",
   "execution_count": 70,
   "id": "9bc82401",
   "metadata": {},
   "outputs": [],
   "source": [
    "val_loss_vals.reverse()\n",
    "val_loss_vals = val_loss_vals[:5]\n",
    "val_loss_vals.reverse()"
   ]
  },
  {
   "cell_type": "code",
   "execution_count": 71,
   "id": "4af28af9",
   "metadata": {},
   "outputs": [
    {
     "data": {
      "image/png": "[encoded data removed]",
      "text/plain": [
       "<Figure size 640x480 with 1 Axes>"
      ]
     },
     "metadata": {},
     "output_type": "display_data"
    }
   ],
   "source": [
    "plt.title('Loss', fontsize = 20)\n",
    "plt.xlabel('Epoch', fontsize = 15)\n",
    "plt.ylabel('Loss')\n",
    "plt.plot(loss_vals, color='blue', label = 'Train')\n",
    "plt.plot(val_loss_vals, color = 'orange', label = 'Validation')\n",
    "plt.legend()\n",
    "plt.xticks([1, 2, 3, 4, 5])\n",
    "plt.show()"
   ]
  },
  {
   "cell_type": "code",
   "execution_count": 72,
   "id": "77198690",
   "metadata": {},
   "outputs": [],
   "source": [
    "info = [loss_vals, val_loss_vals]\n",
    "chi2, p, dof, _ = chi2_contingency(info)"
   ]
  },
  {
   "cell_type": "code",
   "execution_count": 73,
   "id": "022df5f2",
   "metadata": {},
   "outputs": [
    {
     "name": "stdout",
     "output_type": "stream",
     "text": [
      "Chi2: 0.023591441935504942\n",
      "p-value: 0.9999309751527969\n",
      "dof: 4\n"
     ]
    }
   ],
   "source": [
    "print('Chi2: {}\\np-value: {}\\ndof: {}'.format(chi2, p, dof))"
   ]
  },
  {
   "cell_type": "markdown",
   "id": "a3e628f1",
   "metadata": {},
   "source": [
    "### Any p-value we set is going to have the null hypothesis accepted, so we can pretty safely say we aren't overfitting here"
   ]
  },
  {
   "cell_type": "code",
   "execution_count": 42,
   "id": "57d6ce22",
   "metadata": {},
   "outputs": [],
   "source": [
    "torch.save(model.state_dict(), 'vae_optimized.pth')"
   ]
  },
  {
   "cell_type": "code",
   "execution_count": 10,
   "id": "91fc1cb2",
   "metadata": {},
   "outputs": [
    {
     "data": {
      "text/plain": [
       "VAE(\n",
       "  (dat_2hid): Linear(in_features=7, out_features=32, bias=True)\n",
       "  (hid_2mu): Linear(in_features=32, out_features=2, bias=True)\n",
       "  (hid_2sigma): Linear(in_features=32, out_features=2, bias=True)\n",
       "  (z_2hid): Linear(in_features=2, out_features=32, bias=True)\n",
       "  (hid_2dat): Linear(in_features=32, out_features=7, bias=True)\n",
       "  (relu): ReLU()\n",
       ")"
      ]
     },
     "execution_count": 10,
     "metadata": {},
     "output_type": "execute_result"
    }
   ],
   "source": [
    "#Later to restore:\n",
    "model = VAE()\n",
    "model.load_state_dict(torch.load('vae_optimized.pth'))\n",
    "model.eval()"
   ]
  },
  {
   "cell_type": "code",
   "execution_count": 43,
   "id": "0d5f1189",
   "metadata": {},
   "outputs": [],
   "source": [
    "test_loader = DataLoader(x_test.astype(np.float32), batch_size=batch_size)"
   ]
  },
  {
   "cell_type": "code",
   "execution_count": 44,
   "id": "6117c540",
   "metadata": {},
   "outputs": [],
   "source": [
    "y_pred = []\n",
    "for inputs in test_loader:\n",
    "    output = model(inputs)[0]\n",
    "    y_pred.extend(output)"
   ]
  },
  {
   "cell_type": "code",
   "execution_count": 45,
   "id": "f2c73b97",
   "metadata": {},
   "outputs": [
    {
     "data": {
      "text/plain": [
       "332433"
      ]
     },
     "execution_count": 45,
     "metadata": {},
     "output_type": "execute_result"
    }
   ],
   "source": [
    "len(y_pred)"
   ]
  },
  {
   "cell_type": "code",
   "execution_count": 46,
   "id": "53d95015",
   "metadata": {},
   "outputs": [
    {
     "data": {
      "text/plain": [
       "332433"
      ]
     },
     "execution_count": 46,
     "metadata": {},
     "output_type": "execute_result"
    }
   ],
   "source": [
    "len(x_test)"
   ]
  },
  {
   "cell_type": "code",
   "execution_count": 47,
   "id": "56d61d97",
   "metadata": {},
   "outputs": [
    {
     "data": {
      "text/plain": [
       "array([[0.49295775, 0.36805556, 0.16324858, ..., 0.75635319, 0.03150417,\n",
       "        0.39661069],\n",
       "       [0.20422535, 0.38888889, 0.11764723, ..., 0.58190395, 0.04752486,\n",
       "        0.08803627],\n",
       "       [0.16197183, 0.25      , 0.23386834, ..., 0.41595439, 0.04306783,\n",
       "        0.20303357],\n",
       "       ...,\n",
       "       [0.42253521, 0.25      , 0.16333338, ..., 0.51894174, 0.01647739,\n",
       "        0.43141199],\n",
       "       [0.57746479, 0.42361111, 0.53550882, ..., 0.54722252, 0.03239748,\n",
       "        0.21648599],\n",
       "       [0.14788732, 0.28472222, 0.1281907 , ..., 0.21438334, 0.17048407,\n",
       "        0.512711  ]])"
      ]
     },
     "execution_count": 47,
     "metadata": {},
     "output_type": "execute_result"
    }
   ],
   "source": [
    "x_test"
   ]
  },
  {
   "cell_type": "code",
   "execution_count": 48,
   "id": "48ad9cb1",
   "metadata": {},
   "outputs": [
    {
     "data": {
      "text/plain": [
       "0.27356594800949097"
      ]
     },
     "execution_count": 48,
     "metadata": {},
     "output_type": "execute_result"
    }
   ],
   "source": [
    "y_pred[0][0].item()"
   ]
  },
  {
   "cell_type": "code",
   "execution_count": 49,
   "id": "41dbeebe",
   "metadata": {},
   "outputs": [],
   "source": [
    "y_pred = [[i[j].item() for j in range(len(i))] for i in y_pred]"
   ]
  },
  {
   "cell_type": "code",
   "execution_count": 50,
   "id": "1d8e5da4",
   "metadata": {},
   "outputs": [
    {
     "data": {
      "text/plain": [
       "[0.27356594800949097,\n",
       " 0.24111193418502808,\n",
       " 0.18643151223659515,\n",
       " 0.5006083846092224,\n",
       " 0.5430699586868286,\n",
       " 0.05031558871269226,\n",
       " 0.24633406102657318]"
      ]
     },
     "execution_count": 50,
     "metadata": {},
     "output_type": "execute_result"
    }
   ],
   "source": [
    "y_pred[0]"
   ]
  },
  {
   "cell_type": "code",
   "execution_count": 51,
   "id": "e09138f0",
   "metadata": {},
   "outputs": [
    {
     "data": {
      "text/plain": [
       "array([0.49295775, 0.36805556, 0.16324858, 0.36522273, 0.75635319,\n",
       "       0.03150417, 0.39661069])"
      ]
     },
     "execution_count": 51,
     "metadata": {},
     "output_type": "execute_result"
    }
   ],
   "source": [
    "x_test[0]"
   ]
  },
  {
   "cell_type": "code",
   "execution_count": 52,
   "id": "d7e80a57",
   "metadata": {},
   "outputs": [],
   "source": [
    "cols = features.columns"
   ]
  },
  {
   "cell_type": "code",
   "execution_count": 53,
   "id": "aa44d8ff",
   "metadata": {},
   "outputs": [
    {
     "data": {
      "text/plain": [
       "Index(['ungr_lead', 'ungr_sub', 'mjj', 'eta_lead', 'eta_sub', 'pt_asym',\n",
       "       'dyjj'],\n",
       "      dtype='object')"
      ]
     },
     "execution_count": 53,
     "metadata": {},
     "output_type": "execute_result"
    }
   ],
   "source": [
    "cols"
   ]
  },
  {
   "cell_type": "code",
   "execution_count": 54,
   "id": "cfa4993c",
   "metadata": {},
   "outputs": [],
   "source": [
    "pred_dict = {}\n",
    "for i in range(len(cols)):\n",
    "    pred_dict[cols[i]] = [np.square(y_pred[j][i]-x_test[j][i]) for j in range(len(y_pred))]"
   ]
  },
  {
   "cell_type": "code",
   "execution_count": 55,
   "id": "9c5d1555",
   "metadata": {},
   "outputs": [
    {
     "data": {
      "text/plain": [
       "332433"
      ]
     },
     "execution_count": 55,
     "metadata": {},
     "output_type": "execute_result"
    }
   ],
   "source": [
    "len(pred_dict['mjj'])"
   ]
  },
  {
   "cell_type": "code",
   "execution_count": 56,
   "id": "705e80cf",
   "metadata": {},
   "outputs": [
    {
     "data": {
      "text/plain": [
       "dict_keys(['ungr_lead', 'ungr_sub', 'mjj', 'eta_lead', 'eta_sub', 'pt_asym', 'dyjj'])"
      ]
     },
     "execution_count": 56,
     "metadata": {},
     "output_type": "execute_result"
    }
   ],
   "source": [
    "pred_dict.keys()"
   ]
  },
  {
   "cell_type": "code",
   "execution_count": 61,
   "id": "e0708653",
   "metadata": {},
   "outputs": [],
   "source": [
    "final_res = {}\n",
    "for key, val in pred_dict.items():\n",
    "    final_res[key] = (np.sqrt(np.sum(val)))/len(val)"
   ]
  },
  {
   "cell_type": "code",
   "execution_count": 62,
   "id": "eb9b17b9",
   "metadata": {},
   "outputs": [
    {
     "data": {
      "text/plain": [
       "[0.00016272659985032376,\n",
       " 0.0001803818493063399,\n",
       " 0.0002354038566490321,\n",
       " 0.00035888945277176055,\n",
       " 0.0003703189286536684,\n",
       " 0.00012936576356215794,\n",
       " 0.0003048282875816646]"
      ]
     },
     "execution_count": 62,
     "metadata": {},
     "output_type": "execute_result"
    }
   ],
   "source": [
    "list(final_res.values())"
   ]
  },
  {
   "cell_type": "code",
   "execution_count": 63,
   "id": "5c2de511",
   "metadata": {},
   "outputs": [],
   "source": [
    "tot_res = (np.sqrt(np.sum(np.square(np.array(list(final_res.values()))))))/len(list(final_res.values()))"
   ]
  },
  {
   "cell_type": "code",
   "execution_count": 64,
   "id": "96789967",
   "metadata": {},
   "outputs": [
    {
     "data": {
      "text/plain": [
       "0.00010000265991414114"
      ]
     },
     "execution_count": 64,
     "metadata": {},
     "output_type": "execute_result"
    }
   ],
   "source": [
    "tot_res"
   ]
  },
  {
   "cell_type": "code",
   "execution_count": null,
   "id": "8ec03bd9",
   "metadata": {},
   "outputs": [],
   "source": []
  }
 ],
 "metadata": {
  "kernelspec": {
   "display_name": "Python 3 (ipykernel)",
   "language": "python",
   "name": "python3"
  },
  "language_info": {
   "codemirror_mode": {
    "name": "ipython",
    "version": 3
   },
   "file_extension": ".py",
   "mimetype": "text/x-python",
   "name": "python",
   "nbconvert_exporter": "python",
   "pygments_lexer": "ipython3",
   "version": "3.9.13"
  }
 },
 "nbformat": 4,
 "nbformat_minor": 5
}

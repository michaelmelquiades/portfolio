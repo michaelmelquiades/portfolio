{
 "cells": [
  {
   "cell_type": "code",
   "execution_count": 95,
   "id": "848a3534",
   "metadata": {},
   "outputs": [],
   "source": [
    "import pandas as pd\n",
    "import numpy as np\n",
    "import matplotlib.pyplot as plt\n",
    "import pickle as pkl\n",
    "import seaborn as sns\n",
    "\n",
    "from sklearn.naive_bayes import GaussianNB\n",
    "from sklearn.tree import DecisionTreeClassifier\n",
    "from sklearn.ensemble import AdaBoostClassifier\n",
    "from sklearn import metrics\n",
    "from sklearn.model_selection import train_test_split\n",
    "from sklearn.preprocessing import MinMaxScaler, StandardScaler\n",
    "from sklearn.metrics import precision_score, recall_score, f1_score, accuracy_score, roc_curve, auc \n",
    "from sklearn.metrics import confusion_matrix, ConfusionMatrixDisplay\n",
    "\n",
    "import tensorflow as tf\n",
    "from tensorflow.keras.wrappers.scikit_learn import KerasClassifier\n",
    "from tensorflow.keras.layers import Dense\n",
    "from tensorflow.keras.models import Sequential\n",
    "\n",
    "import random\n",
    "\n",
    "import warnings\n",
    "warnings.filterwarnings('ignore')"
   ]
  },
  {
   "cell_type": "code",
   "execution_count": 96,
   "id": "d7fdb46d",
   "metadata": {},
   "outputs": [
    {
     "data": {
      "text/html": [
       "<div>\n",
       "<style scoped>\n",
       "    .dataframe tbody tr th:only-of-type {\n",
       "        vertical-align: middle;\n",
       "    }\n",
       "\n",
       "    .dataframe tbody tr th {\n",
       "        vertical-align: top;\n",
       "    }\n",
       "\n",
       "    .dataframe thead th {\n",
       "        text-align: right;\n",
       "    }\n",
       "</style>\n",
       "<table border=\"1\" class=\"dataframe\">\n",
       "  <thead>\n",
       "    <tr style=\"text-align: right;\">\n",
       "      <th></th>\n",
       "      <th>mjjs</th>\n",
       "      <th>dyjjs</th>\n",
       "      <th>pt_asyms</th>\n",
       "      <th>lead_etas</th>\n",
       "      <th>sub_etas</th>\n",
       "      <th>lead_ungrs</th>\n",
       "      <th>sub_ungrs</th>\n",
       "      <th>lead_ntrk</th>\n",
       "      <th>sub_ntrk</th>\n",
       "    </tr>\n",
       "  </thead>\n",
       "  <tbody>\n",
       "    <tr>\n",
       "      <th>0</th>\n",
       "      <td>1130.073853</td>\n",
       "      <td>0.493658</td>\n",
       "      <td>113.070160</td>\n",
       "      <td>1.011049</td>\n",
       "      <td>1.521789</td>\n",
       "      <td>29</td>\n",
       "      <td>26</td>\n",
       "      <td>-35.905251</td>\n",
       "      <td>-44.798538</td>\n",
       "    </tr>\n",
       "    <tr>\n",
       "      <th>1</th>\n",
       "      <td>2449.469238</td>\n",
       "      <td>1.885328</td>\n",
       "      <td>45.750488</td>\n",
       "      <td>-0.200387</td>\n",
       "      <td>1.692164</td>\n",
       "      <td>45</td>\n",
       "      <td>41</td>\n",
       "      <td>-28.666266</td>\n",
       "      <td>-42.613891</td>\n",
       "    </tr>\n",
       "    <tr>\n",
       "      <th>2</th>\n",
       "      <td>1430.661377</td>\n",
       "      <td>1.006497</td>\n",
       "      <td>176.988586</td>\n",
       "      <td>0.312018</td>\n",
       "      <td>1.330938</td>\n",
       "      <td>33</td>\n",
       "      <td>49</td>\n",
       "      <td>-34.928000</td>\n",
       "      <td>-25.952763</td>\n",
       "    </tr>\n",
       "    <tr>\n",
       "      <th>3</th>\n",
       "      <td>1950.014404</td>\n",
       "      <td>1.921846</td>\n",
       "      <td>10.478271</td>\n",
       "      <td>-1.455257</td>\n",
       "      <td>0.545058</td>\n",
       "      <td>36</td>\n",
       "      <td>38</td>\n",
       "      <td>-35.587213</td>\n",
       "      <td>-42.304083</td>\n",
       "    </tr>\n",
       "    <tr>\n",
       "      <th>4</th>\n",
       "      <td>1432.149048</td>\n",
       "      <td>0.957917</td>\n",
       "      <td>80.403076</td>\n",
       "      <td>0.475771</td>\n",
       "      <td>-0.528239</td>\n",
       "      <td>37</td>\n",
       "      <td>43</td>\n",
       "      <td>-30.941180</td>\n",
       "      <td>-31.971276</td>\n",
       "    </tr>\n",
       "    <tr>\n",
       "      <th>...</th>\n",
       "      <td>...</td>\n",
       "      <td>...</td>\n",
       "      <td>...</td>\n",
       "      <td>...</td>\n",
       "      <td>...</td>\n",
       "      <td>...</td>\n",
       "      <td>...</td>\n",
       "      <td>...</td>\n",
       "      <td>...</td>\n",
       "    </tr>\n",
       "    <tr>\n",
       "      <th>1999995</th>\n",
       "      <td>1266.208740</td>\n",
       "      <td>0.307657</td>\n",
       "      <td>106.955811</td>\n",
       "      <td>-0.175908</td>\n",
       "      <td>-0.515509</td>\n",
       "      <td>30</td>\n",
       "      <td>65</td>\n",
       "      <td>-36.364752</td>\n",
       "      <td>-7.783872</td>\n",
       "    </tr>\n",
       "    <tr>\n",
       "      <th>1999996</th>\n",
       "      <td>2796.294678</td>\n",
       "      <td>1.515204</td>\n",
       "      <td>304.963562</td>\n",
       "      <td>-0.877777</td>\n",
       "      <td>0.652355</td>\n",
       "      <td>62</td>\n",
       "      <td>41</td>\n",
       "      <td>-12.558663</td>\n",
       "      <td>-44.059415</td>\n",
       "    </tr>\n",
       "    <tr>\n",
       "      <th>1999997</th>\n",
       "      <td>1558.986206</td>\n",
       "      <td>0.614022</td>\n",
       "      <td>449.194580</td>\n",
       "      <td>0.225624</td>\n",
       "      <td>0.864394</td>\n",
       "      <td>77</td>\n",
       "      <td>19</td>\n",
       "      <td>7.995984</td>\n",
       "      <td>-57.479116</td>\n",
       "    </tr>\n",
       "    <tr>\n",
       "      <th>1999998</th>\n",
       "      <td>1763.242310</td>\n",
       "      <td>0.211903</td>\n",
       "      <td>68.324036</td>\n",
       "      <td>-0.222037</td>\n",
       "      <td>-0.009930</td>\n",
       "      <td>21</td>\n",
       "      <td>61</td>\n",
       "      <td>-49.476015</td>\n",
       "      <td>-17.625761</td>\n",
       "    </tr>\n",
       "    <tr>\n",
       "      <th>1999999</th>\n",
       "      <td>2181.372803</td>\n",
       "      <td>2.536199</td>\n",
       "      <td>148.490906</td>\n",
       "      <td>1.696778</td>\n",
       "      <td>-0.932512</td>\n",
       "      <td>20</td>\n",
       "      <td>31</td>\n",
       "      <td>-52.693485</td>\n",
       "      <td>-51.037132</td>\n",
       "    </tr>\n",
       "  </tbody>\n",
       "</table>\n",
       "<p>2000000 rows × 9 columns</p>\n",
       "</div>"
      ],
      "text/plain": [
       "                mjjs     dyjjs    pt_asyms  lead_etas  sub_etas  lead_ungrs  \\\n",
       "0        1130.073853  0.493658  113.070160   1.011049  1.521789          29   \n",
       "1        2449.469238  1.885328   45.750488  -0.200387  1.692164          45   \n",
       "2        1430.661377  1.006497  176.988586   0.312018  1.330938          33   \n",
       "3        1950.014404  1.921846   10.478271  -1.455257  0.545058          36   \n",
       "4        1432.149048  0.957917   80.403076   0.475771 -0.528239          37   \n",
       "...              ...       ...         ...        ...       ...         ...   \n",
       "1999995  1266.208740  0.307657  106.955811  -0.175908 -0.515509          30   \n",
       "1999996  2796.294678  1.515204  304.963562  -0.877777  0.652355          62   \n",
       "1999997  1558.986206  0.614022  449.194580   0.225624  0.864394          77   \n",
       "1999998  1763.242310  0.211903   68.324036  -0.222037 -0.009930          21   \n",
       "1999999  2181.372803  2.536199  148.490906   1.696778 -0.932512          20   \n",
       "\n",
       "         sub_ungrs  lead_ntrk   sub_ntrk  \n",
       "0               26 -35.905251 -44.798538  \n",
       "1               41 -28.666266 -42.613891  \n",
       "2               49 -34.928000 -25.952763  \n",
       "3               38 -35.587213 -42.304083  \n",
       "4               43 -30.941180 -31.971276  \n",
       "...            ...        ...        ...  \n",
       "1999995         65 -36.364752  -7.783872  \n",
       "1999996         41 -12.558663 -44.059415  \n",
       "1999997         19   7.995984 -57.479116  \n",
       "1999998         61 -49.476015 -17.625761  \n",
       "1999999         31 -52.693485 -51.037132  \n",
       "\n",
       "[2000000 rows x 9 columns]"
      ]
     },
     "execution_count": 96,
     "metadata": {},
     "output_type": "execute_result"
    }
   ],
   "source": [
    "data = pd.read_csv('real_data.csv').drop(columns='Unnamed: 0')\n",
    "data"
   ]
  },
  {
   "cell_type": "code",
   "execution_count": 125,
   "id": "fb04f237",
   "metadata": {},
   "outputs": [],
   "source": [
    "data_features = data.iloc[:, :-2]"
   ]
  },
  {
   "cell_type": "code",
   "execution_count": 126,
   "id": "6d003ad5",
   "metadata": {},
   "outputs": [],
   "source": [
    "df = pd.read_csv('df_bkg_red.csv').drop(columns = 'Unnamed: 0')\n",
    "models = ['A', 'B', 'C', 'D']\n",
    "for i in models:\n",
    "    df = pd.concat([df, pd.read_csv('df_model%s_red.csv'%(i)).drop(columns = 'Unnamed: 0')], ignore_index=True)\n",
    "\n",
    "df_bin = df.copy()\n",
    "df_bin.labels = df.labels.replace([2, 3, 4], 1)\n",
    "labels_bin = df_bin.labels\n",
    "features = df.iloc[:, :-2]\n",
    "labels = df.labels\n",
    "x_train, x_test, y_train, y_test = train_test_split(features, labels, test_size=0.2, random_state=42)\n",
    "_, _, y_train_bin, y_test_bin = train_test_split(features, labels_bin, test_size=0.2, random_state=42)\n",
    "x_test_control = x_test[(x_test.lead_ntrk < 0)]\n",
    "x_test_control = x_test_control[(x_test_control.sub_ntrk < 0)]\n",
    "x_train_control = x_train[(x_train.lead_ntrk < 0)]\n",
    "x_train_control = x_train_control[(x_train_control.sub_ntrk < 0)]\n",
    "\n",
    "y_test_control = y_test[x_test_control.index]\n",
    "y_test_control_bin = y_test_bin[x_test_control.index]\n",
    "y_train_control = y_train[x_train_control.index]\n",
    "y_train_control_bin = y_train_bin[x_train_control.index]"
   ]
  },
  {
   "cell_type": "code",
   "execution_count": 127,
   "id": "e6d6743d",
   "metadata": {},
   "outputs": [],
   "source": [
    "scaler = MinMaxScaler()\n",
    "x_train = scaler.fit_transform(x_train.iloc[:, :7])\n",
    "x_test = scaler.fit_transform(x_test.iloc[:, :7])\n",
    "\n",
    "x_train_control = scaler.fit_transform(x_train_control.iloc[:, :7])\n",
    "x_test_control = scaler.fit_transform(x_test_control.iloc[:, :7])\n",
    "\n",
    "data_scaled = scaler.fit_transform(data.iloc[:, :7])\n",
    "data_cont_scaled = scaler.fit_transform(data_features.iloc[:, :7])"
   ]
  },
  {
   "cell_type": "code",
   "execution_count": 12,
   "id": "fd92efd5",
   "metadata": {},
   "outputs": [],
   "source": [
    "bdt = pkl.load(open('bdt_optimized_red.pkl', 'rb'))\n",
    "bdt_bin = pkl.load(open('bdt_bin_optimized_red.pkl', 'rb'))"
   ]
  },
  {
   "cell_type": "code",
   "execution_count": 128,
   "id": "3be68899",
   "metadata": {},
   "outputs": [],
   "source": [
    "tree = DecisionTreeClassifier(criterion='entropy',\n",
    "                              max_depth=15,\n",
    "                            min_samples_leaf=0.36931642349065275,\n",
    "                           min_samples_split=0.7479086208293507)\n",
    "bdt = AdaBoostClassifier(tree, \n",
    "                         learning_rate=0.9912684934237729, \n",
    "                         n_estimators=80)\n",
    "bdt_bin = AdaBoostClassifier(tree, \n",
    "                         learning_rate=0.67, \n",
    "                         n_estimators=80)"
   ]
  },
  {
   "cell_type": "code",
   "execution_count": 129,
   "id": "a9975519",
   "metadata": {},
   "outputs": [
    {
     "data": {
      "text/html": [
       "<style>#sk-container-id-5 {color: black;background-color: white;}#sk-container-id-5 pre{padding: 0;}#sk-container-id-5 div.sk-toggleable {background-color: white;}#sk-container-id-5 label.sk-toggleable__label {cursor: pointer;display: block;width: 100%;margin-bottom: 0;padding: 0.3em;box-sizing: border-box;text-align: center;}#sk-container-id-5 label.sk-toggleable__label-arrow:before {content: \"▸\";float: left;margin-right: 0.25em;color: #696969;}#sk-container-id-5 label.sk-toggleable__label-arrow:hover:before {color: black;}#sk-container-id-5 div.sk-estimator:hover label.sk-toggleable__label-arrow:before {color: black;}#sk-container-id-5 div.sk-toggleable__content {max-height: 0;max-width: 0;overflow: hidden;text-align: left;background-color: #f0f8ff;}#sk-container-id-5 div.sk-toggleable__content pre {margin: 0.2em;color: black;border-radius: 0.25em;background-color: #f0f8ff;}#sk-container-id-5 input.sk-toggleable__control:checked~div.sk-toggleable__content {max-height: 200px;max-width: 100%;overflow: auto;}#sk-container-id-5 input.sk-toggleable__control:checked~label.sk-toggleable__label-arrow:before {content: \"▾\";}#sk-container-id-5 div.sk-estimator input.sk-toggleable__control:checked~label.sk-toggleable__label {background-color: #d4ebff;}#sk-container-id-5 div.sk-label input.sk-toggleable__control:checked~label.sk-toggleable__label {background-color: #d4ebff;}#sk-container-id-5 input.sk-hidden--visually {border: 0;clip: rect(1px 1px 1px 1px);clip: rect(1px, 1px, 1px, 1px);height: 1px;margin: -1px;overflow: hidden;padding: 0;position: absolute;width: 1px;}#sk-container-id-5 div.sk-estimator {font-family: monospace;background-color: #f0f8ff;border: 1px dotted black;border-radius: 0.25em;box-sizing: border-box;margin-bottom: 0.5em;}#sk-container-id-5 div.sk-estimator:hover {background-color: #d4ebff;}#sk-container-id-5 div.sk-parallel-item::after {content: \"\";width: 100%;border-bottom: 1px solid gray;flex-grow: 1;}#sk-container-id-5 div.sk-label:hover label.sk-toggleable__label {background-color: #d4ebff;}#sk-container-id-5 div.sk-serial::before {content: \"\";position: absolute;border-left: 1px solid gray;box-sizing: border-box;top: 0;bottom: 0;left: 50%;z-index: 0;}#sk-container-id-5 div.sk-serial {display: flex;flex-direction: column;align-items: center;background-color: white;padding-right: 0.2em;padding-left: 0.2em;position: relative;}#sk-container-id-5 div.sk-item {position: relative;z-index: 1;}#sk-container-id-5 div.sk-parallel {display: flex;align-items: stretch;justify-content: center;background-color: white;position: relative;}#sk-container-id-5 div.sk-item::before, #sk-container-id-5 div.sk-parallel-item::before {content: \"\";position: absolute;border-left: 1px solid gray;box-sizing: border-box;top: 0;bottom: 0;left: 50%;z-index: -1;}#sk-container-id-5 div.sk-parallel-item {display: flex;flex-direction: column;z-index: 1;position: relative;background-color: white;}#sk-container-id-5 div.sk-parallel-item:first-child::after {align-self: flex-end;width: 50%;}#sk-container-id-5 div.sk-parallel-item:last-child::after {align-self: flex-start;width: 50%;}#sk-container-id-5 div.sk-parallel-item:only-child::after {width: 0;}#sk-container-id-5 div.sk-dashed-wrapped {border: 1px dashed gray;margin: 0 0.4em 0.5em 0.4em;box-sizing: border-box;padding-bottom: 0.4em;background-color: white;}#sk-container-id-5 div.sk-label label {font-family: monospace;font-weight: bold;display: inline-block;line-height: 1.2em;}#sk-container-id-5 div.sk-label-container {text-align: center;}#sk-container-id-5 div.sk-container {/* jupyter's `normalize.less` sets `[hidden] { display: none; }` but bootstrap.min.css set `[hidden] { display: none !important; }` so we also need the `!important` here to be able to override the default hidden behavior on the sphinx rendered scikit-learn.org. See: https://github.com/scikit-learn/scikit-learn/issues/21755 */display: inline-block !important;position: relative;}#sk-container-id-5 div.sk-text-repr-fallback {display: none;}</style><div id=\"sk-container-id-5\" class=\"sk-top-container\"><div class=\"sk-text-repr-fallback\"><pre>AdaBoostClassifier(estimator=DecisionTreeClassifier(criterion=&#x27;entropy&#x27;,\n",
       "                                                    max_depth=15,\n",
       "                                                    min_samples_leaf=0.36931642349065275,\n",
       "                                                    min_samples_split=0.7479086208293507),\n",
       "                   learning_rate=0.67, n_estimators=80)</pre><b>In a Jupyter environment, please rerun this cell to show the HTML representation or trust the notebook. <br />On GitHub, the HTML representation is unable to render, please try loading this page with nbviewer.org.</b></div><div class=\"sk-container\" hidden><div class=\"sk-item sk-dashed-wrapped\"><div class=\"sk-label-container\"><div class=\"sk-label sk-toggleable\"><input class=\"sk-toggleable__control sk-hidden--visually\" id=\"sk-estimator-id-9\" type=\"checkbox\" ><label for=\"sk-estimator-id-9\" class=\"sk-toggleable__label sk-toggleable__label-arrow\">AdaBoostClassifier</label><div class=\"sk-toggleable__content\"><pre>AdaBoostClassifier(estimator=DecisionTreeClassifier(criterion=&#x27;entropy&#x27;,\n",
       "                                                    max_depth=15,\n",
       "                                                    min_samples_leaf=0.36931642349065275,\n",
       "                                                    min_samples_split=0.7479086208293507),\n",
       "                   learning_rate=0.67, n_estimators=80)</pre></div></div></div><div class=\"sk-parallel\"><div class=\"sk-parallel-item\"><div class=\"sk-item\"><div class=\"sk-label-container\"><div class=\"sk-label sk-toggleable\"><input class=\"sk-toggleable__control sk-hidden--visually\" id=\"sk-estimator-id-10\" type=\"checkbox\" ><label for=\"sk-estimator-id-10\" class=\"sk-toggleable__label sk-toggleable__label-arrow\">estimator: DecisionTreeClassifier</label><div class=\"sk-toggleable__content\"><pre>DecisionTreeClassifier(criterion=&#x27;entropy&#x27;, max_depth=15,\n",
       "                       min_samples_leaf=0.36931642349065275,\n",
       "                       min_samples_split=0.7479086208293507)</pre></div></div></div><div class=\"sk-serial\"><div class=\"sk-item\"><div class=\"sk-estimator sk-toggleable\"><input class=\"sk-toggleable__control sk-hidden--visually\" id=\"sk-estimator-id-11\" type=\"checkbox\" ><label for=\"sk-estimator-id-11\" class=\"sk-toggleable__label sk-toggleable__label-arrow\">DecisionTreeClassifier</label><div class=\"sk-toggleable__content\"><pre>DecisionTreeClassifier(criterion=&#x27;entropy&#x27;, max_depth=15,\n",
       "                       min_samples_leaf=0.36931642349065275,\n",
       "                       min_samples_split=0.7479086208293507)</pre></div></div></div></div></div></div></div></div></div></div>"
      ],
      "text/plain": [
       "AdaBoostClassifier(estimator=DecisionTreeClassifier(criterion='entropy',\n",
       "                                                    max_depth=15,\n",
       "                                                    min_samples_leaf=0.36931642349065275,\n",
       "                                                    min_samples_split=0.7479086208293507),\n",
       "                   learning_rate=0.67, n_estimators=80)"
      ]
     },
     "execution_count": 129,
     "metadata": {},
     "output_type": "execute_result"
    }
   ],
   "source": [
    "bdt_bin.fit(x_train, y_train_bin)"
   ]
  },
  {
   "cell_type": "code",
   "execution_count": 130,
   "id": "fe8e1088",
   "metadata": {},
   "outputs": [],
   "source": [
    "def numbers():\n",
    "    sig_mc = 0\n",
    "    bkg_mc = 0\n",
    "    for i in mc_preds:\n",
    "        if i==1:\n",
    "            sig_mc+=1\n",
    "        else:\n",
    "            bkg_mc+=1\n",
    "        \n",
    "    sig_data = 0\n",
    "    bkg_data = 0\n",
    "    for i in data_preds_red:\n",
    "        if i==1:\n",
    "            sig_data+=1\n",
    "        else:\n",
    "            bkg_data+=1\n",
    "    \n",
    "    #cols = ['Class', 'Percentage of MC Events Found', 'Percentage of Data Events Found']\n",
    "    classes = ['Signal', 'Background']\n",
    "    mc_pc = [round(sig_mc/len(mc_preds)*100, 2), round(bkg_mc/len(mc_preds)*100, 2)]\n",
    "    data_pc = [round(sig_data/len(data_preds_red)*100, 2), round(bkg_data/len(data_preds_red)*100, 2)]\n",
    "    tmp = {'Class':classes, 'Percentage of MC Events Found':mc_pc, 'Percentage of Data Events Found':data_pc}\n",
    "    return pd.DataFrame.from_dict(tmp)"
   ]
  },
  {
   "cell_type": "code",
   "execution_count": 131,
   "id": "29d9d6af",
   "metadata": {},
   "outputs": [],
   "source": [
    "mc_preds = bdt_bin.predict(x_test)"
   ]
  },
  {
   "cell_type": "code",
   "execution_count": 132,
   "id": "4adff2c9",
   "metadata": {},
   "outputs": [],
   "source": [
    "data_preds = bdt_bin.predict(data_scaled)"
   ]
  },
  {
   "cell_type": "code",
   "execution_count": 133,
   "id": "feefa3d3",
   "metadata": {},
   "outputs": [],
   "source": [
    "data_preds_red = random.sample(list(data_preds), k=len(mc_preds))"
   ]
  },
  {
   "cell_type": "code",
   "execution_count": 134,
   "id": "e78336d2",
   "metadata": {},
   "outputs": [
    {
     "data": {
      "text/html": [
       "<div>\n",
       "<style scoped>\n",
       "    .dataframe tbody tr th:only-of-type {\n",
       "        vertical-align: middle;\n",
       "    }\n",
       "\n",
       "    .dataframe tbody tr th {\n",
       "        vertical-align: top;\n",
       "    }\n",
       "\n",
       "    .dataframe thead th {\n",
       "        text-align: right;\n",
       "    }\n",
       "</style>\n",
       "<table border=\"1\" class=\"dataframe\">\n",
       "  <thead>\n",
       "    <tr style=\"text-align: right;\">\n",
       "      <th></th>\n",
       "      <th>Class</th>\n",
       "      <th>Percentage of MC Events Found</th>\n",
       "      <th>Percentage of Data Events Found</th>\n",
       "    </tr>\n",
       "  </thead>\n",
       "  <tbody>\n",
       "    <tr>\n",
       "      <th>0</th>\n",
       "      <td>Signal</td>\n",
       "      <td>55.55</td>\n",
       "      <td>98.34</td>\n",
       "    </tr>\n",
       "    <tr>\n",
       "      <th>1</th>\n",
       "      <td>Background</td>\n",
       "      <td>44.45</td>\n",
       "      <td>1.66</td>\n",
       "    </tr>\n",
       "  </tbody>\n",
       "</table>\n",
       "</div>"
      ],
      "text/plain": [
       "        Class  Percentage of MC Events Found  Percentage of Data Events Found\n",
       "0      Signal                          55.55                            98.34\n",
       "1  Background                          44.45                             1.66"
      ]
     },
     "execution_count": 134,
     "metadata": {},
     "output_type": "execute_result"
    }
   ],
   "source": [
    "df = numbers()\n",
    "df"
   ]
  },
  {
   "cell_type": "code",
   "execution_count": 135,
   "id": "31ee9f4b",
   "metadata": {},
   "outputs": [],
   "source": [
    "nbc = pkl.load(open('gaussian_bayes_red.pkl', 'rb'))\n",
    "nbc_bin = pkl.load(open('gaussian_bayes_bin_red.pkl', 'rb'))"
   ]
  },
  {
   "cell_type": "code",
   "execution_count": 136,
   "id": "7d8f0154",
   "metadata": {},
   "outputs": [
    {
     "data": {
      "text/html": [
       "<style>#sk-container-id-6 {color: black;background-color: white;}#sk-container-id-6 pre{padding: 0;}#sk-container-id-6 div.sk-toggleable {background-color: white;}#sk-container-id-6 label.sk-toggleable__label {cursor: pointer;display: block;width: 100%;margin-bottom: 0;padding: 0.3em;box-sizing: border-box;text-align: center;}#sk-container-id-6 label.sk-toggleable__label-arrow:before {content: \"▸\";float: left;margin-right: 0.25em;color: #696969;}#sk-container-id-6 label.sk-toggleable__label-arrow:hover:before {color: black;}#sk-container-id-6 div.sk-estimator:hover label.sk-toggleable__label-arrow:before {color: black;}#sk-container-id-6 div.sk-toggleable__content {max-height: 0;max-width: 0;overflow: hidden;text-align: left;background-color: #f0f8ff;}#sk-container-id-6 div.sk-toggleable__content pre {margin: 0.2em;color: black;border-radius: 0.25em;background-color: #f0f8ff;}#sk-container-id-6 input.sk-toggleable__control:checked~div.sk-toggleable__content {max-height: 200px;max-width: 100%;overflow: auto;}#sk-container-id-6 input.sk-toggleable__control:checked~label.sk-toggleable__label-arrow:before {content: \"▾\";}#sk-container-id-6 div.sk-estimator input.sk-toggleable__control:checked~label.sk-toggleable__label {background-color: #d4ebff;}#sk-container-id-6 div.sk-label input.sk-toggleable__control:checked~label.sk-toggleable__label {background-color: #d4ebff;}#sk-container-id-6 input.sk-hidden--visually {border: 0;clip: rect(1px 1px 1px 1px);clip: rect(1px, 1px, 1px, 1px);height: 1px;margin: -1px;overflow: hidden;padding: 0;position: absolute;width: 1px;}#sk-container-id-6 div.sk-estimator {font-family: monospace;background-color: #f0f8ff;border: 1px dotted black;border-radius: 0.25em;box-sizing: border-box;margin-bottom: 0.5em;}#sk-container-id-6 div.sk-estimator:hover {background-color: #d4ebff;}#sk-container-id-6 div.sk-parallel-item::after {content: \"\";width: 100%;border-bottom: 1px solid gray;flex-grow: 1;}#sk-container-id-6 div.sk-label:hover label.sk-toggleable__label {background-color: #d4ebff;}#sk-container-id-6 div.sk-serial::before {content: \"\";position: absolute;border-left: 1px solid gray;box-sizing: border-box;top: 0;bottom: 0;left: 50%;z-index: 0;}#sk-container-id-6 div.sk-serial {display: flex;flex-direction: column;align-items: center;background-color: white;padding-right: 0.2em;padding-left: 0.2em;position: relative;}#sk-container-id-6 div.sk-item {position: relative;z-index: 1;}#sk-container-id-6 div.sk-parallel {display: flex;align-items: stretch;justify-content: center;background-color: white;position: relative;}#sk-container-id-6 div.sk-item::before, #sk-container-id-6 div.sk-parallel-item::before {content: \"\";position: absolute;border-left: 1px solid gray;box-sizing: border-box;top: 0;bottom: 0;left: 50%;z-index: -1;}#sk-container-id-6 div.sk-parallel-item {display: flex;flex-direction: column;z-index: 1;position: relative;background-color: white;}#sk-container-id-6 div.sk-parallel-item:first-child::after {align-self: flex-end;width: 50%;}#sk-container-id-6 div.sk-parallel-item:last-child::after {align-self: flex-start;width: 50%;}#sk-container-id-6 div.sk-parallel-item:only-child::after {width: 0;}#sk-container-id-6 div.sk-dashed-wrapped {border: 1px dashed gray;margin: 0 0.4em 0.5em 0.4em;box-sizing: border-box;padding-bottom: 0.4em;background-color: white;}#sk-container-id-6 div.sk-label label {font-family: monospace;font-weight: bold;display: inline-block;line-height: 1.2em;}#sk-container-id-6 div.sk-label-container {text-align: center;}#sk-container-id-6 div.sk-container {/* jupyter's `normalize.less` sets `[hidden] { display: none; }` but bootstrap.min.css set `[hidden] { display: none !important; }` so we also need the `!important` here to be able to override the default hidden behavior on the sphinx rendered scikit-learn.org. See: https://github.com/scikit-learn/scikit-learn/issues/21755 */display: inline-block !important;position: relative;}#sk-container-id-6 div.sk-text-repr-fallback {display: none;}</style><div id=\"sk-container-id-6\" class=\"sk-top-container\"><div class=\"sk-text-repr-fallback\"><pre>GaussianNB(priors=[0.5001387489140403, 0.49986125108595963])</pre><b>In a Jupyter environment, please rerun this cell to show the HTML representation or trust the notebook. <br />On GitHub, the HTML representation is unable to render, please try loading this page with nbviewer.org.</b></div><div class=\"sk-container\" hidden><div class=\"sk-item\"><div class=\"sk-estimator sk-toggleable\"><input class=\"sk-toggleable__control sk-hidden--visually\" id=\"sk-estimator-id-12\" type=\"checkbox\" checked><label for=\"sk-estimator-id-12\" class=\"sk-toggleable__label sk-toggleable__label-arrow\">GaussianNB</label><div class=\"sk-toggleable__content\"><pre>GaussianNB(priors=[0.5001387489140403, 0.49986125108595963])</pre></div></div></div></div></div>"
      ],
      "text/plain": [
       "GaussianNB(priors=[0.5001387489140403, 0.49986125108595963])"
      ]
     },
     "execution_count": 136,
     "metadata": {},
     "output_type": "execute_result"
    }
   ],
   "source": [
    "nbc_bin.fit(x_train, y_train_bin)"
   ]
  },
  {
   "cell_type": "code",
   "execution_count": 137,
   "id": "02a4c82c",
   "metadata": {},
   "outputs": [],
   "source": [
    "mc_preds = nbc_bin.predict(x_test)"
   ]
  },
  {
   "cell_type": "code",
   "execution_count": 138,
   "id": "fb9ec60a",
   "metadata": {},
   "outputs": [],
   "source": [
    "data_preds = nbc_bin.predict(data_scaled)"
   ]
  },
  {
   "cell_type": "code",
   "execution_count": 139,
   "id": "89019fed",
   "metadata": {},
   "outputs": [],
   "source": [
    "data_preds_red = random.sample(list(data_preds), k=len(mc_preds))"
   ]
  },
  {
   "cell_type": "code",
   "execution_count": 140,
   "id": "1da4cba3",
   "metadata": {},
   "outputs": [
    {
     "data": {
      "text/html": [
       "<div>\n",
       "<style scoped>\n",
       "    .dataframe tbody tr th:only-of-type {\n",
       "        vertical-align: middle;\n",
       "    }\n",
       "\n",
       "    .dataframe tbody tr th {\n",
       "        vertical-align: top;\n",
       "    }\n",
       "\n",
       "    .dataframe thead th {\n",
       "        text-align: right;\n",
       "    }\n",
       "</style>\n",
       "<table border=\"1\" class=\"dataframe\">\n",
       "  <thead>\n",
       "    <tr style=\"text-align: right;\">\n",
       "      <th></th>\n",
       "      <th>Class</th>\n",
       "      <th>Percentage of MC Events Found</th>\n",
       "      <th>Percentage of Data Events Found</th>\n",
       "    </tr>\n",
       "  </thead>\n",
       "  <tbody>\n",
       "    <tr>\n",
       "      <th>0</th>\n",
       "      <td>Signal</td>\n",
       "      <td>50.34</td>\n",
       "      <td>98.47</td>\n",
       "    </tr>\n",
       "    <tr>\n",
       "      <th>1</th>\n",
       "      <td>Background</td>\n",
       "      <td>49.66</td>\n",
       "      <td>1.53</td>\n",
       "    </tr>\n",
       "  </tbody>\n",
       "</table>\n",
       "</div>"
      ],
      "text/plain": [
       "        Class  Percentage of MC Events Found  Percentage of Data Events Found\n",
       "0      Signal                          50.34                            98.47\n",
       "1  Background                          49.66                             1.53"
      ]
     },
     "execution_count": 140,
     "metadata": {},
     "output_type": "execute_result"
    }
   ],
   "source": [
    "df = numbers()\n",
    "df"
   ]
  },
  {
   "cell_type": "code",
   "execution_count": 141,
   "id": "13146f6d",
   "metadata": {},
   "outputs": [],
   "source": [
    "def build_clf():\n",
    "    ann = Sequential()\n",
    "    ann.add(Dense(units = 7, activation = 'relu'))\n",
    "    ann.add(Dense(units = 28,#best_params['neurons'], \n",
    "                  activation = 'relu'))\n",
    "    ann.add(Dense(units = 1, activation = 'sigmoid'))\n",
    "    ann.compile(optimizer = tf.keras.optimizers.Adam(learning_rate=0.01), \n",
    "                loss = 'binary_crossentropy', metrics = ['accuracy'])\n",
    "    return ann"
   ]
  },
  {
   "cell_type": "code",
   "execution_count": 142,
   "id": "b78feb72",
   "metadata": {},
   "outputs": [],
   "source": [
    "ann_bin = KerasClassifier(build_fn=build_clf)"
   ]
  },
  {
   "cell_type": "code",
   "execution_count": 143,
   "id": "667f12f6",
   "metadata": {},
   "outputs": [
    {
     "name": "stdout",
     "output_type": "stream",
     "text": [
      "Epoch 1/5\n",
      "17316/17316 [==============================] - 18s 1ms/step - loss: 0.2286 - accuracy: 0.9071 - val_loss: 0.2246 - val_accuracy: 0.9092\n",
      "Epoch 2/5\n",
      "17316/17316 [==============================] - 17s 959us/step - loss: 0.2194 - accuracy: 0.9114 - val_loss: 0.2203 - val_accuracy: 0.9110\n",
      "Epoch 3/5\n",
      "17316/17316 [==============================] - 17s 975us/step - loss: 0.2173 - accuracy: 0.9124 - val_loss: 0.2226 - val_accuracy: 0.9091\n",
      "Epoch 4/5\n",
      "17316/17316 [==============================] - 17s 1ms/step - loss: 0.2167 - accuracy: 0.9127 - val_loss: 0.2148 - val_accuracy: 0.9137\n",
      "Epoch 5/5\n",
      "17316/17316 [==============================] - 18s 1ms/step - loss: 0.2163 - accuracy: 0.9129 - val_loss: 0.2150 - val_accuracy: 0.9136\n"
     ]
    },
    {
     "data": {
      "text/plain": [
       "<keras.callbacks.History at 0x2478d94fd60>"
      ]
     },
     "execution_count": 143,
     "metadata": {},
     "output_type": "execute_result"
    }
   ],
   "source": [
    "ann_bin.fit(x_train, y_train_bin, \n",
    "        batch_size = 64, #best_params['batch_size'], \n",
    "        epochs = 5, \n",
    "        validation_split = 0.33)"
   ]
  },
  {
   "cell_type": "code",
   "execution_count": 144,
   "id": "30d77818",
   "metadata": {},
   "outputs": [
    {
     "name": "stdout",
     "output_type": "stream",
     "text": [
      "12923/12923 [==============================] - 7s 565us/step\n"
     ]
    }
   ],
   "source": [
    "mc_preds = ann_bin.predict(x_test)"
   ]
  },
  {
   "cell_type": "code",
   "execution_count": 145,
   "id": "beca5ca7",
   "metadata": {},
   "outputs": [
    {
     "name": "stdout",
     "output_type": "stream",
     "text": [
      "62500/62500 [==============================] - 41s 650us/step\n"
     ]
    }
   ],
   "source": [
    "data_preds = ann_bin.predict(data_scaled)"
   ]
  },
  {
   "cell_type": "code",
   "execution_count": 146,
   "id": "9b94738d",
   "metadata": {},
   "outputs": [],
   "source": [
    "data_preds_red = random.sample(list(data_preds), k=len(mc_preds))"
   ]
  },
  {
   "cell_type": "code",
   "execution_count": 147,
   "id": "f5130742",
   "metadata": {},
   "outputs": [
    {
     "data": {
      "text/html": [
       "<div>\n",
       "<style scoped>\n",
       "    .dataframe tbody tr th:only-of-type {\n",
       "        vertical-align: middle;\n",
       "    }\n",
       "\n",
       "    .dataframe tbody tr th {\n",
       "        vertical-align: top;\n",
       "    }\n",
       "\n",
       "    .dataframe thead th {\n",
       "        text-align: right;\n",
       "    }\n",
       "</style>\n",
       "<table border=\"1\" class=\"dataframe\">\n",
       "  <thead>\n",
       "    <tr style=\"text-align: right;\">\n",
       "      <th></th>\n",
       "      <th>Class</th>\n",
       "      <th>Percentage of MC Events Found</th>\n",
       "      <th>Percentage of Data Events Found</th>\n",
       "    </tr>\n",
       "  </thead>\n",
       "  <tbody>\n",
       "    <tr>\n",
       "      <th>0</th>\n",
       "      <td>Signal</td>\n",
       "      <td>52.37</td>\n",
       "      <td>99.16</td>\n",
       "    </tr>\n",
       "    <tr>\n",
       "      <th>1</th>\n",
       "      <td>Background</td>\n",
       "      <td>47.63</td>\n",
       "      <td>0.84</td>\n",
       "    </tr>\n",
       "  </tbody>\n",
       "</table>\n",
       "</div>"
      ],
      "text/plain": [
       "        Class  Percentage of MC Events Found  Percentage of Data Events Found\n",
       "0      Signal                          52.37                            99.16\n",
       "1  Background                          47.63                             0.84"
      ]
     },
     "execution_count": 147,
     "metadata": {},
     "output_type": "execute_result"
    }
   ],
   "source": [
    "df = numbers()\n",
    "df"
   ]
  },
  {
   "cell_type": "code",
   "execution_count": null,
   "id": "c4c07139",
   "metadata": {},
   "outputs": [],
   "source": []
  }
 ],
 "metadata": {
  "kernelspec": {
   "display_name": "Python 3 (ipykernel)",
   "language": "python",
   "name": "python3"
  },
  "language_info": {
   "codemirror_mode": {
    "name": "ipython",
    "version": 3
   },
   "file_extension": ".py",
   "mimetype": "text/x-python",
   "name": "python",
   "nbconvert_exporter": "python",
   "pygments_lexer": "ipython3",
   "version": "3.9.13"
  }
 },
 "nbformat": 4,
 "nbformat_minor": 5
}

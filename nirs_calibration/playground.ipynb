{
 "cells": [
  {
   "cell_type": "code",
   "execution_count": 14,
   "id": "d2900e3a",
   "metadata": {},
   "outputs": [],
   "source": [
    "import pandas as pd\n",
    "import numpy as np\n",
    "import matplotlib.pyplot as plt\n",
    "import os"
   ]
  },
  {
   "cell_type": "code",
   "execution_count": 51,
   "id": "cb354055",
   "metadata": {},
   "outputs": [],
   "source": [
    "path = 'nirs/'\n",
    "i = 1\n",
    "j = 1\n",
    "for file in os.listdir(path):\n",
    "    if 'ml211023(' in file:\n",
    "        with open(path+file, 'r') as f:\n",
    "            lines_l = f.readlines()\n",
    "            with open(f'{path}ml_{i}.csv', 'w') as fn:\n",
    "                for line in lines_l[1:]:\n",
    "                    fn.write(line)\n",
    "        i+=1\n",
    "    elif 'ms211023(' in file:\n",
    "        with open(path+file, 'r') as f:\n",
    "            lines_m = f.readlines()\n",
    "            with open(f'{path}ms_{j}.csv', 'w') as fn:\n",
    "                for line in lines_m[1:]:\n",
    "                    fn.write(line)\n",
    "        j+=1"
   ]
  },
  {
   "cell_type": "code",
   "execution_count": 52,
   "id": "11180ddc",
   "metadata": {},
   "outputs": [
    {
     "data": {
      "text/html": [
       "<div>\n",
       "<style scoped>\n",
       "    .dataframe tbody tr th:only-of-type {\n",
       "        vertical-align: middle;\n",
       "    }\n",
       "\n",
       "    .dataframe tbody tr th {\n",
       "        vertical-align: top;\n",
       "    }\n",
       "\n",
       "    .dataframe thead th {\n",
       "        text-align: right;\n",
       "    }\n",
       "</style>\n",
       "<table border=\"1\" class=\"dataframe\">\n",
       "  <thead>\n",
       "    <tr style=\"text-align: right;\">\n",
       "      <th></th>\n",
       "      <th>Wavelength [nm]</th>\n",
       "      <th>Log(1/R)</th>\n",
       "      <th>Unnamed: 2</th>\n",
       "    </tr>\n",
       "  </thead>\n",
       "  <tbody>\n",
       "    <tr>\n",
       "      <th>0</th>\n",
       "      <td>400.0</td>\n",
       "      <td>0.371180</td>\n",
       "      <td>NaN</td>\n",
       "    </tr>\n",
       "    <tr>\n",
       "      <th>1</th>\n",
       "      <td>402.0</td>\n",
       "      <td>0.384039</td>\n",
       "      <td>NaN</td>\n",
       "    </tr>\n",
       "    <tr>\n",
       "      <th>2</th>\n",
       "      <td>404.0</td>\n",
       "      <td>0.397924</td>\n",
       "      <td>NaN</td>\n",
       "    </tr>\n",
       "    <tr>\n",
       "      <th>3</th>\n",
       "      <td>406.0</td>\n",
       "      <td>0.411822</td>\n",
       "      <td>NaN</td>\n",
       "    </tr>\n",
       "    <tr>\n",
       "      <th>4</th>\n",
       "      <td>408.0</td>\n",
       "      <td>0.425202</td>\n",
       "      <td>NaN</td>\n",
       "    </tr>\n",
       "    <tr>\n",
       "      <th>...</th>\n",
       "      <td>...</td>\n",
       "      <td>...</td>\n",
       "      <td>...</td>\n",
       "    </tr>\n",
       "    <tr>\n",
       "      <th>1045</th>\n",
       "      <td>2490.0</td>\n",
       "      <td>0.957499</td>\n",
       "      <td>NaN</td>\n",
       "    </tr>\n",
       "    <tr>\n",
       "      <th>1046</th>\n",
       "      <td>2492.0</td>\n",
       "      <td>0.958864</td>\n",
       "      <td>NaN</td>\n",
       "    </tr>\n",
       "    <tr>\n",
       "      <th>1047</th>\n",
       "      <td>2494.0</td>\n",
       "      <td>0.959955</td>\n",
       "      <td>NaN</td>\n",
       "    </tr>\n",
       "    <tr>\n",
       "      <th>1048</th>\n",
       "      <td>2496.0</td>\n",
       "      <td>0.960820</td>\n",
       "      <td>NaN</td>\n",
       "    </tr>\n",
       "    <tr>\n",
       "      <th>1049</th>\n",
       "      <td>2498.0</td>\n",
       "      <td>0.961428</td>\n",
       "      <td>NaN</td>\n",
       "    </tr>\n",
       "  </tbody>\n",
       "</table>\n",
       "<p>1050 rows × 3 columns</p>\n",
       "</div>"
      ],
      "text/plain": [
       "      Wavelength [nm]  Log(1/R)  Unnamed: 2\n",
       "0               400.0  0.371180         NaN\n",
       "1               402.0  0.384039         NaN\n",
       "2               404.0  0.397924         NaN\n",
       "3               406.0  0.411822         NaN\n",
       "4               408.0  0.425202         NaN\n",
       "...               ...       ...         ...\n",
       "1045           2490.0  0.957499         NaN\n",
       "1046           2492.0  0.958864         NaN\n",
       "1047           2494.0  0.959955         NaN\n",
       "1048           2496.0  0.960820         NaN\n",
       "1049           2498.0  0.961428         NaN\n",
       "\n",
       "[1050 rows x 3 columns]"
      ]
     },
     "execution_count": 52,
     "metadata": {},
     "output_type": "execute_result"
    }
   ],
   "source": [
    "d = pd.read_csv('nirs/ml_1.csv')\n",
    "d"
   ]
  },
  {
   "cell_type": "code",
   "execution_count": 53,
   "id": "f4b58610",
   "metadata": {},
   "outputs": [
    {
     "data": {
      "text/plain": [
       "Index(['Wavelength [nm]', 'Log(1/R)', 'Unnamed: 2'], dtype='object')"
      ]
     },
     "execution_count": 53,
     "metadata": {},
     "output_type": "execute_result"
    }
   ],
   "source": [
    "d.columns"
   ]
  },
  {
   "cell_type": "code",
   "execution_count": 54,
   "id": "7b660a95",
   "metadata": {},
   "outputs": [],
   "source": [
    "data = {'wavelength':d['Wavelength [nm]']}"
   ]
  },
  {
   "cell_type": "code",
   "execution_count": 55,
   "id": "eb7b0b9d",
   "metadata": {},
   "outputs": [],
   "source": [
    "data_ml, data_ms = data.copy(), data.copy()"
   ]
  },
  {
   "cell_type": "code",
   "execution_count": 56,
   "id": "c80a5314",
   "metadata": {},
   "outputs": [],
   "source": [
    "for i in range(1, len(cols_n)+1):\n",
    "    data_ml[cols_n[i-1]] = pd.read_csv(f'{path}ml_{i}.csv')['Log(1/R)']\n",
    "    data_ms[cols_n[i-1]] = pd.read_csv(f'{path}ms_{i}.csv')['Log(1/R)']"
   ]
  },
  {
   "cell_type": "code",
   "execution_count": 57,
   "id": "55eade1c",
   "metadata": {},
   "outputs": [],
   "source": [
    "df_ml = pd.DataFrame.from_dict(data_ml)\n",
    "df_ms = pd.DataFrame.from_dict(data_ms)"
   ]
  },
  {
   "cell_type": "code",
   "execution_count": 58,
   "id": "bf112b84",
   "metadata": {},
   "outputs": [],
   "source": [
    "df_ml.to_csv('ml_master.csv', index=False)\n",
    "df_ms.to_csv('ms_master.csv', index=False)"
   ]
  },
  {
   "cell_type": "code",
   "execution_count": null,
   "id": "7f34c16b",
   "metadata": {},
   "outputs": [],
   "source": []
  }
 ],
 "metadata": {
  "kernelspec": {
   "display_name": "Python 3 (ipykernel)",
   "language": "python",
   "name": "python3"
  },
  "language_info": {
   "codemirror_mode": {
    "name": "ipython",
    "version": 3
   },
   "file_extension": ".py",
   "mimetype": "text/x-python",
   "name": "python",
   "nbconvert_exporter": "python",
   "pygments_lexer": "ipython3",
   "version": "3.9.13"
  }
 },
 "nbformat": 4,
 "nbformat_minor": 5
}

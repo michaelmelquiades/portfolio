{
 "cells": [
  {
   "cell_type": "code",
   "execution_count": 1,
   "id": "055497f7",
   "metadata": {},
   "outputs": [],
   "source": [
    "import pandas as pd\n",
    "import numpy as np\n",
    "import matplotlib.pyplot as plt\n",
    "\n",
    "from pre_processing import *\n",
    "\n",
    "import os\n",
    "\n",
    "from sklearn.model_selection import train_test_split, GridSearchCV\n",
    "\n",
    "from scipy.signal import spectrogram\n",
    "\n",
    "import torch\n",
    "import torch.nn.init as init\n",
    "from torch.nn import Module, Conv2d, Linear, MaxPool2d, ReLU, LogSoftmax, Flatten, Dropout, Sigmoid, BCELoss\n",
    "import torch.optim as optim\n",
    "import torchvision\n",
    "from torchvision import transforms, datasets\n",
    "from torch.utils.data import DataLoader, Dataset, random_split\n",
    "import torch.nn.functional as F\n",
    "torch.manual_seed(42)\n",
    "from dataclasses import dataclass\n",
    "\n",
    "import skorch\n",
    "from ray import tune\n",
    "from ray.tune.schedulers import ASHAScheduler\n",
    "\n",
    "\n",
    "from PIL import Image\n",
    "from skimage.io import imread\n",
    "\n",
    "from bayes_opt import BayesianOptimization\n",
    "\n",
    "import warnings\n",
    "warnings.filterwarnings('ignore')\n",
    "\n",
    "device = 'cuda' if torch.cuda.is_available() else 'cpu'"
   ]
  },
  {
   "cell_type": "code",
   "execution_count": 2,
   "id": "041987de",
   "metadata": {},
   "outputs": [],
   "source": [
    "class make_data(Dataset):\n",
    "    def __init__(self, data_dir, transform=None):\n",
    "        self.data_dir = data_dir\n",
    "        self.transform = transform\n",
    "        self.dataset = datasets.ImageFolder(self.data_dir, transform=self.transform)\n",
    "\n",
    "    def __len__(self):\n",
    "        return len(self.dataset)\n",
    "\n",
    "    def __getitem__(self, index):\n",
    "        return self.dataset[index]"
   ]
  },
  {
   "cell_type": "code",
   "execution_count": 3,
   "id": "4870b0bd",
   "metadata": {},
   "outputs": [],
   "source": [
    "transform = transforms.Compose([transforms.ToTensor(), transforms.Resize((240, 320))])\n",
    "dataset = make_data('pic_data/spectro/full_prsb/', transform=transform)"
   ]
  },
  {
   "cell_type": "code",
   "execution_count": 4,
   "id": "40e574d3",
   "metadata": {},
   "outputs": [],
   "source": [
    "train_data, test_data = random_split(dataset, lengths=[0.8, 0.2])"
   ]
  },
  {
   "cell_type": "code",
   "execution_count": 5,
   "id": "05489f5c",
   "metadata": {},
   "outputs": [],
   "source": [
    "train_loader = DataLoader(train_data, batch_size=16)\n",
    "test_loader = DataLoader(test_data, batch_size=16)"
   ]
  },
  {
   "cell_type": "code",
   "execution_count": 6,
   "id": "c7d41273",
   "metadata": {},
   "outputs": [
    {
     "name": "stdout",
     "output_type": "stream",
     "text": [
      "img_conv1.shape=torch.Size([64, 238, 318])\n",
      "img_pool1.shape=torch.Size([64, 119, 159])\n",
      "img_conv2.shape=torch.Size([64, 115, 155])\n",
      "img_pool2.shape=torch.Size([64, 57, 77])\n",
      "img_conv3.shape=torch.Size([64, 53, 73])\n",
      "img_pool3.shape=torch.Size([64, 26, 36])\n"
     ]
    }
   ],
   "source": [
    "# Checking Sizes of Layers\n",
    "conv1 = Conv2d(3,64,3)\n",
    "pool = MaxPool2d(2,2)\n",
    "conv2 = Conv2d(64,64,5)\n",
    "img_conv1 = conv1(dataset[0][0])\n",
    "img_pool1 = pool(img_conv1)\n",
    "img_conv2 = conv2(img_pool1)\n",
    "img_pool2 = pool(img_conv2)\n",
    "img_conv3 = conv2(img_pool2)\n",
    "img_pool3 = pool(img_conv3)\n",
    "\n",
    "print(f'{img_conv1.shape=}')\n",
    "print(f'{img_pool1.shape=}')\n",
    "print(f'{img_conv2.shape=}')\n",
    "print(f'{img_pool2.shape=}')\n",
    "print(f'{img_conv3.shape=}')\n",
    "print(f'{img_pool3.shape=}')"
   ]
  },
  {
   "cell_type": "code",
   "execution_count": 17,
   "id": "26b5bf98",
   "metadata": {},
   "outputs": [],
   "source": [
    "class cnn_maker(Module):\n",
    "    def __init__(self):\n",
    "        super(cnn_maker, self).__init__()\n",
    "        self.conv1 = Conv2d(in_channels=3, out_channels=32, kernel_size=3)\n",
    "        self.pool = MaxPool2d(kernel_size=2, stride=2)\n",
    "        self.conv2 = Conv2d(in_channels=32, out_channels=64, kernel_size=5)\n",
    "        self.conv3 = Conv2d(in_channels=64, out_channels=64, kernel_size=5)\n",
    "        self.fc1 = Linear(64 * 26 * 36, 128)\n",
    "        self.fc2 = Linear(128, 64)\n",
    "        self.fc3 = Linear(64, 32)\n",
    "        self.drop = Dropout()\n",
    "        self.fc_f = Linear(32, 1)\n",
    "        self.prob = Sigmoid()\n",
    "\n",
    "    def forward(self, x):\n",
    "        x = self.pool(F.relu(self.conv1(x)))\n",
    "        x = self.pool(F.relu(self.conv2(x)))\n",
    "        x = self.pool(F.relu(self.conv3(x)))\n",
    "        x = x.view(-1, 64* 26 * 36)\n",
    "        x = F.relu(self.fc1(x))\n",
    "        x = F.relu(self.fc2(x))\n",
    "        x = F.relu(self.fc3(x))\n",
    "        x = self.drop(x)\n",
    "        \n",
    "        x = self.prob(self.fc_f(x))\n",
    "        return x"
   ]
  },
  {
   "cell_type": "code",
   "execution_count": 8,
   "id": "26405f87",
   "metadata": {},
   "outputs": [
    {
     "data": {
      "text/plain": [
       "<class 'skorch.classifier.NeuralNetClassifier'>[initialized](\n",
       "  module_=cnn_maker(\n",
       "    (conv1): Conv2d(3, 32, kernel_size=(3, 3), stride=(1, 1))\n",
       "    (pool): MaxPool2d(kernel_size=2, stride=2, padding=0, dilation=1, ceil_mode=False)\n",
       "    (conv2): Conv2d(32, 64, kernel_size=(5, 5), stride=(1, 1))\n",
       "    (conv3): Conv2d(64, 64, kernel_size=(5, 5), stride=(1, 1))\n",
       "    (fc1): Linear(in_features=59904, out_features=128, bias=True)\n",
       "    (fc2): Linear(in_features=128, out_features=64, bias=True)\n",
       "    (fc3): Linear(in_features=64, out_features=32, bias=True)\n",
       "    (drop): Dropout(p=0.5, inplace=False)\n",
       "    (fc_f): Linear(in_features=32, out_features=1, bias=True)\n",
       "    (prob): Sigmoid()\n",
       "  ),\n",
       ")"
      ]
     },
     "execution_count": 8,
     "metadata": {},
     "output_type": "execute_result"
    }
   ],
   "source": [
    "model = skorch.NeuralNetClassifier(cnn_maker, criterion = torch.nn.BCELoss, \n",
    "                                   optimizer = optim.SGD, max_epochs = 100, batch_size = 10)\n",
    "model.initialize()"
   ]
  },
  {
   "cell_type": "code",
   "execution_count": 9,
   "id": "c12c195e",
   "metadata": {},
   "outputs": [],
   "source": [
    "x = [] \n",
    "y = []\n",
    "for i in train_loader:\n",
    "    try:\n",
    "        x.append(np.array(i[0]))\n",
    "        y.append(np.array(i[1]))\n",
    "    except:\n",
    "        continue"
   ]
  },
  {
   "cell_type": "code",
   "execution_count": 10,
   "id": "f5c55def",
   "metadata": {},
   "outputs": [],
   "source": [
    "x_full = np.concatenate(x, axis = 0)\n",
    "y_full = np.concatenate(y, axis = 0)"
   ]
  },
  {
   "cell_type": "markdown",
   "id": "8d139cd1",
   "metadata": {},
   "source": [
    "# Batch size"
   ]
  },
  {
   "cell_type": "code",
   "execution_count": 12,
   "id": "e4c734e6",
   "metadata": {
    "scrolled": true
   },
   "outputs": [
    {
     "name": "stdout",
     "output_type": "stream",
     "text": [
      "  epoch    train_loss    valid_acc    valid_loss     dur\n",
      "-------  ------------  -----------  ------------  ------\n",
      "      1        \u001b[36m0.6827\u001b[0m       \u001b[32m0.6000\u001b[0m        \u001b[35m0.6805\u001b[0m  3.9599\n",
      "      2        0.6862       0.6000        \u001b[35m0.6800\u001b[0m  4.0121\n",
      "      3        \u001b[36m0.6808\u001b[0m       0.6000        \u001b[35m0.6797\u001b[0m  4.0045\n",
      "      4        0.6870       0.6000        \u001b[35m0.6793\u001b[0m  4.0501\n",
      "      5        \u001b[36m0.6792\u001b[0m       0.6000        \u001b[35m0.6789\u001b[0m  4.1109\n",
      "      6        0.6830       0.6000        \u001b[35m0.6785\u001b[0m  4.1856\n",
      "      7        0.6812       0.6000        \u001b[35m0.6781\u001b[0m  4.1748\n",
      "      8        0.6797       0.6000        \u001b[35m0.6778\u001b[0m  4.3423\n",
      "      9        \u001b[36m0.6763\u001b[0m       0.6000        \u001b[35m0.6776\u001b[0m  4.2328\n",
      "     10        0.6796       0.6000        \u001b[35m0.6774\u001b[0m  4.1020\n",
      "     11        0.6816       0.6000        \u001b[35m0.6772\u001b[0m  4.0365\n",
      "     12        0.6814       0.6000        \u001b[35m0.6769\u001b[0m  3.9766\n",
      "     13        0.6809       0.6000        \u001b[35m0.6767\u001b[0m  3.9776\n",
      "     14        0.6784       0.6000        \u001b[35m0.6765\u001b[0m  4.0129\n",
      "     15        \u001b[36m0.6750\u001b[0m       0.6000        \u001b[35m0.6762\u001b[0m  3.9475\n",
      "     16        0.6759       0.6000        \u001b[35m0.6759\u001b[0m  4.1090\n",
      "     17        \u001b[36m0.6741\u001b[0m       0.6000        \u001b[35m0.6757\u001b[0m  4.2525\n",
      "     18        0.6754       0.6000        \u001b[35m0.6755\u001b[0m  4.2218\n",
      "     19        0.6833       0.6000        \u001b[35m0.6753\u001b[0m  4.1306\n",
      "     20        0.6767       0.6000        \u001b[35m0.6752\u001b[0m  4.1719\n",
      "     21        0.6849       0.6000        \u001b[35m0.6751\u001b[0m  4.2075\n",
      "     22        0.6765       0.6000        \u001b[35m0.6750\u001b[0m  4.2273\n",
      "     23        0.6820       0.6000        \u001b[35m0.6749\u001b[0m  4.3558\n",
      "     24        0.6760       0.6000        \u001b[35m0.6747\u001b[0m  4.1200\n",
      "     25        0.6842       0.6000        \u001b[35m0.6746\u001b[0m  4.1263\n",
      "     26        0.6796       0.6000        \u001b[35m0.6745\u001b[0m  4.1322\n",
      "     27        0.6846       0.6000        \u001b[35m0.6744\u001b[0m  4.0863\n",
      "     28        0.6775       0.6000        \u001b[35m0.6743\u001b[0m  4.0698\n",
      "     29        0.6813       0.6000        \u001b[35m0.6742\u001b[0m  4.1088\n",
      "     30        0.6827       0.6000        \u001b[35m0.6741\u001b[0m  4.0742\n",
      "     31        0.6835       0.6000        \u001b[35m0.6741\u001b[0m  4.0699\n",
      "     32        0.6836       0.6000        \u001b[35m0.6740\u001b[0m  4.0785\n",
      "     33        0.6780       0.6000        \u001b[35m0.6739\u001b[0m  4.0474\n",
      "     34        \u001b[36m0.6701\u001b[0m       0.6000        \u001b[35m0.6738\u001b[0m  4.1065\n",
      "     35        0.6781       0.6000        \u001b[35m0.6737\u001b[0m  4.0065\n",
      "     36        0.6814       0.6000        \u001b[35m0.6737\u001b[0m  3.9898\n",
      "     37        0.6843       0.6000        0.6738  4.3313\n",
      "     38        0.6806       0.6000        \u001b[35m0.6737\u001b[0m  4.1565\n",
      "     39        0.6819       0.6000        0.6737  4.0271\n",
      "     40        0.6820       0.6000        0.6737  4.0542\n",
      "     41        0.6788       0.6000        \u001b[35m0.6736\u001b[0m  4.0249\n",
      "     42        0.6760       0.6000        0.6736  4.0526\n",
      "     43        0.6811       0.6000        \u001b[35m0.6736\u001b[0m  4.0245\n",
      "     44        0.6777       0.6000        \u001b[35m0.6735\u001b[0m  4.0207\n",
      "     45        0.6792       0.6000        \u001b[35m0.6735\u001b[0m  4.0404\n",
      "     46        0.6796       0.6000        \u001b[35m0.6734\u001b[0m  4.0548\n",
      "     47        0.6811       0.6000        \u001b[35m0.6733\u001b[0m  4.0815\n",
      "     48        0.6752       0.6000        \u001b[35m0.6733\u001b[0m  4.2110\n",
      "     49        0.6828       0.6000        \u001b[35m0.6732\u001b[0m  4.0345\n",
      "     50        0.6757       0.6000        \u001b[35m0.6731\u001b[0m  4.2841\n",
      "     51        0.6787       0.6000        \u001b[35m0.6730\u001b[0m  4.0260\n",
      "     52        0.6795       0.6000        \u001b[35m0.6730\u001b[0m  4.0935\n",
      "     53        0.6805       0.6000        \u001b[35m0.6730\u001b[0m  4.1358\n",
      "     54        0.6808       0.6000        \u001b[35m0.6730\u001b[0m  4.0790\n",
      "     55        0.6781       0.6000        \u001b[35m0.6729\u001b[0m  4.0773\n",
      "     56        0.6799       0.6000        \u001b[35m0.6729\u001b[0m  4.0648\n",
      "     57        0.6814       0.6000        0.6729  4.0579\n",
      "     58        0.6762       0.6000        \u001b[35m0.6728\u001b[0m  4.0568\n",
      "     59        0.6757       0.6000        \u001b[35m0.6728\u001b[0m  4.0911\n",
      "     60        0.6747       0.6000        \u001b[35m0.6728\u001b[0m  3.9974\n",
      "     61        0.6799       0.6000        \u001b[35m0.6727\u001b[0m  4.0790\n",
      "     62        0.6731       0.6000        \u001b[35m0.6727\u001b[0m  4.1166\n",
      "     63        0.6765       0.6000        \u001b[35m0.6726\u001b[0m  3.9799\n",
      "     64        0.6759       0.6000        \u001b[35m0.6726\u001b[0m  4.0299\n",
      "     65        0.6809       0.6000        \u001b[35m0.6725\u001b[0m  4.0508\n",
      "     66        0.6797       0.6000        \u001b[35m0.6725\u001b[0m  4.0248\n",
      "     67        0.6812       0.6000        0.6725  4.0534\n",
      "     68        0.6737       0.6000        \u001b[35m0.6724\u001b[0m  4.0610\n",
      "     69        0.6745       0.6000        \u001b[35m0.6724\u001b[0m  4.0129\n",
      "     70        0.6763       0.6000        \u001b[35m0.6723\u001b[0m  4.0156\n",
      "     71        0.6744       0.6000        \u001b[35m0.6723\u001b[0m  4.0465\n",
      "     72        0.6801       0.6000        \u001b[35m0.6722\u001b[0m  4.0360\n",
      "     73        0.6787       0.6000        \u001b[35m0.6721\u001b[0m  4.1994\n",
      "     74        0.6777       0.6000        \u001b[35m0.6721\u001b[0m  4.0910\n",
      "     75        0.6731       0.6000        \u001b[35m0.6720\u001b[0m  4.1352\n",
      "     76        0.6772       0.6000        0.6721  4.0198\n",
      "     77        0.6752       0.6000        \u001b[35m0.6720\u001b[0m  4.1929\n",
      "     78        0.6759       0.6000        \u001b[35m0.6719\u001b[0m  4.0771\n",
      "     79        0.6792       0.6000        \u001b[35m0.6719\u001b[0m  4.0431\n",
      "     80        0.6766       0.6000        \u001b[35m0.6718\u001b[0m  3.9324\n",
      "     81        0.6820       0.6000        0.6719  4.1878\n",
      "     82        0.6776       0.6000        0.6718  4.1652\n",
      "     83        0.6802       0.6000        0.6719  4.0407\n",
      "     84        0.6771       0.6000        0.6718  4.1050\n",
      "     85        0.6776       0.6000        \u001b[35m0.6718\u001b[0m  4.1439\n",
      "     86        0.6777       0.6000        \u001b[35m0.6717\u001b[0m  4.1675\n",
      "     87        0.6765       0.6000        \u001b[35m0.6716\u001b[0m  4.0654\n",
      "     88        0.6733       0.6000        \u001b[35m0.6716\u001b[0m  4.0293\n",
      "     89        0.6811       0.6000        \u001b[35m0.6715\u001b[0m  4.1210\n",
      "     90        0.6796       0.6000        \u001b[35m0.6714\u001b[0m  4.0915\n",
      "     91        0.6718       0.6000        \u001b[35m0.6714\u001b[0m  4.0326\n",
      "     92        0.6759       0.6000        \u001b[35m0.6713\u001b[0m  4.1029\n",
      "     93        0.6782       0.6000        \u001b[35m0.6712\u001b[0m  4.1461\n",
      "     94        0.6800       0.6000        \u001b[35m0.6712\u001b[0m  4.1083\n",
      "     95        0.6860       0.6000        0.6713  4.0660\n",
      "     96        0.6831       0.6000        0.6713  4.0755\n",
      "     97        0.6809       0.6000        0.6713  4.0096\n",
      "     98        0.6742       0.6000        0.6712  4.1516\n",
      "     99        0.6760       0.6000        \u001b[35m0.6711\u001b[0m  3.9972\n",
      "    100        0.6796       0.6000        \u001b[35m0.6710\u001b[0m  4.0096\n",
      "Best: 0.590018 using {'batch_size': 10}\n",
      "0.590018 (0.012435) with: {'batch_size': 10}\n",
      "0.590018 (0.012435) with: {'batch_size': 20}\n",
      "0.590018 (0.012435) with: {'batch_size': 40}\n",
      "0.590018 (0.012435) with: {'batch_size': 60}\n",
      "0.590018 (0.012435) with: {'batch_size': 80}\n",
      "0.519311 (0.088797) with: {'batch_size': 100}\n"
     ]
    }
   ],
   "source": [
    "param_grid = {\n",
    "    'batch_size': [10, 20, 40, 60, 80, 100],\n",
    "}\n",
    "grid = GridSearchCV(estimator=model, param_grid=param_grid, n_jobs=4, cv=3)\n",
    "grid_result = grid.fit(x_full[:100].astype(np.float32), y_full[:100].reshape(-1, 1).astype(np.float32))\n",
    " \n",
    "# summarize results\n",
    "print(\"Best: %f using %s\" % (grid_result.best_score_, grid_result.best_params_))\n",
    "means = grid_result.cv_results_['mean_test_score']\n",
    "stds = grid_result.cv_results_['std_test_score']\n",
    "params = grid_result.cv_results_['params']\n",
    "for mean, stdev, param in zip(means, stds, params):\n",
    "    print(\"%f (%f) with: %r\" % (mean, stdev, param))"
   ]
  },
  {
   "cell_type": "markdown",
   "id": "c35076e3",
   "metadata": {},
   "source": [
    "# Batch size: 10"
   ]
  },
  {
   "cell_type": "markdown",
   "id": "a9fc1111",
   "metadata": {},
   "source": [
    "# Optimiser"
   ]
  },
  {
   "cell_type": "code",
   "execution_count": 18,
   "id": "478022bf",
   "metadata": {},
   "outputs": [
    {
     "data": {
      "text/plain": [
       "<class 'skorch.classifier.NeuralNetClassifier'>[initialized](\n",
       "  module_=cnn_maker(\n",
       "    (conv1): Conv2d(3, 32, kernel_size=(3, 3), stride=(1, 1))\n",
       "    (pool): MaxPool2d(kernel_size=2, stride=2, padding=0, dilation=1, ceil_mode=False)\n",
       "    (conv2): Conv2d(32, 64, kernel_size=(5, 5), stride=(1, 1))\n",
       "    (conv3): Conv2d(64, 64, kernel_size=(5, 5), stride=(1, 1))\n",
       "    (fc1): Linear(in_features=59904, out_features=128, bias=True)\n",
       "    (fc2): Linear(in_features=128, out_features=64, bias=True)\n",
       "    (fc3): Linear(in_features=64, out_features=32, bias=True)\n",
       "    (drop): Dropout(p=0.5, inplace=False)\n",
       "    (fc_f): Linear(in_features=32, out_features=1, bias=True)\n",
       "    (prob): Sigmoid()\n",
       "  ),\n",
       ")"
      ]
     },
     "execution_count": 18,
     "metadata": {},
     "output_type": "execute_result"
    }
   ],
   "source": [
    "model = skorch.NeuralNetClassifier(cnn_maker, criterion = torch.nn.BCELoss, max_epochs = 50, batch_size = 10)\n",
    "model.initialize()"
   ]
  },
  {
   "cell_type": "code",
   "execution_count": 19,
   "id": "b29cc939",
   "metadata": {
    "scrolled": true
   },
   "outputs": [
    {
     "name": "stdout",
     "output_type": "stream",
     "text": [
      "  epoch    train_loss    valid_acc    valid_loss     dur\n",
      "-------  ------------  -----------  ------------  ------\n",
      "      1        \u001b[36m5.9017\u001b[0m       \u001b[32m0.6000\u001b[0m        \u001b[35m0.9599\u001b[0m  4.2215\n",
      "      2        \u001b[36m0.9051\u001b[0m       0.6000        \u001b[35m0.6647\u001b[0m  4.2818\n",
      "      3        \u001b[36m0.6919\u001b[0m       0.6000        0.6697  4.3282\n",
      "      4        0.6959       0.6000        0.6770  4.1937\n",
      "      5        \u001b[36m0.6744\u001b[0m       0.6000        \u001b[35m0.6434\u001b[0m  4.4311\n",
      "      6        0.6943       0.6000        \u001b[35m0.6424\u001b[0m  4.1739\n",
      "      7        0.6791       0.6000        \u001b[35m0.6126\u001b[0m  4.3571\n",
      "      8        \u001b[36m0.6397\u001b[0m       0.6000        \u001b[35m0.5973\u001b[0m  4.2576\n",
      "      9        0.6779       0.6000        0.6021  4.2726\n",
      "     10        0.6554       0.6000        0.6307  4.3388\n",
      "     11        0.6602       0.6000        0.6086  4.2070\n",
      "     12        \u001b[36m0.6339\u001b[0m       \u001b[32m0.6500\u001b[0m        \u001b[35m0.5820\u001b[0m  4.4245\n",
      "     13        \u001b[36m0.6274\u001b[0m       \u001b[32m0.7000\u001b[0m        0.5940  4.1756\n",
      "     14        0.6373       0.7000        0.6228  4.3717\n",
      "     15        \u001b[36m0.6042\u001b[0m       0.7000        0.6070  4.3212\n",
      "     16        \u001b[36m0.5762\u001b[0m       0.7000        0.6038  4.2476\n",
      "     17        \u001b[36m0.5583\u001b[0m       \u001b[32m0.8000\u001b[0m        \u001b[35m0.5575\u001b[0m  4.3824\n",
      "     18        \u001b[36m0.5570\u001b[0m       0.7000        \u001b[35m0.5520\u001b[0m  4.1882\n",
      "     19        \u001b[36m0.5538\u001b[0m       0.6500        0.5755  4.4428\n",
      "     20        \u001b[36m0.5240\u001b[0m       0.6500        0.5678  4.1798\n",
      "     21        \u001b[36m0.5208\u001b[0m       0.6500        0.5804  4.3183\n",
      "     22        \u001b[36m0.4847\u001b[0m       0.6500        0.6093  4.2820\n",
      "     23        0.5018       0.6000        \u001b[35m0.5503\u001b[0m  4.3024\n",
      "     24        0.4873       0.7000        \u001b[35m0.5412\u001b[0m  4.3281\n",
      "     25        \u001b[36m0.4453\u001b[0m       0.6500        0.5568  4.1575\n",
      "     26        \u001b[36m0.4259\u001b[0m       0.6500        0.5719  4.3935\n",
      "     27        0.4398       0.6500        \u001b[35m0.5351\u001b[0m  4.2010\n",
      "     28        \u001b[36m0.4157\u001b[0m       0.7000        0.5626  4.3403\n",
      "     29        0.4263       0.7000        0.5763  4.2826\n",
      "     30        \u001b[36m0.3767\u001b[0m       0.7000        0.5829  4.2461\n",
      "     31        0.3857       0.7000        0.5384  4.4142\n",
      "     32        \u001b[36m0.3420\u001b[0m       0.7000        0.5515  4.1417\n",
      "     33        \u001b[36m0.3300\u001b[0m       0.6500        0.6176  4.4427\n",
      "     34        0.3373       0.6500        0.6079  4.2534\n",
      "     35        \u001b[36m0.3057\u001b[0m       0.6500        0.6606  4.3310\n",
      "     36        \u001b[36m0.2934\u001b[0m       0.7000        0.6443  4.2830\n",
      "     37        \u001b[36m0.2608\u001b[0m       0.7000        0.6180  4.2212\n",
      "     38        \u001b[36m0.2442\u001b[0m       0.6500        0.6568  4.3963\n",
      "     39        \u001b[36m0.2342\u001b[0m       0.6500        0.7193  4.1659\n",
      "     40        0.2496       0.6500        0.7084  4.4424\n",
      "     41        \u001b[36m0.2110\u001b[0m       0.6500        0.7777  4.2176\n",
      "     42        0.2697       0.6500        0.6784  4.3302\n",
      "     43        0.2131       0.6500        0.7584  4.2994\n",
      "     44        \u001b[36m0.1954\u001b[0m       0.6500        0.8588  4.1963\n",
      "     45        \u001b[36m0.1941\u001b[0m       0.6500        0.8698  4.4129\n",
      "     46        0.2469       0.6000        0.8267  4.1780\n",
      "     47        0.2507       0.6000        0.7638  4.4607\n",
      "     48        \u001b[36m0.1661\u001b[0m       0.6000        0.8536  4.3238\n",
      "     49        \u001b[36m0.1404\u001b[0m       0.6500        1.0236  4.3370\n",
      "     50        \u001b[36m0.1284\u001b[0m       0.6500        1.0538  4.3060\n",
      "Best: 0.719846 using {'optimizer': <class 'torch.optim.adagrad.Adagrad'>}\n",
      "0.590018 (0.012435) with: {'optimizer': <class 'torch.optim.sgd.SGD'>}\n",
      "0.460487 (0.081833) with: {'optimizer': <class 'torch.optim.rmsprop.RMSprop'>}\n",
      "0.719846 (0.062813) with: {'optimizer': <class 'torch.optim.adagrad.Adagrad'>}\n",
      "0.590018 (0.012435) with: {'optimizer': <class 'torch.optim.adadelta.Adadelta'>}\n",
      "0.600119 (0.026130) with: {'optimizer': <class 'torch.optim.adam.Adam'>}\n",
      "0.561497 (0.105877) with: {'optimizer': <class 'torch.optim.adamax.Adamax'>}\n",
      "0.590018 (0.012435) with: {'optimizer': <class 'torch.optim.nadam.NAdam'>}\n"
     ]
    }
   ],
   "source": [
    "param_grid = {\n",
    "    'optimizer': [optim.SGD, optim.RMSprop, optim.Adagrad, optim.Adadelta,\n",
    "                  optim.Adam, optim.Adamax, optim.NAdam],\n",
    "}\n",
    "grid = GridSearchCV(estimator=model, param_grid=param_grid, n_jobs=4, cv=3)\n",
    "grid_result = grid.fit(x_full[:100].astype(np.float32), y_full[:100].reshape(-1, 1).astype(np.float32))\n",
    " \n",
    "# summarize results\n",
    "print(\"Best: %f using %s\" % (grid_result.best_score_, grid_result.best_params_))\n",
    "means = grid_result.cv_results_['mean_test_score']\n",
    "stds = grid_result.cv_results_['std_test_score']\n",
    "params = grid_result.cv_results_['params']\n",
    "for mean, stdev, param in zip(means, stds, params):\n",
    "    print(\"%f (%f) with: %r\" % (mean, stdev, param))"
   ]
  },
  {
   "cell_type": "markdown",
   "id": "40992d10",
   "metadata": {},
   "source": [
    "# Best: 0.719846 using {'optimizer': <class 'torch.optim.adagrad.Adagrad'>}"
   ]
  },
  {
   "cell_type": "markdown",
   "id": "a360fae4",
   "metadata": {},
   "source": [
    "# lr "
   ]
  },
  {
   "cell_type": "code",
   "execution_count": 21,
   "id": "f2c4c3ca",
   "metadata": {},
   "outputs": [
    {
     "data": {
      "text/plain": [
       "<class 'skorch.classifier.NeuralNetClassifier'>[initialized](\n",
       "  module_=cnn_maker(\n",
       "    (conv1): Conv2d(3, 32, kernel_size=(3, 3), stride=(1, 1))\n",
       "    (pool): MaxPool2d(kernel_size=2, stride=2, padding=0, dilation=1, ceil_mode=False)\n",
       "    (conv2): Conv2d(32, 64, kernel_size=(5, 5), stride=(1, 1))\n",
       "    (conv3): Conv2d(64, 64, kernel_size=(5, 5), stride=(1, 1))\n",
       "    (fc1): Linear(in_features=59904, out_features=128, bias=True)\n",
       "    (fc2): Linear(in_features=128, out_features=64, bias=True)\n",
       "    (fc3): Linear(in_features=64, out_features=32, bias=True)\n",
       "    (drop): Dropout(p=0.5, inplace=False)\n",
       "    (fc_f): Linear(in_features=32, out_features=1, bias=True)\n",
       "    (prob): Sigmoid()\n",
       "  ),\n",
       ")"
      ]
     },
     "execution_count": 21,
     "metadata": {},
     "output_type": "execute_result"
    }
   ],
   "source": [
    "model = skorch.NeuralNetClassifier(cnn_maker, criterion = torch.nn.BCELoss, optimizer = optim.Adagrad,\n",
    "                                   max_epochs = 50, batch_size = 10)\n",
    "model.initialize()"
   ]
  },
  {
   "cell_type": "code",
   "execution_count": 23,
   "id": "d00f512c",
   "metadata": {
    "scrolled": true
   },
   "outputs": [
    {
     "name": "stdout",
     "output_type": "stream",
     "text": [
      "  epoch    train_loss    valid_acc    valid_loss     dur\n",
      "-------  ------------  -----------  ------------  ------\n",
      "      1        \u001b[36m7.7633\u001b[0m       \u001b[32m0.6000\u001b[0m        \u001b[35m0.6768\u001b[0m  4.2055\n",
      "      2        \u001b[36m0.6957\u001b[0m       0.6000        \u001b[35m0.6694\u001b[0m  4.1300\n",
      "      3        \u001b[36m0.6875\u001b[0m       0.6000        0.6725  4.1885\n",
      "      4        \u001b[36m0.6868\u001b[0m       0.6000        \u001b[35m0.6606\u001b[0m  4.1430\n",
      "      5        0.6990       0.6000        0.6635  4.1536\n",
      "      6        \u001b[36m0.6665\u001b[0m       0.6000        \u001b[35m0.6575\u001b[0m  4.1545\n",
      "      7        0.6809       0.6000        \u001b[35m0.6555\u001b[0m  4.1091\n",
      "      8        0.6742       0.6000        \u001b[35m0.6461\u001b[0m  4.2699\n",
      "      9        0.6724       0.6000        \u001b[35m0.6206\u001b[0m  4.2534\n",
      "     10        \u001b[36m0.6421\u001b[0m       0.6000        1.0991  4.2192\n",
      "     11        0.8901       0.6000        0.6366  4.1304\n",
      "     12        0.6569       0.6000        \u001b[35m0.5959\u001b[0m  4.2322\n",
      "     13        0.6761       0.6000        0.6084  4.1817\n",
      "     14        0.6697       0.6000        0.5993  4.1340\n",
      "     15        0.6516       0.6000        0.6117  4.1981\n",
      "     16        \u001b[36m0.6405\u001b[0m       \u001b[32m0.7000\u001b[0m        0.6132  4.1903\n",
      "     17        \u001b[36m0.6316\u001b[0m       0.6500        \u001b[35m0.5797\u001b[0m  4.1595\n",
      "     18        \u001b[36m0.6027\u001b[0m       0.6500        \u001b[35m0.5609\u001b[0m  4.1931\n",
      "     19        0.6170       0.6000        0.5826  4.1481\n",
      "     20        \u001b[36m0.5904\u001b[0m       0.6000        0.5638  4.1605\n",
      "     21        \u001b[36m0.5646\u001b[0m       0.6000        0.5782  4.1797\n",
      "     22        \u001b[36m0.5299\u001b[0m       0.5500        0.5881  4.1592\n",
      "     23        0.5569       0.5500        0.5757  4.1120\n",
      "     24        \u001b[36m0.5024\u001b[0m       0.5500        0.5906  4.1189\n",
      "     25        \u001b[36m0.4490\u001b[0m       0.6000        0.5902  4.1925\n",
      "     26        0.4595       0.5500        0.5688  4.2620\n",
      "     27        \u001b[36m0.4175\u001b[0m       0.5500        0.6409  4.2074\n",
      "     28        \u001b[36m0.3943\u001b[0m       0.5500        0.5922  4.2401\n",
      "     29        0.4160       0.6000        0.5616  4.2014\n",
      "     30        0.3954       0.5500        0.6011  4.1940\n",
      "     31        0.7889       0.6500        0.6075  4.3024\n",
      "     32        \u001b[36m0.3671\u001b[0m       0.6000        0.6657  4.2670\n",
      "     33        \u001b[36m0.3270\u001b[0m       0.5500        0.7045  4.1884\n",
      "     34        0.3381       0.5500        0.6682  4.0925\n",
      "     35        \u001b[36m0.2954\u001b[0m       0.5500        0.7439  4.2406\n",
      "     36        \u001b[36m0.2788\u001b[0m       0.5500        0.7089  4.2453\n",
      "     37        0.3121       0.6000        0.6557  4.1850\n",
      "     38        \u001b[36m0.2609\u001b[0m       0.5500        0.7338  4.4541\n",
      "     39        \u001b[36m0.2343\u001b[0m       0.6500        0.6801  4.1645\n",
      "     40        0.2733       0.5500        0.8414  4.2700\n",
      "     41        0.3015       0.6500        0.6912  4.1850\n",
      "     42        \u001b[36m0.2028\u001b[0m       0.6500        0.7855  4.5776\n",
      "     43        0.2292       0.7000        0.7373  5.3447\n",
      "     44        \u001b[36m0.1590\u001b[0m       0.6500        0.8986  4.2331\n",
      "     45        \u001b[36m0.1197\u001b[0m       0.7000        0.9903  4.3220\n",
      "     46        \u001b[36m0.1137\u001b[0m       0.6000        0.9532  4.2760\n",
      "     47        0.1595       0.6000        1.2339  4.3541\n",
      "     48        0.3303       0.6000        1.1102  4.3038\n",
      "     49        0.1523       0.6000        1.0053  4.1490\n",
      "     50        0.1601       0.6000        0.9890  4.2010\n",
      "Best: 0.719548 using {'optimizer__lr': 0.01}\n",
      "0.640523 (0.044488) with: {'optimizer__lr': 0.001}\n",
      "0.719548 (0.040395) with: {'optimizer__lr': 0.01}\n",
      "0.409982 (0.012435) with: {'optimizer__lr': 0.1}\n",
      "0.409982 (0.012435) with: {'optimizer__lr': 0.2}\n",
      "0.409982 (0.012435) with: {'optimizer__lr': 0.3}\n"
     ]
    }
   ],
   "source": [
    "param_grid = {\n",
    "    'optimizer__lr': [0.001, 0.01, 0.1, 0.2, 0.3]\n",
    "}\n",
    "grid = GridSearchCV(estimator=model, param_grid=param_grid, n_jobs=4, cv=3)\n",
    "grid_result = grid.fit(x_full[:100].astype(np.float32), y_full[:100].reshape(-1, 1).astype(np.float32))\n",
    " \n",
    "# summarize results\n",
    "print(\"Best: %f using %s\" % (grid_result.best_score_, grid_result.best_params_))\n",
    "means = grid_result.cv_results_['mean_test_score']\n",
    "stds = grid_result.cv_results_['std_test_score']\n",
    "params = grid_result.cv_results_['params']\n",
    "for mean, stdev, param in zip(means, stds, params):\n",
    "    print(\"%f (%f) with: %r\" % (mean, stdev, param))"
   ]
  },
  {
   "cell_type": "markdown",
   "id": "b72f2815",
   "metadata": {},
   "source": [
    "# Best: 0.719548 using {'optimizer__lr': 0.01}"
   ]
  },
  {
   "cell_type": "markdown",
   "id": "0e93fb93",
   "metadata": {},
   "source": [
    "# Weight init"
   ]
  },
  {
   "cell_type": "code",
   "execution_count": 25,
   "id": "a02c6f18",
   "metadata": {},
   "outputs": [],
   "source": [
    "class cnn_maker(Module):\n",
    "    def __init__(self, weight_init=torch.nn.init.xavier_uniform_):\n",
    "        super(cnn_maker, self).__init__()\n",
    "        self.conv1 = Conv2d(in_channels=3, out_channels=32, kernel_size=3)\n",
    "        self.pool = MaxPool2d(kernel_size=2, stride=2)\n",
    "        self.conv2 = Conv2d(in_channels=32, out_channels=64, kernel_size=5)\n",
    "        self.conv3 = Conv2d(in_channels=64, out_channels=64, kernel_size=5)\n",
    "        self.fc1 = Linear(64 * 26 * 36, 128)\n",
    "        self.fc2 = Linear(128, 64)\n",
    "        self.fc3 = Linear(64, 32)\n",
    "        self.drop = Dropout()\n",
    "        self.fc_f = Linear(32, 1)\n",
    "        self.prob = Sigmoid()\n",
    "        \n",
    "        weight_init(self.fc1.weight)\n",
    "        weight_init(self.fc_f.weight)\n",
    "\n",
    "    def forward(self, x):\n",
    "        x = self.pool(F.relu(self.conv1(x)))\n",
    "        x = self.pool(F.relu(self.conv2(x)))\n",
    "        x = self.pool(F.relu(self.conv3(x)))\n",
    "        x = x.view(-1, 64* 26 * 36)\n",
    "        x = F.relu(self.fc1(x))\n",
    "        x = F.relu(self.fc2(x))\n",
    "        x = F.relu(self.fc3(x))\n",
    "        x = self.drop(x)\n",
    "        \n",
    "        x = self.prob(self.fc_f(x))\n",
    "        return x"
   ]
  },
  {
   "cell_type": "code",
   "execution_count": 27,
   "id": "bfec7365",
   "metadata": {},
   "outputs": [
    {
     "data": {
      "text/plain": [
       "<class 'skorch.classifier.NeuralNetClassifier'>[initialized](\n",
       "  module_=cnn_maker(\n",
       "    (conv1): Conv2d(3, 32, kernel_size=(3, 3), stride=(1, 1))\n",
       "    (pool): MaxPool2d(kernel_size=2, stride=2, padding=0, dilation=1, ceil_mode=False)\n",
       "    (conv2): Conv2d(32, 64, kernel_size=(5, 5), stride=(1, 1))\n",
       "    (conv3): Conv2d(64, 64, kernel_size=(5, 5), stride=(1, 1))\n",
       "    (fc1): Linear(in_features=59904, out_features=128, bias=True)\n",
       "    (fc2): Linear(in_features=128, out_features=64, bias=True)\n",
       "    (fc3): Linear(in_features=64, out_features=32, bias=True)\n",
       "    (drop): Dropout(p=0.5, inplace=False)\n",
       "    (fc_f): Linear(in_features=32, out_features=1, bias=True)\n",
       "    (prob): Sigmoid()\n",
       "  ),\n",
       ")"
      ]
     },
     "execution_count": 27,
     "metadata": {},
     "output_type": "execute_result"
    }
   ],
   "source": [
    "model = skorch.NeuralNetClassifier(cnn_maker, criterion = torch.nn.BCELoss, \n",
    "                                   optimizer = optim.Adagrad, max_epochs = 50, batch_size = 10)\n",
    "model.initialize()"
   ]
  },
  {
   "cell_type": "code",
   "execution_count": 28,
   "id": "ed53b88f",
   "metadata": {},
   "outputs": [
    {
     "name": "stdout",
     "output_type": "stream",
     "text": [
      "  epoch    train_loss    valid_acc    valid_loss     dur\n",
      "-------  ------------  -----------  ------------  ------\n",
      "      1       \u001b[36m55.0840\u001b[0m       \u001b[32m0.4000\u001b[0m       \u001b[35m60.0000\u001b[0m  4.2354\n",
      "      2       \u001b[36m22.0135\u001b[0m       \u001b[32m0.6000\u001b[0m        \u001b[35m0.6813\u001b[0m  4.1717\n",
      "      3        \u001b[36m1.1806\u001b[0m       0.6000        \u001b[35m0.6711\u001b[0m  4.2079\n",
      "      4        \u001b[36m0.9975\u001b[0m       0.4000        0.6983  4.2113\n",
      "      5        \u001b[36m0.6998\u001b[0m       0.4000        0.6945  4.1852\n",
      "      6        \u001b[36m0.6944\u001b[0m       0.6000        0.6926  4.1671\n",
      "      7        \u001b[36m0.6820\u001b[0m       0.6000        0.6740  4.1660\n",
      "      8        0.7200       0.6000        0.6713  4.1264\n",
      "      9        0.7092       0.6000        0.6827  4.1715\n",
      "     10        0.6940       0.6000        0.6865  4.1184\n",
      "     11        0.7098       0.6000        0.6847  4.1556\n",
      "     12        \u001b[36m0.6630\u001b[0m       0.6000        \u001b[35m0.6676\u001b[0m  4.0959\n",
      "     13        0.7069       0.6000        0.6769  4.1401\n",
      "     14        0.6741       0.6000        0.6790  4.1899\n",
      "     15        0.6845       0.6000        0.6706  4.1762\n",
      "     16        0.6849       0.6000        \u001b[35m0.6580\u001b[0m  4.2049\n",
      "     17        0.6849       0.6000        \u001b[35m0.6537\u001b[0m  4.1572\n",
      "     18        0.6836       0.6000        0.6673  4.1540\n",
      "     19        0.6789       0.6000        \u001b[35m0.6366\u001b[0m  4.1545\n",
      "     20        \u001b[36m0.6609\u001b[0m       0.6000        \u001b[35m0.6199\u001b[0m  4.1107\n",
      "     21        \u001b[36m0.6518\u001b[0m       0.6000        0.6292  4.1205\n",
      "     22        \u001b[36m0.6362\u001b[0m       \u001b[32m0.6500\u001b[0m        0.6398  4.1323\n",
      "     23        \u001b[36m0.6072\u001b[0m       0.6000        \u001b[35m0.5929\u001b[0m  4.1891\n",
      "     24        0.6854       0.6000        0.6153  4.1446\n",
      "     25        0.8364       0.6000        0.6142  4.1854\n",
      "     26        0.6703       0.6000        0.5956  4.1566\n",
      "     27        0.6457       \u001b[32m0.7000\u001b[0m        \u001b[35m0.5859\u001b[0m  4.0992\n",
      "     28        \u001b[36m0.6039\u001b[0m       0.6500        0.6049  4.2083\n",
      "     29        \u001b[36m0.5840\u001b[0m       0.7000        \u001b[35m0.5706\u001b[0m  4.1376\n",
      "     30        \u001b[36m0.5830\u001b[0m       0.6000        0.5755  4.1315\n",
      "     31        0.6261       0.6000        \u001b[35m0.5367\u001b[0m  4.1868\n",
      "     32        0.6243       0.6000        0.5738  4.1316\n",
      "     33        \u001b[36m0.5692\u001b[0m       0.6000        0.5562  4.1828\n",
      "     34        0.5828       0.6500        0.5902  4.1126\n",
      "     35        \u001b[36m0.5436\u001b[0m       0.6500        0.5429  4.1367\n",
      "     36        \u001b[36m0.5334\u001b[0m       0.6500        0.5533  4.1547\n",
      "     37        0.5340       0.6500        0.5460  4.1647\n",
      "     38        \u001b[36m0.4969\u001b[0m       0.6000        0.5598  4.1104\n",
      "     39        \u001b[36m0.4853\u001b[0m       0.6000        0.5439  4.1616\n",
      "     40        0.4968       0.6000        0.5664  4.1947\n",
      "     41        \u001b[36m0.4428\u001b[0m       0.6500        0.5654  4.1201\n",
      "     42        0.4435       0.6500        0.5631  4.1606\n",
      "     43        \u001b[36m0.4421\u001b[0m       0.7000        \u001b[35m0.5216\u001b[0m  4.0980\n",
      "     44        0.4429       0.7000        \u001b[35m0.5133\u001b[0m  4.2517\n",
      "     45        \u001b[36m0.4328\u001b[0m       0.7000        0.5296  4.1872\n",
      "     46        \u001b[36m0.3918\u001b[0m       0.6500        0.5651  4.1080\n",
      "     47        0.4449       0.7000        0.5335  4.1895\n",
      "     48        0.4048       0.7000        0.5470  4.0810\n",
      "     49        \u001b[36m0.3813\u001b[0m       0.7000        0.5319  4.1695\n",
      "     50        \u001b[36m0.3557\u001b[0m       0.7000        0.5272  4.1301\n",
      "Best: 0.629531 using {'module__weight_init': <function xavier_normal_ at 0x000001E68E0345E0>}\n",
      "0.409982 (0.012435) with: {'module__weight_init': <function uniform_ at 0x000001E68E034040>}\n",
      "0.531194 (0.085351) with: {'module__weight_init': <function normal_ at 0x000001E68E0340D0>}\n",
      "0.590018 (0.012435) with: {'module__weight_init': <function zeros_ at 0x000001E68E034310>}\n",
      "0.629531 (0.041399) with: {'module__weight_init': <function xavier_normal_ at 0x000001E68E0345E0>}\n",
      "0.610220 (0.019867) with: {'module__weight_init': <function xavier_uniform_ at 0x000001E68E034550>}\n",
      "0.598336 (0.139101) with: {'module__weight_init': <function kaiming_normal_ at 0x000001E68E034790>}\n",
      "0.628936 (0.079172) with: {'module__weight_init': <function kaiming_uniform_ at 0x000001E68E034700>}\n"
     ]
    }
   ],
   "source": [
    "param_grid = {\n",
    "    'module__weight_init': [init.uniform_, init.normal_, init.zeros_,\n",
    "                           init.xavier_normal_, init.xavier_uniform_,\n",
    "                           init.kaiming_normal_, init.kaiming_uniform_]\n",
    "}\n",
    "grid = GridSearchCV(estimator=model, param_grid=param_grid, n_jobs=-1, cv=3)\n",
    "grid_result = grid.fit(x_full[:100].astype(np.float32), y_full[:100].reshape(-1, 1).astype(np.float32))\n",
    " \n",
    "# summarize results\n",
    "print(\"Best: %f using %s\" % (grid_result.best_score_, grid_result.best_params_))\n",
    "means = grid_result.cv_results_['mean_test_score']\n",
    "stds = grid_result.cv_results_['std_test_score']\n",
    "params = grid_result.cv_results_['params']\n",
    "for mean, stdev, param in zip(means, stds, params):\n",
    "    print(\"%f (%f) with: %r\" % (mean, stdev, param))"
   ]
  },
  {
   "cell_type": "markdown",
   "id": "c9aa62e4",
   "metadata": {},
   "source": [
    "# Best: 0.629531 using {'module__weight_init': <function xavier_normal_ at 0x000001E68E0345E0>}"
   ]
  },
  {
   "cell_type": "markdown",
   "id": "4177d895",
   "metadata": {},
   "source": [
    "# Not sure about the above, but we have some nice stuff to go off. Let's put it all together in the other notebook and get a result"
   ]
  },
  {
   "cell_type": "code",
   "execution_count": null,
   "id": "4d9e149c",
   "metadata": {},
   "outputs": [],
   "source": []
  }
 ],
 "metadata": {
  "kernelspec": {
   "display_name": "Python 3 (ipykernel)",
   "language": "python",
   "name": "python3"
  },
  "language_info": {
   "codemirror_mode": {
    "name": "ipython",
    "version": 3
   },
   "file_extension": ".py",
   "mimetype": "text/x-python",
   "name": "python",
   "nbconvert_exporter": "python",
   "pygments_lexer": "ipython3",
   "version": "3.9.13"
  }
 },
 "nbformat": 4,
 "nbformat_minor": 5
}

{
 "cells": [
  {
   "cell_type": "code",
   "execution_count": 1,
   "id": "d1fe901c",
   "metadata": {},
   "outputs": [],
   "source": [
    "import pandas as pd\n",
    "import numpy as np\n",
    "import matplotlib.pyplot as plt\n",
    "\n",
    "from pre_processing import *\n",
    "\n",
    "import os\n",
    "\n",
    "from sklearn.model_selection import train_test_split, GridSearchCV\n",
    "\n",
    "from scipy.signal import spectrogram\n",
    "\n",
    "import torch\n",
    "import torch.nn.init as init\n",
    "from torch.nn import Module, Conv2d, Linear, MaxPool2d, ReLU, LogSoftmax, Flatten, Dropout, Sigmoid, BCELoss\n",
    "import torch.optim as optim\n",
    "import torchvision\n",
    "from torchvision import transforms, datasets\n",
    "from torch.utils.data import DataLoader, Dataset, random_split\n",
    "import torch.nn.functional as F\n",
    "torch.manual_seed(42)\n",
    "from dataclasses import dataclass\n",
    "\n",
    "import skorch\n",
    "\n",
    "from PIL import Image\n",
    "from skimage.io import imread\n",
    "\n",
    "from bayes_opt import BayesianOptimization\n",
    "\n",
    "import warnings\n",
    "warnings.filterwarnings('ignore')\n",
    "\n",
    "device = 'cuda' if torch.cuda.is_available() else 'cpu'"
   ]
  },
  {
   "cell_type": "code",
   "execution_count": 2,
   "id": "0c48f4c6",
   "metadata": {},
   "outputs": [],
   "source": [
    "class make_data(Dataset):\n",
    "    def __init__(self, data_dir, transform=None):\n",
    "        self.data_dir = data_dir\n",
    "        self.transform = transform\n",
    "        self.dataset = datasets.ImageFolder(self.data_dir, transform=self.transform)\n",
    "\n",
    "    def __len__(self):\n",
    "        return len(self.dataset)\n",
    "\n",
    "    def __getitem__(self, index):\n",
    "        return self.dataset[index]"
   ]
  },
  {
   "cell_type": "code",
   "execution_count": 3,
   "id": "8758bed4",
   "metadata": {},
   "outputs": [],
   "source": [
    "transform = transforms.Compose([transforms.ToTensor(), transforms.Resize((240, 320))])\n",
    "dataset = make_data('pic_data/spectro/full_prsb/', transform=transform)"
   ]
  },
  {
   "cell_type": "code",
   "execution_count": 4,
   "id": "7425bad5",
   "metadata": {},
   "outputs": [],
   "source": [
    "train_data, test_data = random_split(dataset, lengths=[0.8, 0.2])"
   ]
  },
  {
   "cell_type": "code",
   "execution_count": 5,
   "id": "56273945",
   "metadata": {},
   "outputs": [],
   "source": [
    "train_loader = DataLoader(train_data, batch_size=10)\n",
    "test_loader = DataLoader(test_data, batch_size=10)"
   ]
  },
  {
   "cell_type": "code",
   "execution_count": 20,
   "id": "d479278f",
   "metadata": {},
   "outputs": [
    {
     "name": "stdout",
     "output_type": "stream",
     "text": [
      "Number of images: 10\n",
      "Number of labels: 10\n",
      "Shape of images batch: (10, 3, 240, 320)\n"
     ]
    }
   ],
   "source": [
    "iterator = iter(train_loader)\n",
    "imgs, labels = next(iterator)\n",
    "\n",
    "print(f'Number of images: {len(imgs)}')\n",
    "print(f'Number of labels: {len(labels)}')\n",
    "print(f'Shape of images batch: {np.array(imgs).shape}')"
   ]
  },
  {
   "cell_type": "code",
   "execution_count": 21,
   "id": "6f88fc2a",
   "metadata": {},
   "outputs": [
    {
     "name": "stdout",
     "output_type": "stream",
     "text": [
      "img_conv1.shape=torch.Size([64, 238, 318])\n",
      "img_pool1.shape=torch.Size([64, 119, 159])\n",
      "img_conv2.shape=torch.Size([64, 115, 155])\n",
      "img_pool2.shape=torch.Size([64, 57, 77])\n",
      "img_conv3.shape=torch.Size([64, 53, 73])\n",
      "img_pool3.shape=torch.Size([64, 26, 36])\n"
     ]
    }
   ],
   "source": [
    "# Checking Sizes of Layers\n",
    "conv1 = Conv2d(3,64,3)\n",
    "pool = MaxPool2d(2,2)\n",
    "conv2 = Conv2d(64,64,5)\n",
    "img_conv1 = conv1(dataset[0][0])\n",
    "img_pool1 = pool(img_conv1)\n",
    "img_conv2 = conv2(img_pool1)\n",
    "img_pool2 = pool(img_conv2)\n",
    "img_conv3 = conv2(img_pool2)\n",
    "img_pool3 = pool(img_conv3)\n",
    "\n",
    "print(f'{img_conv1.shape=}')\n",
    "print(f'{img_pool1.shape=}')\n",
    "print(f'{img_conv2.shape=}')\n",
    "print(f'{img_pool2.shape=}')\n",
    "print(f'{img_conv3.shape=}')\n",
    "print(f'{img_pool3.shape=}')"
   ]
  },
  {
   "cell_type": "code",
   "execution_count": 6,
   "id": "62629a91",
   "metadata": {},
   "outputs": [],
   "source": [
    "class cnn_maker(Module):\n",
    "    def __init__(self):\n",
    "        super(cnn_maker, self).__init__()\n",
    "        self.conv1 = Conv2d(in_channels=3, out_channels=32, kernel_size=3)\n",
    "        self.pool = MaxPool2d(kernel_size=2, stride=2)\n",
    "        self.conv2 = Conv2d(in_channels=32, out_channels=64, kernel_size=5)\n",
    "        self.conv3 = Conv2d(in_channels=64, out_channels=64, kernel_size=5)\n",
    "        self.fc1 = Linear(64 * 26 * 36, 128)\n",
    "        self.fc2 = Linear(128, 64)\n",
    "        self.fc3 = Linear(64, 32)\n",
    "        self.drop = Dropout()\n",
    "        self.fc_f = Linear(32, 1)\n",
    "        self.prob = Sigmoid()\n",
    "\n",
    "    def forward(self, x):\n",
    "        x = self.pool(F.relu(self.conv1(x)))\n",
    "        x = self.pool(F.relu(self.conv2(x)))\n",
    "        x = self.pool(F.relu(self.conv3(x)))\n",
    "        x = x.view(-1, 64* 26 * 36)\n",
    "        x = F.relu(self.fc1(x))\n",
    "        x = F.relu(self.fc2(x))\n",
    "        x = F.relu(self.fc3(x))\n",
    "        x = self.drop(x)\n",
    "        \n",
    "        x = self.prob(self.fc_f(x))\n",
    "        return x"
   ]
  },
  {
   "cell_type": "code",
   "execution_count": 20,
   "id": "9a6dffbc",
   "metadata": {},
   "outputs": [],
   "source": [
    "cnn = cnn_maker()\n",
    "cnn.to(device)\n",
    "criterion = torch.nn.BCELoss()\n",
    "optimizer = optim.Adagrad(cnn.parameters(), lr=1e-2)"
   ]
  },
  {
   "cell_type": "code",
   "execution_count": 13,
   "id": "9e1664a5",
   "metadata": {},
   "outputs": [
    {
     "data": {
      "text/plain": [
       "'cuda'"
      ]
     },
     "execution_count": 13,
     "metadata": {},
     "output_type": "execute_result"
    }
   ],
   "source": [
    "device"
   ]
  },
  {
   "cell_type": "code",
   "execution_count": 7,
   "id": "0a59869e",
   "metadata": {},
   "outputs": [],
   "source": [
    "def train(model, train_loader, criterion, device):\n",
    "    train_loss = 0.0\n",
    "    correct, total = 0, 0\n",
    "    for inputs, labels in train_loader:\n",
    "        inputs = inputs.to(device)  \n",
    "        labels = labels.to(device) \n",
    "\n",
    "        optimizer.zero_grad()\n",
    "        outputs = model(inputs)\n",
    "        loss = criterion(outputs, labels.reshape(-1, 1).float())\n",
    "        loss.backward()\n",
    "        optimizer.step()\n",
    "        train_loss += loss.item()\n",
    "        _, predicted = torch.max(outputs.data, 1)\n",
    "        total += labels.size(0)\n",
    "        correct += (predicted == labels).sum().item()\n",
    "        accuracy = 100 * correct / total\n",
    "    return train_loss / len(train_loader), accuracy"
   ]
  },
  {
   "cell_type": "code",
   "execution_count": 8,
   "id": "c9a904e3",
   "metadata": {},
   "outputs": [],
   "source": [
    "def validate(model, test_loader, criterion, device):\n",
    "    val_loss = 0.0\n",
    "    correct, total = 0, 0\n",
    "    with torch.no_grad():\n",
    "        for inputs, labels in test_loader:\n",
    "            inputs = inputs.to(device)  \n",
    "            labels = labels.to(device)  \n",
    "\n",
    "            outputs = model(inputs)\n",
    "            loss = criterion(outputs, labels.reshape(-1, 1).float())\n",
    "            val_loss += loss.item()\n",
    "            _, predicted = torch.max(outputs.data, 1)\n",
    "            total += labels.size(0)\n",
    "            correct += (predicted == labels).sum().item()\n",
    "        accuracy = 100 * correct / total\n",
    "        return val_loss / len(test_loader), accuracy"
   ]
  },
  {
   "cell_type": "code",
   "execution_count": 29,
   "id": "3436f6fc",
   "metadata": {
    "scrolled": true
   },
   "outputs": [
    {
     "name": "stdout",
     "output_type": "stream",
     "text": [
      "Epoch: 00 - Train loss: 0.433 - Validation loss: 0.567 \n",
      " Train Accuracy: 63.383 - Val Accuracy: 60.159\n",
      "Epoch: 01 - Train loss: 0.426 - Validation loss: 0.578 \n",
      " Train Accuracy: 63.383 - Val Accuracy: 60.159\n",
      "Epoch: 02 - Train loss: 0.416 - Validation loss: 0.574 \n",
      " Train Accuracy: 63.383 - Val Accuracy: 60.159\n",
      "Epoch: 03 - Train loss: 0.403 - Validation loss: 0.585 \n",
      " Train Accuracy: 63.383 - Val Accuracy: 60.159\n",
      "Epoch: 04 - Train loss: 0.392 - Validation loss: 0.613 \n",
      " Train Accuracy: 63.383 - Val Accuracy: 60.159\n",
      "Epoch: 05 - Train loss: 0.380 - Validation loss: 0.592 \n",
      " Train Accuracy: 63.383 - Val Accuracy: 60.159\n",
      "Epoch: 06 - Train loss: 0.365 - Validation loss: 0.639 \n",
      " Train Accuracy: 63.383 - Val Accuracy: 60.159\n",
      "Epoch: 07 - Train loss: 0.343 - Validation loss: 0.674 \n",
      " Train Accuracy: 63.383 - Val Accuracy: 60.159\n",
      "Epoch: 08 - Train loss: 0.328 - Validation loss: 0.741 \n",
      " Train Accuracy: 63.383 - Val Accuracy: 60.159\n",
      "Epoch: 09 - Train loss: 0.308 - Validation loss: 0.754 \n",
      " Train Accuracy: 63.383 - Val Accuracy: 60.159\n",
      "Epoch: 10 - Train loss: 0.299 - Validation loss: 0.820 \n",
      " Train Accuracy: 63.383 - Val Accuracy: 60.159\n",
      "Epoch: 11 - Train loss: 0.275 - Validation loss: 1.020 \n",
      " Train Accuracy: 63.383 - Val Accuracy: 60.159\n",
      "Epoch: 12 - Train loss: 0.265 - Validation loss: 0.969 \n",
      " Train Accuracy: 63.383 - Val Accuracy: 60.159\n",
      "Epoch: 13 - Train loss: 0.238 - Validation loss: 1.069 \n",
      " Train Accuracy: 63.383 - Val Accuracy: 60.159\n",
      "Epoch: 14 - Train loss: 0.219 - Validation loss: 1.122 \n",
      " Train Accuracy: 63.383 - Val Accuracy: 60.159\n",
      "Epoch: 15 - Train loss: 0.208 - Validation loss: 1.096 \n",
      " Train Accuracy: 63.383 - Val Accuracy: 60.159\n",
      "Epoch: 16 - Train loss: 0.190 - Validation loss: 1.216 \n",
      " Train Accuracy: 63.383 - Val Accuracy: 60.159\n",
      "Epoch: 17 - Train loss: 0.185 - Validation loss: 1.229 \n",
      " Train Accuracy: 63.383 - Val Accuracy: 60.159\n",
      "Epoch: 18 - Train loss: 0.167 - Validation loss: 1.230 \n",
      " Train Accuracy: 63.383 - Val Accuracy: 60.159\n",
      "Epoch: 19 - Train loss: 0.150 - Validation loss: 1.393 \n",
      " Train Accuracy: 63.383 - Val Accuracy: 60.159\n",
      "Epoch: 20 - Train loss: 0.130 - Validation loss: 1.612 \n",
      " Train Accuracy: 63.383 - Val Accuracy: 60.159\n",
      "Epoch: 21 - Train loss: 0.131 - Validation loss: 1.591 \n",
      " Train Accuracy: 63.383 - Val Accuracy: 60.159\n",
      "Epoch: 22 - Train loss: 0.116 - Validation loss: 1.554 \n",
      " Train Accuracy: 63.383 - Val Accuracy: 60.159\n",
      "Epoch: 23 - Train loss: 0.120 - Validation loss: 1.561 \n",
      " Train Accuracy: 63.383 - Val Accuracy: 60.159\n",
      "Epoch: 24 - Train loss: 0.100 - Validation loss: 1.620 \n",
      " Train Accuracy: 63.383 - Val Accuracy: 60.159\n",
      "Epoch: 25 - Train loss: 0.104 - Validation loss: 1.656 \n",
      " Train Accuracy: 63.383 - Val Accuracy: 60.159\n",
      "Epoch: 26 - Train loss: 0.084 - Validation loss: 1.487 \n",
      " Train Accuracy: 63.383 - Val Accuracy: 60.159\n",
      "Epoch: 27 - Train loss: 0.074 - Validation loss: 1.670 \n",
      " Train Accuracy: 63.383 - Val Accuracy: 60.159\n",
      "Epoch: 28 - Train loss: 0.075 - Validation loss: 2.119 \n",
      " Train Accuracy: 63.383 - Val Accuracy: 60.159\n",
      "Epoch: 29 - Train loss: 0.069 - Validation loss: 1.787 \n",
      " Train Accuracy: 63.383 - Val Accuracy: 60.159\n",
      "Epoch: 30 - Train loss: 0.071 - Validation loss: 1.744 \n",
      " Train Accuracy: 63.383 - Val Accuracy: 60.159\n",
      "Epoch: 31 - Train loss: 0.053 - Validation loss: 2.039 \n",
      " Train Accuracy: 63.383 - Val Accuracy: 60.159\n",
      "Epoch: 32 - Train loss: 0.054 - Validation loss: 2.125 \n",
      " Train Accuracy: 63.383 - Val Accuracy: 60.159\n",
      "Epoch: 33 - Train loss: 0.065 - Validation loss: 2.524 \n",
      " Train Accuracy: 63.383 - Val Accuracy: 60.159\n",
      "Epoch: 34 - Train loss: 0.048 - Validation loss: 2.222 \n",
      " Train Accuracy: 63.383 - Val Accuracy: 60.159\n",
      "Epoch: 35 - Train loss: 0.046 - Validation loss: 2.944 \n",
      " Train Accuracy: 63.383 - Val Accuracy: 60.159\n",
      "Epoch: 36 - Train loss: 0.043 - Validation loss: 3.349 \n",
      " Train Accuracy: 63.383 - Val Accuracy: 60.159\n",
      "Epoch: 37 - Train loss: 0.039 - Validation loss: 2.251 \n",
      " Train Accuracy: 63.383 - Val Accuracy: 60.159\n",
      "Epoch: 38 - Train loss: 0.030 - Validation loss: 2.671 \n",
      " Train Accuracy: 63.383 - Val Accuracy: 60.159\n",
      "Epoch: 39 - Train loss: 0.049 - Validation loss: 2.966 \n",
      " Train Accuracy: 63.383 - Val Accuracy: 60.159\n",
      "Epoch: 40 - Train loss: 0.040 - Validation loss: 3.018 \n",
      " Train Accuracy: 63.383 - Val Accuracy: 60.159\n",
      "Epoch: 41 - Train loss: 0.038 - Validation loss: 2.804 \n",
      " Train Accuracy: 63.383 - Val Accuracy: 60.159\n",
      "Epoch: 42 - Train loss: 0.028 - Validation loss: 3.364 \n",
      " Train Accuracy: 63.383 - Val Accuracy: 60.159\n",
      "Epoch: 43 - Train loss: 0.026 - Validation loss: 3.629 \n",
      " Train Accuracy: 63.383 - Val Accuracy: 60.159\n",
      "Epoch: 44 - Train loss: 0.033 - Validation loss: 3.120 \n",
      " Train Accuracy: 63.383 - Val Accuracy: 60.159\n",
      "Epoch: 45 - Train loss: 0.029 - Validation loss: 3.203 \n",
      " Train Accuracy: 63.383 - Val Accuracy: 60.159\n",
      "Epoch: 46 - Train loss: 0.026 - Validation loss: 2.570 \n",
      " Train Accuracy: 63.383 - Val Accuracy: 60.159\n",
      "Epoch: 47 - Train loss: 0.025 - Validation loss: 2.828 \n",
      " Train Accuracy: 63.383 - Val Accuracy: 60.159\n",
      "Epoch: 48 - Train loss: 0.022 - Validation loss: 3.594 \n",
      " Train Accuracy: 63.383 - Val Accuracy: 60.159\n",
      "Epoch: 49 - Train loss: 0.019 - Validation loss: 3.758 \n",
      " Train Accuracy: 63.383 - Val Accuracy: 60.159\n",
      "Epoch: 50 - Train loss: 0.022 - Validation loss: 3.628 \n",
      " Train Accuracy: 63.383 - Val Accuracy: 60.159\n",
      "Epoch: 51 - Train loss: 0.020 - Validation loss: 3.488 \n",
      " Train Accuracy: 63.383 - Val Accuracy: 60.159\n",
      "Epoch: 52 - Train loss: 0.021 - Validation loss: 4.073 \n",
      " Train Accuracy: 63.383 - Val Accuracy: 60.159\n",
      "Epoch: 53 - Train loss: 0.019 - Validation loss: 3.885 \n",
      " Train Accuracy: 63.383 - Val Accuracy: 60.159\n",
      "Epoch: 54 - Train loss: 0.018 - Validation loss: 4.051 \n",
      " Train Accuracy: 63.383 - Val Accuracy: 60.159\n",
      "Epoch: 55 - Train loss: 0.017 - Validation loss: 4.003 \n",
      " Train Accuracy: 63.383 - Val Accuracy: 60.159\n",
      "Epoch: 56 - Train loss: 0.017 - Validation loss: 4.632 \n",
      " Train Accuracy: 63.383 - Val Accuracy: 60.159\n",
      "Epoch: 57 - Train loss: 0.017 - Validation loss: 4.342 \n",
      " Train Accuracy: 63.383 - Val Accuracy: 60.159\n",
      "Epoch: 58 - Train loss: 0.017 - Validation loss: 3.970 \n",
      " Train Accuracy: 63.383 - Val Accuracy: 60.159\n",
      "Epoch: 59 - Train loss: 0.017 - Validation loss: 4.425 \n",
      " Train Accuracy: 63.383 - Val Accuracy: 60.159\n",
      "Epoch: 60 - Train loss: 0.015 - Validation loss: 4.713 \n",
      " Train Accuracy: 63.383 - Val Accuracy: 60.159\n",
      "Epoch: 61 - Train loss: 0.023 - Validation loss: 4.244 \n",
      " Train Accuracy: 63.383 - Val Accuracy: 60.159\n",
      "Epoch: 62 - Train loss: 0.025 - Validation loss: 5.098 \n",
      " Train Accuracy: 63.383 - Val Accuracy: 60.159\n",
      "Epoch: 63 - Train loss: 0.017 - Validation loss: 4.289 \n",
      " Train Accuracy: 63.383 - Val Accuracy: 60.159\n",
      "Epoch: 64 - Train loss: 0.016 - Validation loss: 4.242 \n",
      " Train Accuracy: 63.383 - Val Accuracy: 60.159\n",
      "Epoch: 65 - Train loss: 0.018 - Validation loss: 5.180 \n",
      " Train Accuracy: 63.383 - Val Accuracy: 60.159\n",
      "Epoch: 66 - Train loss: 0.016 - Validation loss: 4.423 \n",
      " Train Accuracy: 63.383 - Val Accuracy: 60.159\n",
      "Epoch: 67 - Train loss: 0.015 - Validation loss: 4.898 \n",
      " Train Accuracy: 63.383 - Val Accuracy: 60.159\n",
      "Epoch: 68 - Train loss: 0.014 - Validation loss: 4.239 \n",
      " Train Accuracy: 63.383 - Val Accuracy: 60.159\n",
      "Epoch: 69 - Train loss: 0.015 - Validation loss: 5.696 \n",
      " Train Accuracy: 63.383 - Val Accuracy: 60.159\n",
      "Epoch: 70 - Train loss: 0.015 - Validation loss: 5.401 \n",
      " Train Accuracy: 63.383 - Val Accuracy: 60.159\n",
      "Epoch: 71 - Train loss: 0.018 - Validation loss: 4.885 \n",
      " Train Accuracy: 63.383 - Val Accuracy: 60.159\n",
      "Epoch: 72 - Train loss: 0.021 - Validation loss: 4.175 \n",
      " Train Accuracy: 63.383 - Val Accuracy: 60.159\n",
      "Epoch: 73 - Train loss: 0.015 - Validation loss: 4.452 \n",
      " Train Accuracy: 63.383 - Val Accuracy: 60.159\n",
      "Epoch: 74 - Train loss: 0.015 - Validation loss: 4.747 \n",
      " Train Accuracy: 63.383 - Val Accuracy: 60.159\n",
      "Epoch: 75 - Train loss: 0.015 - Validation loss: 4.747 \n",
      " Train Accuracy: 63.383 - Val Accuracy: 60.159\n",
      "Epoch: 76 - Train loss: 0.014 - Validation loss: 5.127 \n",
      " Train Accuracy: 63.383 - Val Accuracy: 60.159\n",
      "Epoch: 77 - Train loss: 0.015 - Validation loss: 5.100 \n",
      " Train Accuracy: 63.383 - Val Accuracy: 60.159\n",
      "Epoch: 78 - Train loss: 0.014 - Validation loss: 4.985 \n",
      " Train Accuracy: 63.383 - Val Accuracy: 60.159\n",
      "Epoch: 79 - Train loss: 0.016 - Validation loss: 5.393 \n",
      " Train Accuracy: 63.383 - Val Accuracy: 60.159\n"
     ]
    },
    {
     "name": "stdout",
     "output_type": "stream",
     "text": [
      "Epoch: 80 - Train loss: 0.015 - Validation loss: 5.185 \n",
      " Train Accuracy: 63.383 - Val Accuracy: 60.159\n",
      "Epoch: 81 - Train loss: 0.015 - Validation loss: 5.245 \n",
      " Train Accuracy: 63.383 - Val Accuracy: 60.159\n",
      "Epoch: 82 - Train loss: 0.015 - Validation loss: 5.113 \n",
      " Train Accuracy: 63.383 - Val Accuracy: 60.159\n",
      "Epoch: 83 - Train loss: 0.014 - Validation loss: 4.992 \n",
      " Train Accuracy: 63.383 - Val Accuracy: 60.159\n",
      "Epoch: 84 - Train loss: 0.014 - Validation loss: 5.766 \n",
      " Train Accuracy: 63.383 - Val Accuracy: 60.159\n",
      "Epoch: 85 - Train loss: 0.014 - Validation loss: 5.461 \n",
      " Train Accuracy: 63.383 - Val Accuracy: 60.159\n",
      "Epoch: 86 - Train loss: 0.014 - Validation loss: 5.329 \n",
      " Train Accuracy: 63.383 - Val Accuracy: 60.159\n",
      "Epoch: 87 - Train loss: 0.014 - Validation loss: 6.094 \n",
      " Train Accuracy: 63.383 - Val Accuracy: 60.159\n",
      "Epoch: 88 - Train loss: 0.014 - Validation loss: 5.972 \n",
      " Train Accuracy: 63.383 - Val Accuracy: 60.159\n",
      "Epoch: 89 - Train loss: 0.014 - Validation loss: 6.500 \n",
      " Train Accuracy: 63.383 - Val Accuracy: 60.159\n",
      "Epoch: 90 - Train loss: 0.014 - Validation loss: 5.431 \n",
      " Train Accuracy: 63.383 - Val Accuracy: 60.159\n",
      "Epoch: 91 - Train loss: 0.014 - Validation loss: 6.413 \n",
      " Train Accuracy: 63.383 - Val Accuracy: 60.159\n",
      "Epoch: 92 - Train loss: 0.014 - Validation loss: 6.410 \n",
      " Train Accuracy: 63.383 - Val Accuracy: 60.159\n",
      "Epoch: 93 - Train loss: 0.015 - Validation loss: 5.637 \n",
      " Train Accuracy: 63.383 - Val Accuracy: 60.159\n",
      "Epoch: 94 - Train loss: 0.014 - Validation loss: 6.408 \n",
      " Train Accuracy: 63.383 - Val Accuracy: 60.159\n",
      "Epoch: 95 - Train loss: 0.015 - Validation loss: 6.468 \n",
      " Train Accuracy: 63.383 - Val Accuracy: 60.159\n",
      "Epoch: 96 - Train loss: 0.014 - Validation loss: 6.180 \n",
      " Train Accuracy: 63.383 - Val Accuracy: 60.159\n",
      "Epoch: 97 - Train loss: 0.014 - Validation loss: 6.726 \n",
      " Train Accuracy: 63.383 - Val Accuracy: 60.159\n",
      "Epoch: 98 - Train loss: 0.014 - Validation loss: 6.178 \n",
      " Train Accuracy: 63.383 - Val Accuracy: 60.159\n",
      "Epoch: 99 - Train loss: 0.014 - Validation loss: 6.769 \n",
      " Train Accuracy: 63.383 - Val Accuracy: 60.159\n"
     ]
    }
   ],
   "source": [
    "best_val_loss = float('inf')\n",
    "for epoch in range(100):\n",
    "    train_loss, train_accuracy = train(cnn, train_loader, criterion, device)\n",
    "    val_loss, val_accuracy = validate(cnn, test_loader, criterion, device)\n",
    "    \n",
    "    if val_loss < best_val_loss:\n",
    "        best_val_loss = val_loss\n",
    "        patience = 0\n",
    "        torch.save(cnn.state_dict(), 'model.p')\n",
    "    \n",
    "    else: \n",
    "        patience += 1\n",
    "    \"\"\"\n",
    "    if patience > 3:\n",
    "        print('Early stopping reached')\n",
    "        break\n",
    "    \"\"\"\n",
    "    print(f\"Epoch: {epoch:02} - Train loss: {train_loss:02.3f} - Validation loss: {val_loss:02.3f} \\n Train Accuracy: {train_accuracy:02.3f} - Val Accuracy: {val_accuracy:02.3f}\")"
   ]
  },
  {
   "cell_type": "markdown",
   "id": "e097cee0",
   "metadata": {},
   "source": [
    "# Try the other method"
   ]
  },
  {
   "cell_type": "code",
   "execution_count": 31,
   "id": "1edd948c",
   "metadata": {},
   "outputs": [
    {
     "data": {
      "text/plain": [
       "<class 'skorch.classifier.NeuralNetBinaryClassifier'>[initialized](\n",
       "  module_=cnn_maker(\n",
       "    (conv1): Conv2d(3, 32, kernel_size=(3, 3), stride=(1, 1))\n",
       "    (pool): MaxPool2d(kernel_size=2, stride=2, padding=0, dilation=1, ceil_mode=False)\n",
       "    (conv2): Conv2d(32, 64, kernel_size=(5, 5), stride=(1, 1))\n",
       "    (conv3): Conv2d(64, 64, kernel_size=(5, 5), stride=(1, 1))\n",
       "    (fc1): Linear(in_features=59904, out_features=128, bias=True)\n",
       "    (fc2): Linear(in_features=128, out_features=64, bias=True)\n",
       "    (fc3): Linear(in_features=64, out_features=32, bias=True)\n",
       "    (drop): Dropout(p=0.5, inplace=False)\n",
       "    (fc_f): Linear(in_features=32, out_features=1, bias=True)\n",
       "    (prob): Sigmoid()\n",
       "  ),\n",
       ")"
      ]
     },
     "execution_count": 31,
     "metadata": {},
     "output_type": "execute_result"
    }
   ],
   "source": [
    "from skorch.callbacks import EpochScoring\n",
    "model = skorch.NeuralNetBinaryClassifier(cnn_maker, criterion = torch.nn.BCELoss, \n",
    "                                         optimizer = optim.Adagrad, max_epochs = 12, \n",
    "                                         batch_size = 10, device='cuda', \n",
    "                                         callbacks=[EpochScoring(scoring='accuracy', name='train_acc', on_train=True)] \n",
    "                                        )\n",
    "model.initialize()"
   ]
  },
  {
   "cell_type": "code",
   "execution_count": 32,
   "id": "c12c195e",
   "metadata": {},
   "outputs": [],
   "source": [
    "x = [] \n",
    "y = []\n",
    "for i in train_loader:\n",
    "    try:\n",
    "        x.append(np.array(i[0]))\n",
    "        y.append(np.array(i[1]))\n",
    "    except:\n",
    "        continue"
   ]
  },
  {
   "cell_type": "code",
   "execution_count": 33,
   "id": "f5c55def",
   "metadata": {},
   "outputs": [],
   "source": [
    "x_full = np.concatenate(x, axis = 0)\n",
    "y_full = np.concatenate(y, axis = 0)"
   ]
  },
  {
   "cell_type": "code",
   "execution_count": 34,
   "id": "548e2860",
   "metadata": {},
   "outputs": [
    {
     "name": "stdout",
     "output_type": "stream",
     "text": [
      "Re-initializing module.\n",
      "Re-initializing criterion.\n",
      "Re-initializing optimizer.\n",
      "  epoch    train_acc    train_loss    valid_acc    valid_loss      dur\n",
      "-------  -----------  ------------  -----------  ------------  -------\n",
      "      1       \u001b[36m0.6405\u001b[0m        \u001b[32m0.8720\u001b[0m       \u001b[35m0.7289\u001b[0m        \u001b[31m0.5950\u001b[0m  14.5250\n",
      "      2       0.6984        \u001b[32m0.5678\u001b[0m       0.6965        \u001b[31m0.5603\u001b[0m  14.3768\n",
      "      3       0.7214        \u001b[32m0.5593\u001b[0m       0.7264        \u001b[31m0.5358\u001b[0m  14.4792\n",
      "      4       0.7419        \u001b[32m0.5331\u001b[0m       0.7065        0.5611  14.4429\n",
      "      5       0.7407        \u001b[32m0.5191\u001b[0m       \u001b[35m0.7587\u001b[0m        \u001b[31m0.5206\u001b[0m  14.3113\n",
      "      6       0.7544        \u001b[32m0.5146\u001b[0m       0.7537        \u001b[31m0.5062\u001b[0m  14.3329\n",
      "      7       0.7544        \u001b[32m0.5031\u001b[0m       0.7562        0.5075  14.3589\n",
      "      8       0.7531        \u001b[32m0.4983\u001b[0m       0.7537        \u001b[31m0.5060\u001b[0m  14.4704\n",
      "      9       0.7649        \u001b[32m0.4881\u001b[0m       \u001b[35m0.7612\u001b[0m        0.5091  14.4206\n",
      "     10       0.7612        \u001b[32m0.4781\u001b[0m       0.7562        \u001b[31m0.4925\u001b[0m  14.4080\n",
      "     11       0.7624        \u001b[32m0.4694\u001b[0m       0.7562        \u001b[31m0.4844\u001b[0m  14.3874\n",
      "     12       0.7724        \u001b[32m0.4613\u001b[0m       0.7562        0.4871  14.1965\n"
     ]
    },
    {
     "data": {
      "text/plain": [
       "<class 'skorch.classifier.NeuralNetBinaryClassifier'>[initialized](\n",
       "  module_=cnn_maker(\n",
       "    (conv1): Conv2d(3, 32, kernel_size=(3, 3), stride=(1, 1))\n",
       "    (pool): MaxPool2d(kernel_size=2, stride=2, padding=0, dilation=1, ceil_mode=False)\n",
       "    (conv2): Conv2d(32, 64, kernel_size=(5, 5), stride=(1, 1))\n",
       "    (conv3): Conv2d(64, 64, kernel_size=(5, 5), stride=(1, 1))\n",
       "    (fc1): Linear(in_features=59904, out_features=128, bias=True)\n",
       "    (fc2): Linear(in_features=128, out_features=64, bias=True)\n",
       "    (fc3): Linear(in_features=64, out_features=32, bias=True)\n",
       "    (drop): Dropout(p=0.5, inplace=False)\n",
       "    (fc_f): Linear(in_features=32, out_features=1, bias=True)\n",
       "    (prob): Sigmoid()\n",
       "  ),\n",
       ")"
      ]
     },
     "execution_count": 34,
     "metadata": {},
     "output_type": "execute_result"
    }
   ],
   "source": [
    "model.fit(x_full, y_full.astype(np.float32))"
   ]
  },
  {
   "cell_type": "code",
   "execution_count": 35,
   "id": "4fd7d3f7",
   "metadata": {},
   "outputs": [
    {
     "data": {
      "text/plain": [
       "[<matplotlib.lines.Line2D at 0x201c9429220>]"
      ]
     },
     "execution_count": 35,
     "metadata": {},
     "output_type": "execute_result"
    },
    {
     "data": {
      "image/png": "[encoded data removed]",
      "text/plain": [
       "<Figure size 640x480 with 1 Axes>"
      ]
     },
     "metadata": {},
     "output_type": "display_data"
    }
   ],
   "source": [
    "plt.plot(model.history[:, 'train_acc'])\n",
    "plt.plot(model.history[:, 'valid_acc'])"
   ]
  },
  {
   "cell_type": "code",
   "execution_count": 36,
   "id": "c0db909d",
   "metadata": {},
   "outputs": [],
   "source": [
    "import pickle as pkl\n",
    "pkl.dump(model, open('cnn_model1.pkl', 'wb'))"
   ]
  },
  {
   "cell_type": "code",
   "execution_count": null,
   "id": "97b97fc8",
   "metadata": {},
   "outputs": [],
   "source": []
  }
 ],
 "metadata": {
  "kernelspec": {
   "display_name": "Python 3 (ipykernel)",
   "language": "python",
   "name": "python3"
  },
  "language_info": {
   "codemirror_mode": {
    "name": "ipython",
    "version": 3
   },
   "file_extension": ".py",
   "mimetype": "text/x-python",
   "name": "python",
   "nbconvert_exporter": "python",
   "pygments_lexer": "ipython3",
   "version": "3.9.13"
  }
 },
 "nbformat": 4,
 "nbformat_minor": 5
}
